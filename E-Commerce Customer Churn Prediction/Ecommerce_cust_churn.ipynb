{
 "cells": [
  {
   "cell_type": "markdown",
   "metadata": {},
   "source": [
    "# 1. Perkenalan\n",
    "\n",
    "- Nama        : Sanggeni Gali Wardhana\n",
    "- Batch       : FTDS-011\n",
    "- Dataset     : E_Commerce_Dataset\n",
    "- Objective   : Customer Churn Prediction\n",
    "\n",
    "**Milestone 2**"
   ]
  },
  {
   "cell_type": "markdown",
   "metadata": {},
   "source": [
    "Pada data ini terdapat data Customer dengan berbagai data demografi, kegiatan terakhir customer saat membeli barang di aplikasi e-commerce, jumlah berapa kali order, dan sebagainya. Data ini akan digunakan untuk memprediksi kemungkinan churn dari customer sehingga dapat ditemukan solusi untuk menghindari churn dari customer tersebut. Data yang tersedia pada dataset ini adalah : "
   ]
  },
  {
   "cell_type": "markdown",
   "metadata": {},
   "source": [
    "\n",
    "1.\tCustomerID\t: Unique customer ID\n",
    "2.\tChurn : Churn Flag\n",
    "3.\tTenure :\tTenure of customer in organization\n",
    "4.\tPreferredLoginDevice : Preferred login device of customer\n",
    "5.\tCityTier : City tier\n",
    "6.\tWarehouseToHome : Distance in between warehouse to home of customer\n",
    "7.\tPreferredPaymentMode : Preferred payment method of customer\n",
    "8.\tGender : Gender of customer\n",
    "9.\tHourSpendOnApp : Number of hours spend on mobile application or...\n",
    "10.\tNumberOfDeviceRegistered : Total number of deceives is registered on part...\n",
    "11.\tPreferedOrderCat : Preferred order category of customer in last m...\n",
    "12.\tSatisfactionScore : Satisfactory score of customer on service\n",
    "13.\tMaritalStatus : Marital status of customer\n",
    "14.\tNumberOfAddress : Total number of added added on particular cust...\n",
    "15.\tComplain : Any complaint has been raised in last month\n",
    "16.\tOrderAmountHikeFromlastYear : Percentage increases in order from last year\n",
    "17.\tCouponUsed : Total number of coupon has been used in last m...\n",
    "18.\tOrderCount : Total number of orders has been places in last...\n",
    "19.\tDaySinceLastOrder : Day Since last order by customer\n",
    "20.\tCashbackAmount : Average cashback in last month"
   ]
  },
  {
   "cell_type": "markdown",
   "metadata": {},
   "source": [
    "Objective yang ditentukan adalah :\n",
    "\n",
    "- **Menentukan data yang berkorelasi atau mempengaruhi kemungkinan churn dari pelanggan.**\n",
    "- **Membuat model machine learning menggunakan beberapa algoritma, lalu membandingkan performa beberapa algoritma tersebut dalam memprediksi kemungkinan churn dari pelanggan e-commerce.**"
   ]
  },
  {
   "cell_type": "markdown",
   "metadata": {},
   "source": [
    "---\n",
    "# 2. Import Library"
   ]
  },
  {
   "cell_type": "code",
   "execution_count": 1,
   "metadata": {},
   "outputs": [],
   "source": [
    "# Import Libraries\n",
    "\n",
    "import pandas as pd\n",
    "import numpy as np\n",
    " \n",
    "import seaborn as sns \n",
    "import matplotlib.pyplot as plt\n",
    "\n",
    "from feature_engine.outliers import Winsorizer\n",
    "\n",
    "from sklearn.compose import ColumnTransformer\n",
    "from sklearn.pipeline import Pipeline\n",
    "from sklearn.impute import SimpleImputer\n",
    "from imblearn.over_sampling import SMOTENC\n",
    "from sklearn.preprocessing import OrdinalEncoder, OneHotEncoder, MinMaxScaler\n",
    "from sklearn.model_selection import train_test_split, cross_val_score, GridSearchCV\n",
    "from sklearn.linear_model import LogisticRegression\n",
    "from sklearn.svm import SVC\n",
    "from sklearn.tree import DecisionTreeClassifier\n",
    "from sklearn.ensemble import RandomForestClassifier, GradientBoostingClassifier, AdaBoostClassifier\n",
    "from sklearn.neighbors import KNeighborsClassifier\n",
    "from sklearn.naive_bayes import GaussianNB, MultinomialNB\n",
    "from sklearn.metrics import accuracy_score,classification_report,ConfusionMatrixDisplay,confusion_matrix, roc_auc_score\n",
    "\n",
    "import warnings\n",
    "warnings.filterwarnings(\"ignore\")\n",
    "\n",
    "import pickle\n",
    "import ast"
   ]
  },
  {
   "cell_type": "markdown",
   "metadata": {},
   "source": [
    "---\n",
    "# 3. Data Loading"
   ]
  },
  {
   "cell_type": "markdown",
   "metadata": {},
   "source": [
    "Pada tahapan ini, data yang digunakan adalah dalam format excel yang terdiri dari 2 sheet yaitu Data Dictionary dan Data mengenai customer e-commerce itu sendiri. Tahap pertama adalah melakukan read data menggunakan pandas."
   ]
  },
  {
   "cell_type": "code",
   "execution_count": 2,
   "metadata": {},
   "outputs": [
    {
     "data": {
      "text/html": [
       "<div>\n",
       "<style scoped>\n",
       "    .dataframe tbody tr th:only-of-type {\n",
       "        vertical-align: middle;\n",
       "    }\n",
       "\n",
       "    .dataframe tbody tr th {\n",
       "        vertical-align: top;\n",
       "    }\n",
       "\n",
       "    .dataframe thead th {\n",
       "        text-align: right;\n",
       "    }\n",
       "</style>\n",
       "<table border=\"1\" class=\"dataframe\">\n",
       "  <thead>\n",
       "    <tr style=\"text-align: right;\">\n",
       "      <th></th>\n",
       "      <th>CustomerID</th>\n",
       "      <th>Churn</th>\n",
       "      <th>Tenure</th>\n",
       "      <th>PreferredLoginDevice</th>\n",
       "      <th>CityTier</th>\n",
       "      <th>WarehouseToHome</th>\n",
       "      <th>PreferredPaymentMode</th>\n",
       "      <th>Gender</th>\n",
       "      <th>HourSpendOnApp</th>\n",
       "      <th>NumberOfDeviceRegistered</th>\n",
       "      <th>PreferedOrderCat</th>\n",
       "      <th>SatisfactionScore</th>\n",
       "      <th>MaritalStatus</th>\n",
       "      <th>NumberOfAddress</th>\n",
       "      <th>Complain</th>\n",
       "      <th>OrderAmountHikeFromlastYear</th>\n",
       "      <th>CouponUsed</th>\n",
       "      <th>OrderCount</th>\n",
       "      <th>DaySinceLastOrder</th>\n",
       "      <th>CashbackAmount</th>\n",
       "    </tr>\n",
       "  </thead>\n",
       "  <tbody>\n",
       "    <tr>\n",
       "      <th>0</th>\n",
       "      <td>50001</td>\n",
       "      <td>1</td>\n",
       "      <td>4.0</td>\n",
       "      <td>Mobile Phone</td>\n",
       "      <td>3</td>\n",
       "      <td>6.0</td>\n",
       "      <td>Debit Card</td>\n",
       "      <td>Female</td>\n",
       "      <td>3.0</td>\n",
       "      <td>3</td>\n",
       "      <td>Laptop &amp; Accessory</td>\n",
       "      <td>2</td>\n",
       "      <td>Single</td>\n",
       "      <td>9</td>\n",
       "      <td>1</td>\n",
       "      <td>11.0</td>\n",
       "      <td>1.0</td>\n",
       "      <td>1.0</td>\n",
       "      <td>5.0</td>\n",
       "      <td>159.93</td>\n",
       "    </tr>\n",
       "    <tr>\n",
       "      <th>1</th>\n",
       "      <td>50002</td>\n",
       "      <td>1</td>\n",
       "      <td>NaN</td>\n",
       "      <td>Phone</td>\n",
       "      <td>1</td>\n",
       "      <td>8.0</td>\n",
       "      <td>UPI</td>\n",
       "      <td>Male</td>\n",
       "      <td>3.0</td>\n",
       "      <td>4</td>\n",
       "      <td>Mobile</td>\n",
       "      <td>3</td>\n",
       "      <td>Single</td>\n",
       "      <td>7</td>\n",
       "      <td>1</td>\n",
       "      <td>15.0</td>\n",
       "      <td>0.0</td>\n",
       "      <td>1.0</td>\n",
       "      <td>0.0</td>\n",
       "      <td>120.90</td>\n",
       "    </tr>\n",
       "    <tr>\n",
       "      <th>2</th>\n",
       "      <td>50003</td>\n",
       "      <td>1</td>\n",
       "      <td>NaN</td>\n",
       "      <td>Phone</td>\n",
       "      <td>1</td>\n",
       "      <td>30.0</td>\n",
       "      <td>Debit Card</td>\n",
       "      <td>Male</td>\n",
       "      <td>2.0</td>\n",
       "      <td>4</td>\n",
       "      <td>Mobile</td>\n",
       "      <td>3</td>\n",
       "      <td>Single</td>\n",
       "      <td>6</td>\n",
       "      <td>1</td>\n",
       "      <td>14.0</td>\n",
       "      <td>0.0</td>\n",
       "      <td>1.0</td>\n",
       "      <td>3.0</td>\n",
       "      <td>120.28</td>\n",
       "    </tr>\n",
       "    <tr>\n",
       "      <th>3</th>\n",
       "      <td>50004</td>\n",
       "      <td>1</td>\n",
       "      <td>0.0</td>\n",
       "      <td>Phone</td>\n",
       "      <td>3</td>\n",
       "      <td>15.0</td>\n",
       "      <td>Debit Card</td>\n",
       "      <td>Male</td>\n",
       "      <td>2.0</td>\n",
       "      <td>4</td>\n",
       "      <td>Laptop &amp; Accessory</td>\n",
       "      <td>5</td>\n",
       "      <td>Single</td>\n",
       "      <td>8</td>\n",
       "      <td>0</td>\n",
       "      <td>23.0</td>\n",
       "      <td>0.0</td>\n",
       "      <td>1.0</td>\n",
       "      <td>3.0</td>\n",
       "      <td>134.07</td>\n",
       "    </tr>\n",
       "    <tr>\n",
       "      <th>4</th>\n",
       "      <td>50005</td>\n",
       "      <td>1</td>\n",
       "      <td>0.0</td>\n",
       "      <td>Phone</td>\n",
       "      <td>1</td>\n",
       "      <td>12.0</td>\n",
       "      <td>CC</td>\n",
       "      <td>Male</td>\n",
       "      <td>NaN</td>\n",
       "      <td>3</td>\n",
       "      <td>Mobile</td>\n",
       "      <td>5</td>\n",
       "      <td>Single</td>\n",
       "      <td>3</td>\n",
       "      <td>0</td>\n",
       "      <td>11.0</td>\n",
       "      <td>1.0</td>\n",
       "      <td>1.0</td>\n",
       "      <td>3.0</td>\n",
       "      <td>129.60</td>\n",
       "    </tr>\n",
       "  </tbody>\n",
       "</table>\n",
       "</div>"
      ],
      "text/plain": [
       "   CustomerID  Churn  Tenure PreferredLoginDevice  CityTier  WarehouseToHome  \\\n",
       "0       50001      1     4.0         Mobile Phone         3              6.0   \n",
       "1       50002      1     NaN                Phone         1              8.0   \n",
       "2       50003      1     NaN                Phone         1             30.0   \n",
       "3       50004      1     0.0                Phone         3             15.0   \n",
       "4       50005      1     0.0                Phone         1             12.0   \n",
       "\n",
       "  PreferredPaymentMode  Gender  HourSpendOnApp  NumberOfDeviceRegistered  \\\n",
       "0           Debit Card  Female             3.0                         3   \n",
       "1                  UPI    Male             3.0                         4   \n",
       "2           Debit Card    Male             2.0                         4   \n",
       "3           Debit Card    Male             2.0                         4   \n",
       "4                   CC    Male             NaN                         3   \n",
       "\n",
       "     PreferedOrderCat  SatisfactionScore MaritalStatus  NumberOfAddress  \\\n",
       "0  Laptop & Accessory                  2        Single                9   \n",
       "1              Mobile                  3        Single                7   \n",
       "2              Mobile                  3        Single                6   \n",
       "3  Laptop & Accessory                  5        Single                8   \n",
       "4              Mobile                  5        Single                3   \n",
       "\n",
       "   Complain  OrderAmountHikeFromlastYear  CouponUsed  OrderCount  \\\n",
       "0         1                         11.0         1.0         1.0   \n",
       "1         1                         15.0         0.0         1.0   \n",
       "2         1                         14.0         0.0         1.0   \n",
       "3         0                         23.0         0.0         1.0   \n",
       "4         0                         11.0         1.0         1.0   \n",
       "\n",
       "   DaySinceLastOrder  CashbackAmount  \n",
       "0                5.0          159.93  \n",
       "1                0.0          120.90  \n",
       "2                3.0          120.28  \n",
       "3                3.0          134.07  \n",
       "4                3.0          129.60  "
      ]
     },
     "execution_count": 2,
     "metadata": {},
     "output_type": "execute_result"
    }
   ],
   "source": [
    "dict = pd.read_excel('E_Commerce_Dataset.xlsx', sheet_name = \"Data Dict\")\n",
    "data = pd.read_excel('E_Commerce_Dataset.xlsx', sheet_name = \"E Comm\")\n",
    "pd.set_option('display.max_columns', None)\n",
    "data.head(5)"
   ]
  },
  {
   "cell_type": "markdown",
   "metadata": {},
   "source": [
    "Tabel diatas adalah tabel data yang digunakan."
   ]
  },
  {
   "cell_type": "code",
   "execution_count": 3,
   "metadata": {},
   "outputs": [
    {
     "data": {
      "text/html": [
       "<div>\n",
       "<style scoped>\n",
       "    .dataframe tbody tr th:only-of-type {\n",
       "        vertical-align: middle;\n",
       "    }\n",
       "\n",
       "    .dataframe tbody tr th {\n",
       "        vertical-align: top;\n",
       "    }\n",
       "\n",
       "    .dataframe thead th {\n",
       "        text-align: right;\n",
       "    }\n",
       "</style>\n",
       "<table border=\"1\" class=\"dataframe\">\n",
       "  <thead>\n",
       "    <tr style=\"text-align: right;\">\n",
       "      <th></th>\n",
       "      <th>Feature</th>\n",
       "      <th>Explanation</th>\n",
       "    </tr>\n",
       "  </thead>\n",
       "  <tbody>\n",
       "    <tr>\n",
       "      <th>0</th>\n",
       "      <td>Variable</td>\n",
       "      <td>Discerption</td>\n",
       "    </tr>\n",
       "    <tr>\n",
       "      <th>1</th>\n",
       "      <td>CustomerID</td>\n",
       "      <td>Unique customer ID</td>\n",
       "    </tr>\n",
       "    <tr>\n",
       "      <th>2</th>\n",
       "      <td>Churn</td>\n",
       "      <td>Churn Flag</td>\n",
       "    </tr>\n",
       "    <tr>\n",
       "      <th>3</th>\n",
       "      <td>Tenure</td>\n",
       "      <td>Tenure of customer in organization</td>\n",
       "    </tr>\n",
       "    <tr>\n",
       "      <th>4</th>\n",
       "      <td>PreferredLoginDevice</td>\n",
       "      <td>Preferred login device of customer</td>\n",
       "    </tr>\n",
       "    <tr>\n",
       "      <th>5</th>\n",
       "      <td>CityTier</td>\n",
       "      <td>City tier</td>\n",
       "    </tr>\n",
       "    <tr>\n",
       "      <th>6</th>\n",
       "      <td>WarehouseToHome</td>\n",
       "      <td>Distance in between warehouse to home of customer</td>\n",
       "    </tr>\n",
       "    <tr>\n",
       "      <th>7</th>\n",
       "      <td>PreferredPaymentMode</td>\n",
       "      <td>Preferred payment method of customer</td>\n",
       "    </tr>\n",
       "    <tr>\n",
       "      <th>8</th>\n",
       "      <td>Gender</td>\n",
       "      <td>Gender of customer</td>\n",
       "    </tr>\n",
       "    <tr>\n",
       "      <th>9</th>\n",
       "      <td>HourSpendOnApp</td>\n",
       "      <td>Number of hours spend on mobile application or...</td>\n",
       "    </tr>\n",
       "    <tr>\n",
       "      <th>10</th>\n",
       "      <td>NumberOfDeviceRegistered</td>\n",
       "      <td>Total number of deceives is registered on part...</td>\n",
       "    </tr>\n",
       "    <tr>\n",
       "      <th>11</th>\n",
       "      <td>PreferedOrderCat</td>\n",
       "      <td>Preferred order category of customer in last m...</td>\n",
       "    </tr>\n",
       "    <tr>\n",
       "      <th>12</th>\n",
       "      <td>SatisfactionScore</td>\n",
       "      <td>Satisfactory score of customer on service</td>\n",
       "    </tr>\n",
       "    <tr>\n",
       "      <th>13</th>\n",
       "      <td>MaritalStatus</td>\n",
       "      <td>Marital status of customer</td>\n",
       "    </tr>\n",
       "    <tr>\n",
       "      <th>14</th>\n",
       "      <td>NumberOfAddress</td>\n",
       "      <td>Total number of added added on particular cust...</td>\n",
       "    </tr>\n",
       "    <tr>\n",
       "      <th>15</th>\n",
       "      <td>Complain</td>\n",
       "      <td>Any complaint has been raised in last month</td>\n",
       "    </tr>\n",
       "    <tr>\n",
       "      <th>16</th>\n",
       "      <td>OrderAmountHikeFromlastYear</td>\n",
       "      <td>Percentage increases in order from last year</td>\n",
       "    </tr>\n",
       "    <tr>\n",
       "      <th>17</th>\n",
       "      <td>CouponUsed</td>\n",
       "      <td>Total number of coupon has been used in last m...</td>\n",
       "    </tr>\n",
       "    <tr>\n",
       "      <th>18</th>\n",
       "      <td>OrderCount</td>\n",
       "      <td>Total number of orders has been places in last...</td>\n",
       "    </tr>\n",
       "    <tr>\n",
       "      <th>19</th>\n",
       "      <td>DaySinceLastOrder</td>\n",
       "      <td>Day Since last order by customer</td>\n",
       "    </tr>\n",
       "    <tr>\n",
       "      <th>20</th>\n",
       "      <td>CashbackAmount</td>\n",
       "      <td>Average cashback in last month</td>\n",
       "    </tr>\n",
       "  </tbody>\n",
       "</table>\n",
       "</div>"
      ],
      "text/plain": [
       "                        Feature  \\\n",
       "0                      Variable   \n",
       "1                    CustomerID   \n",
       "2                         Churn   \n",
       "3                        Tenure   \n",
       "4          PreferredLoginDevice   \n",
       "5                      CityTier   \n",
       "6               WarehouseToHome   \n",
       "7          PreferredPaymentMode   \n",
       "8                        Gender   \n",
       "9                HourSpendOnApp   \n",
       "10     NumberOfDeviceRegistered   \n",
       "11             PreferedOrderCat   \n",
       "12            SatisfactionScore   \n",
       "13                MaritalStatus   \n",
       "14              NumberOfAddress   \n",
       "15                     Complain   \n",
       "16  OrderAmountHikeFromlastYear   \n",
       "17                   CouponUsed   \n",
       "18                   OrderCount   \n",
       "19            DaySinceLastOrder   \n",
       "20               CashbackAmount   \n",
       "\n",
       "                                          Explanation  \n",
       "0                                         Discerption  \n",
       "1                                  Unique customer ID  \n",
       "2                                          Churn Flag  \n",
       "3                  Tenure of customer in organization  \n",
       "4                  Preferred login device of customer  \n",
       "5                                           City tier  \n",
       "6   Distance in between warehouse to home of customer  \n",
       "7                Preferred payment method of customer  \n",
       "8                                  Gender of customer  \n",
       "9   Number of hours spend on mobile application or...  \n",
       "10  Total number of deceives is registered on part...  \n",
       "11  Preferred order category of customer in last m...  \n",
       "12          Satisfactory score of customer on service  \n",
       "13                         Marital status of customer  \n",
       "14  Total number of added added on particular cust...  \n",
       "15        Any complaint has been raised in last month  \n",
       "16       Percentage increases in order from last year  \n",
       "17  Total number of coupon has been used in last m...  \n",
       "18  Total number of orders has been places in last...  \n",
       "19                   Day Since last order by customer  \n",
       "20                     Average cashback in last month  "
      ]
     },
     "execution_count": 3,
     "metadata": {},
     "output_type": "execute_result"
    }
   ],
   "source": [
    "dict = dict[['Unnamed: 2','Unnamed: 3']]\n",
    "dict = dict.rename(columns={'Unnamed: 2':'Feature', 'Unnamed: 3':'Explanation'})\n",
    "dict"
   ]
  },
  {
   "cell_type": "markdown",
   "metadata": {},
   "source": [
    "Tabel diatas adalah dictionary atau penjelasan dari setiap kolom pada data."
   ]
  },
  {
   "cell_type": "code",
   "execution_count": 4,
   "metadata": {},
   "outputs": [],
   "source": [
    "data_copy=data.copy()"
   ]
  },
  {
   "cell_type": "markdown",
   "metadata": {},
   "source": [
    "Setelah itu dilakukan copy data untuk menyimpan data original."
   ]
  },
  {
   "cell_type": "code",
   "execution_count": 5,
   "metadata": {},
   "outputs": [
    {
     "name": "stdout",
     "output_type": "stream",
     "text": [
      "<class 'pandas.core.frame.DataFrame'>\n",
      "RangeIndex: 5630 entries, 0 to 5629\n",
      "Data columns (total 20 columns):\n",
      " #   Column                       Non-Null Count  Dtype  \n",
      "---  ------                       --------------  -----  \n",
      " 0   CustomerID                   5630 non-null   int64  \n",
      " 1   Churn                        5630 non-null   int64  \n",
      " 2   Tenure                       5366 non-null   float64\n",
      " 3   PreferredLoginDevice         5630 non-null   object \n",
      " 4   CityTier                     5630 non-null   int64  \n",
      " 5   WarehouseToHome              5379 non-null   float64\n",
      " 6   PreferredPaymentMode         5630 non-null   object \n",
      " 7   Gender                       5630 non-null   object \n",
      " 8   HourSpendOnApp               5375 non-null   float64\n",
      " 9   NumberOfDeviceRegistered     5630 non-null   int64  \n",
      " 10  PreferedOrderCat             5630 non-null   object \n",
      " 11  SatisfactionScore            5630 non-null   int64  \n",
      " 12  MaritalStatus                5630 non-null   object \n",
      " 13  NumberOfAddress              5630 non-null   int64  \n",
      " 14  Complain                     5630 non-null   int64  \n",
      " 15  OrderAmountHikeFromlastYear  5365 non-null   float64\n",
      " 16  CouponUsed                   5374 non-null   float64\n",
      " 17  OrderCount                   5372 non-null   float64\n",
      " 18  DaySinceLastOrder            5323 non-null   float64\n",
      " 19  CashbackAmount               5630 non-null   float64\n",
      "dtypes: float64(8), int64(7), object(5)\n",
      "memory usage: 879.8+ KB\n"
     ]
    }
   ],
   "source": [
    "data.info()"
   ]
  },
  {
   "cell_type": "code",
   "execution_count": 6,
   "metadata": {},
   "outputs": [
    {
     "data": {
      "text/plain": [
       "1856"
      ]
     },
     "execution_count": 6,
     "metadata": {},
     "output_type": "execute_result"
    }
   ],
   "source": [
    "data.isnull().sum().sum()"
   ]
  },
  {
   "cell_type": "markdown",
   "metadata": {},
   "source": [
    "Berdasarkan data.info() diatas, terdapat total 20 kolom dengan  5630 row pada setiap kolomnya. Serta ditemukan informasi bahwa terdapat missing value pada beberapa kolom, yang akan dihandle pada tahapan data preprocessing."
   ]
  },
  {
   "cell_type": "code",
   "execution_count": 7,
   "metadata": {},
   "outputs": [
    {
     "data": {
      "text/html": [
       "<div>\n",
       "<style scoped>\n",
       "    .dataframe tbody tr th:only-of-type {\n",
       "        vertical-align: middle;\n",
       "    }\n",
       "\n",
       "    .dataframe tbody tr th {\n",
       "        vertical-align: top;\n",
       "    }\n",
       "\n",
       "    .dataframe thead th {\n",
       "        text-align: right;\n",
       "    }\n",
       "</style>\n",
       "<table border=\"1\" class=\"dataframe\">\n",
       "  <thead>\n",
       "    <tr style=\"text-align: right;\">\n",
       "      <th></th>\n",
       "      <th>count</th>\n",
       "      <th>mean</th>\n",
       "      <th>std</th>\n",
       "      <th>min</th>\n",
       "      <th>25%</th>\n",
       "      <th>50%</th>\n",
       "      <th>75%</th>\n",
       "      <th>max</th>\n",
       "    </tr>\n",
       "  </thead>\n",
       "  <tbody>\n",
       "    <tr>\n",
       "      <th>CustomerID</th>\n",
       "      <td>5630.0</td>\n",
       "      <td>52815.500000</td>\n",
       "      <td>1625.385339</td>\n",
       "      <td>50001.0</td>\n",
       "      <td>51408.25</td>\n",
       "      <td>52815.50</td>\n",
       "      <td>54222.7500</td>\n",
       "      <td>55630.00</td>\n",
       "    </tr>\n",
       "    <tr>\n",
       "      <th>Churn</th>\n",
       "      <td>5630.0</td>\n",
       "      <td>0.168384</td>\n",
       "      <td>0.374240</td>\n",
       "      <td>0.0</td>\n",
       "      <td>0.00</td>\n",
       "      <td>0.00</td>\n",
       "      <td>0.0000</td>\n",
       "      <td>1.00</td>\n",
       "    </tr>\n",
       "    <tr>\n",
       "      <th>Tenure</th>\n",
       "      <td>5366.0</td>\n",
       "      <td>10.189899</td>\n",
       "      <td>8.557241</td>\n",
       "      <td>0.0</td>\n",
       "      <td>2.00</td>\n",
       "      <td>9.00</td>\n",
       "      <td>16.0000</td>\n",
       "      <td>61.00</td>\n",
       "    </tr>\n",
       "    <tr>\n",
       "      <th>CityTier</th>\n",
       "      <td>5630.0</td>\n",
       "      <td>1.654707</td>\n",
       "      <td>0.915389</td>\n",
       "      <td>1.0</td>\n",
       "      <td>1.00</td>\n",
       "      <td>1.00</td>\n",
       "      <td>3.0000</td>\n",
       "      <td>3.00</td>\n",
       "    </tr>\n",
       "    <tr>\n",
       "      <th>WarehouseToHome</th>\n",
       "      <td>5379.0</td>\n",
       "      <td>15.639896</td>\n",
       "      <td>8.531475</td>\n",
       "      <td>5.0</td>\n",
       "      <td>9.00</td>\n",
       "      <td>14.00</td>\n",
       "      <td>20.0000</td>\n",
       "      <td>127.00</td>\n",
       "    </tr>\n",
       "    <tr>\n",
       "      <th>HourSpendOnApp</th>\n",
       "      <td>5375.0</td>\n",
       "      <td>2.931535</td>\n",
       "      <td>0.721926</td>\n",
       "      <td>0.0</td>\n",
       "      <td>2.00</td>\n",
       "      <td>3.00</td>\n",
       "      <td>3.0000</td>\n",
       "      <td>5.00</td>\n",
       "    </tr>\n",
       "    <tr>\n",
       "      <th>NumberOfDeviceRegistered</th>\n",
       "      <td>5630.0</td>\n",
       "      <td>3.688988</td>\n",
       "      <td>1.023999</td>\n",
       "      <td>1.0</td>\n",
       "      <td>3.00</td>\n",
       "      <td>4.00</td>\n",
       "      <td>4.0000</td>\n",
       "      <td>6.00</td>\n",
       "    </tr>\n",
       "    <tr>\n",
       "      <th>SatisfactionScore</th>\n",
       "      <td>5630.0</td>\n",
       "      <td>3.066785</td>\n",
       "      <td>1.380194</td>\n",
       "      <td>1.0</td>\n",
       "      <td>2.00</td>\n",
       "      <td>3.00</td>\n",
       "      <td>4.0000</td>\n",
       "      <td>5.00</td>\n",
       "    </tr>\n",
       "    <tr>\n",
       "      <th>NumberOfAddress</th>\n",
       "      <td>5630.0</td>\n",
       "      <td>4.214032</td>\n",
       "      <td>2.583586</td>\n",
       "      <td>1.0</td>\n",
       "      <td>2.00</td>\n",
       "      <td>3.00</td>\n",
       "      <td>6.0000</td>\n",
       "      <td>22.00</td>\n",
       "    </tr>\n",
       "    <tr>\n",
       "      <th>Complain</th>\n",
       "      <td>5630.0</td>\n",
       "      <td>0.284902</td>\n",
       "      <td>0.451408</td>\n",
       "      <td>0.0</td>\n",
       "      <td>0.00</td>\n",
       "      <td>0.00</td>\n",
       "      <td>1.0000</td>\n",
       "      <td>1.00</td>\n",
       "    </tr>\n",
       "    <tr>\n",
       "      <th>OrderAmountHikeFromlastYear</th>\n",
       "      <td>5365.0</td>\n",
       "      <td>15.707922</td>\n",
       "      <td>3.675485</td>\n",
       "      <td>11.0</td>\n",
       "      <td>13.00</td>\n",
       "      <td>15.00</td>\n",
       "      <td>18.0000</td>\n",
       "      <td>26.00</td>\n",
       "    </tr>\n",
       "    <tr>\n",
       "      <th>CouponUsed</th>\n",
       "      <td>5374.0</td>\n",
       "      <td>1.751023</td>\n",
       "      <td>1.894621</td>\n",
       "      <td>0.0</td>\n",
       "      <td>1.00</td>\n",
       "      <td>1.00</td>\n",
       "      <td>2.0000</td>\n",
       "      <td>16.00</td>\n",
       "    </tr>\n",
       "    <tr>\n",
       "      <th>OrderCount</th>\n",
       "      <td>5372.0</td>\n",
       "      <td>3.008004</td>\n",
       "      <td>2.939680</td>\n",
       "      <td>1.0</td>\n",
       "      <td>1.00</td>\n",
       "      <td>2.00</td>\n",
       "      <td>3.0000</td>\n",
       "      <td>16.00</td>\n",
       "    </tr>\n",
       "    <tr>\n",
       "      <th>DaySinceLastOrder</th>\n",
       "      <td>5323.0</td>\n",
       "      <td>4.543491</td>\n",
       "      <td>3.654433</td>\n",
       "      <td>0.0</td>\n",
       "      <td>2.00</td>\n",
       "      <td>3.00</td>\n",
       "      <td>7.0000</td>\n",
       "      <td>46.00</td>\n",
       "    </tr>\n",
       "    <tr>\n",
       "      <th>CashbackAmount</th>\n",
       "      <td>5630.0</td>\n",
       "      <td>177.223030</td>\n",
       "      <td>49.207036</td>\n",
       "      <td>0.0</td>\n",
       "      <td>145.77</td>\n",
       "      <td>163.28</td>\n",
       "      <td>196.3925</td>\n",
       "      <td>324.99</td>\n",
       "    </tr>\n",
       "  </tbody>\n",
       "</table>\n",
       "</div>"
      ],
      "text/plain": [
       "                              count          mean          std      min  \\\n",
       "CustomerID                   5630.0  52815.500000  1625.385339  50001.0   \n",
       "Churn                        5630.0      0.168384     0.374240      0.0   \n",
       "Tenure                       5366.0     10.189899     8.557241      0.0   \n",
       "CityTier                     5630.0      1.654707     0.915389      1.0   \n",
       "WarehouseToHome              5379.0     15.639896     8.531475      5.0   \n",
       "HourSpendOnApp               5375.0      2.931535     0.721926      0.0   \n",
       "NumberOfDeviceRegistered     5630.0      3.688988     1.023999      1.0   \n",
       "SatisfactionScore            5630.0      3.066785     1.380194      1.0   \n",
       "NumberOfAddress              5630.0      4.214032     2.583586      1.0   \n",
       "Complain                     5630.0      0.284902     0.451408      0.0   \n",
       "OrderAmountHikeFromlastYear  5365.0     15.707922     3.675485     11.0   \n",
       "CouponUsed                   5374.0      1.751023     1.894621      0.0   \n",
       "OrderCount                   5372.0      3.008004     2.939680      1.0   \n",
       "DaySinceLastOrder            5323.0      4.543491     3.654433      0.0   \n",
       "CashbackAmount               5630.0    177.223030    49.207036      0.0   \n",
       "\n",
       "                                  25%       50%         75%       max  \n",
       "CustomerID                   51408.25  52815.50  54222.7500  55630.00  \n",
       "Churn                            0.00      0.00      0.0000      1.00  \n",
       "Tenure                           2.00      9.00     16.0000     61.00  \n",
       "CityTier                         1.00      1.00      3.0000      3.00  \n",
       "WarehouseToHome                  9.00     14.00     20.0000    127.00  \n",
       "HourSpendOnApp                   2.00      3.00      3.0000      5.00  \n",
       "NumberOfDeviceRegistered         3.00      4.00      4.0000      6.00  \n",
       "SatisfactionScore                2.00      3.00      4.0000      5.00  \n",
       "NumberOfAddress                  2.00      3.00      6.0000     22.00  \n",
       "Complain                         0.00      0.00      1.0000      1.00  \n",
       "OrderAmountHikeFromlastYear     13.00     15.00     18.0000     26.00  \n",
       "CouponUsed                       1.00      1.00      2.0000     16.00  \n",
       "OrderCount                       1.00      2.00      3.0000     16.00  \n",
       "DaySinceLastOrder                2.00      3.00      7.0000     46.00  \n",
       "CashbackAmount                 145.77    163.28    196.3925    324.99  "
      ]
     },
     "execution_count": 7,
     "metadata": {},
     "output_type": "execute_result"
    }
   ],
   "source": [
    "data.describe().T"
   ]
  },
  {
   "cell_type": "markdown",
   "metadata": {},
   "source": [
    "1. terlihat dari persebaran data quartilenya terjadi imbalance pada kolom target (churn).\n",
    "2. Satisfaction score memiliki sebaran data yang cukup seimbang mulai dari 0 hingga 5, dengan nilai mean 3.07.\n",
    "3. Jumlah rata-rata order dari keseluruhan customer adalah sebanyak 3 kali setiap satu customer.\n",
    "4. Customer dari perusahaan e-commerce menghabiskan waktu yang cukup tinggi dengan rata-rata diatas 2.5 jam."
   ]
  },
  {
   "cell_type": "markdown",
   "metadata": {},
   "source": [
    "---\n",
    "# **4. Exploratory Data Analysis (EDA)**"
   ]
  },
  {
   "cell_type": "code",
   "execution_count": 8,
   "metadata": {},
   "outputs": [
    {
     "data": {
      "text/html": [
       "<div>\n",
       "<style scoped>\n",
       "    .dataframe tbody tr th:only-of-type {\n",
       "        vertical-align: middle;\n",
       "    }\n",
       "\n",
       "    .dataframe tbody tr th {\n",
       "        vertical-align: top;\n",
       "    }\n",
       "\n",
       "    .dataframe thead th {\n",
       "        text-align: right;\n",
       "    }\n",
       "</style>\n",
       "<table border=\"1\" class=\"dataframe\">\n",
       "  <thead>\n",
       "    <tr style=\"text-align: right;\">\n",
       "      <th></th>\n",
       "      <th>CustomerID</th>\n",
       "      <th>Churn</th>\n",
       "      <th>Tenure</th>\n",
       "      <th>PreferredLoginDevice</th>\n",
       "      <th>CityTier</th>\n",
       "      <th>WarehouseToHome</th>\n",
       "      <th>PreferredPaymentMode</th>\n",
       "      <th>Gender</th>\n",
       "      <th>HourSpendOnApp</th>\n",
       "      <th>NumberOfDeviceRegistered</th>\n",
       "      <th>PreferedOrderCat</th>\n",
       "      <th>SatisfactionScore</th>\n",
       "      <th>MaritalStatus</th>\n",
       "      <th>NumberOfAddress</th>\n",
       "      <th>Complain</th>\n",
       "      <th>OrderAmountHikeFromlastYear</th>\n",
       "      <th>CouponUsed</th>\n",
       "      <th>OrderCount</th>\n",
       "      <th>DaySinceLastOrder</th>\n",
       "      <th>CashbackAmount</th>\n",
       "    </tr>\n",
       "  </thead>\n",
       "  <tbody>\n",
       "    <tr>\n",
       "      <th>0</th>\n",
       "      <td>50001</td>\n",
       "      <td>1</td>\n",
       "      <td>4.0</td>\n",
       "      <td>Mobile Phone</td>\n",
       "      <td>3</td>\n",
       "      <td>6.0</td>\n",
       "      <td>Debit Card</td>\n",
       "      <td>Female</td>\n",
       "      <td>3.0</td>\n",
       "      <td>3</td>\n",
       "      <td>Laptop &amp; Accessory</td>\n",
       "      <td>2</td>\n",
       "      <td>Single</td>\n",
       "      <td>9</td>\n",
       "      <td>1</td>\n",
       "      <td>11.0</td>\n",
       "      <td>1.0</td>\n",
       "      <td>1.0</td>\n",
       "      <td>5.0</td>\n",
       "      <td>159.93</td>\n",
       "    </tr>\n",
       "    <tr>\n",
       "      <th>1</th>\n",
       "      <td>50002</td>\n",
       "      <td>1</td>\n",
       "      <td>NaN</td>\n",
       "      <td>Phone</td>\n",
       "      <td>1</td>\n",
       "      <td>8.0</td>\n",
       "      <td>UPI</td>\n",
       "      <td>Male</td>\n",
       "      <td>3.0</td>\n",
       "      <td>4</td>\n",
       "      <td>Mobile</td>\n",
       "      <td>3</td>\n",
       "      <td>Single</td>\n",
       "      <td>7</td>\n",
       "      <td>1</td>\n",
       "      <td>15.0</td>\n",
       "      <td>0.0</td>\n",
       "      <td>1.0</td>\n",
       "      <td>0.0</td>\n",
       "      <td>120.90</td>\n",
       "    </tr>\n",
       "    <tr>\n",
       "      <th>2</th>\n",
       "      <td>50003</td>\n",
       "      <td>1</td>\n",
       "      <td>NaN</td>\n",
       "      <td>Phone</td>\n",
       "      <td>1</td>\n",
       "      <td>30.0</td>\n",
       "      <td>Debit Card</td>\n",
       "      <td>Male</td>\n",
       "      <td>2.0</td>\n",
       "      <td>4</td>\n",
       "      <td>Mobile</td>\n",
       "      <td>3</td>\n",
       "      <td>Single</td>\n",
       "      <td>6</td>\n",
       "      <td>1</td>\n",
       "      <td>14.0</td>\n",
       "      <td>0.0</td>\n",
       "      <td>1.0</td>\n",
       "      <td>3.0</td>\n",
       "      <td>120.28</td>\n",
       "    </tr>\n",
       "    <tr>\n",
       "      <th>3</th>\n",
       "      <td>50004</td>\n",
       "      <td>1</td>\n",
       "      <td>0.0</td>\n",
       "      <td>Phone</td>\n",
       "      <td>3</td>\n",
       "      <td>15.0</td>\n",
       "      <td>Debit Card</td>\n",
       "      <td>Male</td>\n",
       "      <td>2.0</td>\n",
       "      <td>4</td>\n",
       "      <td>Laptop &amp; Accessory</td>\n",
       "      <td>5</td>\n",
       "      <td>Single</td>\n",
       "      <td>8</td>\n",
       "      <td>0</td>\n",
       "      <td>23.0</td>\n",
       "      <td>0.0</td>\n",
       "      <td>1.0</td>\n",
       "      <td>3.0</td>\n",
       "      <td>134.07</td>\n",
       "    </tr>\n",
       "  </tbody>\n",
       "</table>\n",
       "</div>"
      ],
      "text/plain": [
       "   CustomerID  Churn  Tenure PreferredLoginDevice  CityTier  WarehouseToHome  \\\n",
       "0       50001      1     4.0         Mobile Phone         3              6.0   \n",
       "1       50002      1     NaN                Phone         1              8.0   \n",
       "2       50003      1     NaN                Phone         1             30.0   \n",
       "3       50004      1     0.0                Phone         3             15.0   \n",
       "\n",
       "  PreferredPaymentMode  Gender  HourSpendOnApp  NumberOfDeviceRegistered  \\\n",
       "0           Debit Card  Female             3.0                         3   \n",
       "1                  UPI    Male             3.0                         4   \n",
       "2           Debit Card    Male             2.0                         4   \n",
       "3           Debit Card    Male             2.0                         4   \n",
       "\n",
       "     PreferedOrderCat  SatisfactionScore MaritalStatus  NumberOfAddress  \\\n",
       "0  Laptop & Accessory                  2        Single                9   \n",
       "1              Mobile                  3        Single                7   \n",
       "2              Mobile                  3        Single                6   \n",
       "3  Laptop & Accessory                  5        Single                8   \n",
       "\n",
       "   Complain  OrderAmountHikeFromlastYear  CouponUsed  OrderCount  \\\n",
       "0         1                         11.0         1.0         1.0   \n",
       "1         1                         15.0         0.0         1.0   \n",
       "2         1                         14.0         0.0         1.0   \n",
       "3         0                         23.0         0.0         1.0   \n",
       "\n",
       "   DaySinceLastOrder  CashbackAmount  \n",
       "0                5.0          159.93  \n",
       "1                0.0          120.90  \n",
       "2                3.0          120.28  \n",
       "3                3.0          134.07  "
      ]
     },
     "execution_count": 8,
     "metadata": {},
     "output_type": "execute_result"
    }
   ],
   "source": [
    "data.head(4)"
   ]
  },
  {
   "cell_type": "markdown",
   "metadata": {},
   "source": [
    "## Check Customer Churn Column"
   ]
  },
  {
   "cell_type": "code",
   "execution_count": 9,
   "metadata": {},
   "outputs": [
    {
     "name": "stdout",
     "output_type": "stream",
     "text": [
      "Churn: 16.838365896980463 %\n",
      "Retained: 83.16163410301954 %\n"
     ]
    },
    {
     "data": {
      "image/png": "[encoded data removed]",
      "text/plain": [
       "<Figure size 432x288 with 1 Axes>"
      ]
     },
     "metadata": {
      "needs_background": "light"
     },
     "output_type": "display_data"
    }
   ],
   "source": [
    "yes=data[data['Churn']==1][\"Churn\"].count()\n",
    "no=data[data['Churn']==0][\"Churn\"].count()\n",
    "print(\"Churn:\",yes/(yes+no)*100 , \"%\")\n",
    "print(\"Retained:\",no/(yes+no)*100 , \"%\")\n",
    "\n",
    "cplt =data.groupby(['Churn'])['Churn'].count().reset_index(name='Counts')\n",
    "sns.barplot(x='Churn', y='Counts',data=cplt)\n",
    "plt.ylabel(\"Frequency\")\n",
    "plt.show()"
   ]
  },
  {
   "cell_type": "markdown",
   "metadata": {},
   "source": [
    "Berdasarkan visualisasi data diatas, dapat terlihat bahwa data customer yang Churn lebih kecil daripada customer yang bertahan. Dengan presentase data sebagai berikut :\n",
    "- Churn: 16.838365896980463 %\n",
    "- Retained: 83.16163410301954 %"
   ]
  },
  {
   "cell_type": "markdown",
   "metadata": {},
   "source": [
    "Karena data imbalance, maka akan dilakukan handling imbalance untuk memperbaiki model dalam mempelajari data."
   ]
  },
  {
   "cell_type": "markdown",
   "metadata": {},
   "source": [
    "## Check data kecenderungan customer login menggunakan device apa?"
   ]
  },
  {
   "cell_type": "code",
   "execution_count": 10,
   "metadata": {},
   "outputs": [
    {
     "data": {
      "image/png": "[encoded data removed]",
      "text/plain": [
       "<Figure size 432x288 with 1 Axes>"
      ]
     },
     "metadata": {
      "needs_background": "light"
     },
     "output_type": "display_data"
    }
   ],
   "source": [
    "pldv =data.groupby(['PreferredLoginDevice', 'Churn'])['PreferredLoginDevice'].count().reset_index(name='Counts')\n",
    "sns.barplot(x='PreferredLoginDevice', y='Counts', hue=\"Churn\",data=pldv)\n",
    "plt.ylabel(\"Frequency\")\n",
    "plt.show()"
   ]
  },
  {
   "cell_type": "markdown",
   "metadata": {},
   "source": [
    "**Terlihat bahwa user mobile phone adalah yang terbanyak, dan data ini tidak mempengaruhi churn dari customer.**"
   ]
  },
  {
   "cell_type": "markdown",
   "metadata": {},
   "source": [
    "## Apakah tier city ada hubungannya dengan customer yg churn?"
   ]
  },
  {
   "cell_type": "code",
   "execution_count": 11,
   "metadata": {},
   "outputs": [
    {
     "data": {
      "image/png": "[encoded data removed]",
      "text/plain": [
       "<Figure size 432x288 with 1 Axes>"
      ]
     },
     "metadata": {
      "needs_background": "light"
     },
     "output_type": "display_data"
    }
   ],
   "source": [
    "ctc =data.groupby(['CityTier', 'Churn'])['CityTier'].count().reset_index(name='Counts')\n",
    "sns.barplot(x='CityTier', y='Counts', hue=\"Churn\",data=ctc)\n",
    "plt.ylabel(\"Frequency\")\n",
    "plt.show()"
   ]
  },
  {
   "cell_type": "markdown",
   "metadata": {},
   "source": [
    "- Customer dari e-commerce ini paling banyak terletak pada kota tier 1 dan peringkat terakhir kota tier 2\n",
    "- Kota tier 1 adalah penyumbang customer churn tertinggi."
   ]
  },
  {
   "cell_type": "markdown",
   "metadata": {},
   "source": [
    "## Apakah tipe pembayaran customer mempengaruhi churn?"
   ]
  },
  {
   "cell_type": "code",
   "execution_count": 12,
   "metadata": {},
   "outputs": [
    {
     "data": {
      "image/png": "[encoded data removed]",
      "text/plain": [
       "<Figure size 1080x288 with 1 Axes>"
      ]
     },
     "metadata": {
      "needs_background": "light"
     },
     "output_type": "display_data"
    }
   ],
   "source": [
    "pcrn =data.groupby(['PreferredPaymentMode', 'Churn'])['PreferredPaymentMode'].count().reset_index(name='Counts')\n",
    "plt.figure(figsize=(15,4))\n",
    "sns.barplot(x='PreferredPaymentMode', y='Counts', hue=\"Churn\",data=pcrn)\n",
    "plt.ylabel(\"Frequency\")\n",
    "plt.show()"
   ]
  },
  {
   "cell_type": "markdown",
   "metadata": {},
   "source": [
    "- Customer e-commerce ini menggunakan kartu kredit dan debit sebagai alat pembayaran yang paling banyak.\n",
    "- Akan dilakukan penggabungan untuk kolom Cash on Delivery kedalam COD dan CC kedalam Credit Card"
   ]
  },
  {
   "cell_type": "code",
   "execution_count": 13,
   "metadata": {},
   "outputs": [],
   "source": [
    "data[\"PreferredPaymentMode\"].replace({\"CC\": \"Credit Card\", \"Cash on Delivery\": \"COD\" },inplace=True)"
   ]
  },
  {
   "cell_type": "markdown",
   "metadata": {},
   "source": [
    "Script diatas digunakan untuk merubah CC dan COD pada preferred payment method"
   ]
  },
  {
   "cell_type": "code",
   "execution_count": 14,
   "metadata": {},
   "outputs": [
    {
     "data": {
      "image/png": "[encoded data removed]",
      "text/plain": [
       "<Figure size 1080x288 with 1 Axes>"
      ]
     },
     "metadata": {
      "needs_background": "light"
     },
     "output_type": "display_data"
    }
   ],
   "source": [
    "pcrn =data.groupby(['PreferredPaymentMode', 'Churn'])['PreferredPaymentMode'].count().reset_index(name='Counts')\n",
    "plt.figure(figsize=(15,4))\n",
    "sns.barplot(x='PreferredPaymentMode', y='Counts', hue=\"Churn\",data=pcrn)\n",
    "plt.ylabel(\"Frequency\")\n",
    "plt.show()"
   ]
  },
  {
   "cell_type": "markdown",
   "metadata": {},
   "source": [
    "string Cash on Delivery dan CC sudah terganti."
   ]
  },
  {
   "cell_type": "markdown",
   "metadata": {},
   "source": [
    "## Apakah jarak warehouse ke lokasi customer mempengaruhi churn?"
   ]
  },
  {
   "cell_type": "code",
   "execution_count": 15,
   "metadata": {},
   "outputs": [
    {
     "data": {
      "image/png": "[encoded data removed]",
      "text/plain": [
       "<Figure size 1440x288 with 2 Axes>"
      ]
     },
     "metadata": {
      "needs_background": "light"
     },
     "output_type": "display_data"
    }
   ],
   "source": [
    "wthc =data.groupby(['WarehouseToHome', 'Churn'])['WarehouseToHome'].count().reset_index(name='Counts')\n",
    "plt.figure(figsize=(20,4))\n",
    "plt.subplot(121)\n",
    "sns.lineplot(x='WarehouseToHome', y='Counts', hue=\"Churn\",data=wthc, style=\"Churn\",markers=True)\n",
    "plt.ylabel(\"Frequency\")\n",
    "\n",
    "wthcb =data.groupby(['Churn'])['WarehouseToHome'].mean().reset_index(name='mean')\n",
    "plt.subplot(122)\n",
    "sns.barplot(x='Churn', y='mean',data=wthcb)\n",
    "plt.ylabel(\"Mean Warehouse to Home\")\n",
    "plt.show()"
   ]
  },
  {
   "cell_type": "markdown",
   "metadata": {},
   "source": [
    "- Seperti yang diperkirakan, jumlah customer akan menurun seiring bertambahnya jarak.\n",
    "- Ternyata jumlah customer yang churn memiliki rata-rata jarak lokasi dengan warehouse yang lebih tinggi."
   ]
  },
  {
   "cell_type": "markdown",
   "metadata": {},
   "source": [
    "## Gender customer yang paling banyak churn?"
   ]
  },
  {
   "cell_type": "code",
   "execution_count": 16,
   "metadata": {},
   "outputs": [
    {
     "data": {
      "image/png": "[encoded data removed]",
      "text/plain": [
       "<Figure size 1080x288 with 1 Axes>"
      ]
     },
     "metadata": {
      "needs_background": "light"
     },
     "output_type": "display_data"
    }
   ],
   "source": [
    "gcrn =data.groupby(['Gender', 'Churn'])['Gender'].count().reset_index(name='Counts')\n",
    "plt.figure(figsize=(15,4))\n",
    "sns.barplot(x='Gender', y='Counts', hue=\"Churn\",data=gcrn)\n",
    "plt.ylabel(\"Frequency\")\n",
    "plt.show()"
   ]
  },
  {
   "cell_type": "markdown",
   "metadata": {},
   "source": [
    "- Customer pria lebih banyak daripada wanita\n",
    "- Namun pria dan perempuan diperkirakan memiliki rata-rata churn yang sama"
   ]
  },
  {
   "cell_type": "markdown",
   "metadata": {},
   "source": [
    "## Apakah waktu yang dihabiskan customer dalam membuka aplikasi mempengaruhi churn?"
   ]
  },
  {
   "cell_type": "code",
   "execution_count": 17,
   "metadata": {},
   "outputs": [
    {
     "data": {
      "image/png": "[encoded data removed]",
      "text/plain": [
       "<Figure size 1440x288 with 1 Axes>"
      ]
     },
     "metadata": {
      "needs_background": "light"
     },
     "output_type": "display_data"
    }
   ],
   "source": [
    "plt.figure(figsize=(20,4))\n",
    "hspc =data.groupby(['Churn'])['HourSpendOnApp'].mean().reset_index(name='mean')\n",
    "plt.subplot(122)\n",
    "sns.barplot(x='Churn', y='mean',data=hspc)\n",
    "plt.ylabel(\"Mean Hour Spend On App\")\n",
    "plt.show()"
   ]
  },
  {
   "cell_type": "markdown",
   "metadata": {},
   "source": [
    "- Waktu yang dihabiskan dalam membuka aplikasi antara customer yan churn dan retain relatif sama."
   ]
  },
  {
   "cell_type": "code",
   "execution_count": 18,
   "metadata": {},
   "outputs": [
    {
     "data": {
      "text/html": [
       "<div>\n",
       "<style scoped>\n",
       "    .dataframe tbody tr th:only-of-type {\n",
       "        vertical-align: middle;\n",
       "    }\n",
       "\n",
       "    .dataframe tbody tr th {\n",
       "        vertical-align: top;\n",
       "    }\n",
       "\n",
       "    .dataframe thead th {\n",
       "        text-align: right;\n",
       "    }\n",
       "</style>\n",
       "<table border=\"1\" class=\"dataframe\">\n",
       "  <thead>\n",
       "    <tr style=\"text-align: right;\">\n",
       "      <th></th>\n",
       "      <th>CustomerID</th>\n",
       "      <th>Churn</th>\n",
       "      <th>Tenure</th>\n",
       "      <th>PreferredLoginDevice</th>\n",
       "      <th>CityTier</th>\n",
       "      <th>WarehouseToHome</th>\n",
       "      <th>PreferredPaymentMode</th>\n",
       "      <th>Gender</th>\n",
       "      <th>HourSpendOnApp</th>\n",
       "      <th>NumberOfDeviceRegistered</th>\n",
       "      <th>PreferedOrderCat</th>\n",
       "      <th>SatisfactionScore</th>\n",
       "      <th>MaritalStatus</th>\n",
       "      <th>NumberOfAddress</th>\n",
       "      <th>Complain</th>\n",
       "      <th>OrderAmountHikeFromlastYear</th>\n",
       "      <th>CouponUsed</th>\n",
       "      <th>OrderCount</th>\n",
       "      <th>DaySinceLastOrder</th>\n",
       "      <th>CashbackAmount</th>\n",
       "    </tr>\n",
       "  </thead>\n",
       "  <tbody>\n",
       "    <tr>\n",
       "      <th>0</th>\n",
       "      <td>50001</td>\n",
       "      <td>1</td>\n",
       "      <td>4.0</td>\n",
       "      <td>Mobile Phone</td>\n",
       "      <td>3</td>\n",
       "      <td>6.0</td>\n",
       "      <td>Debit Card</td>\n",
       "      <td>Female</td>\n",
       "      <td>3.0</td>\n",
       "      <td>3</td>\n",
       "      <td>Laptop &amp; Accessory</td>\n",
       "      <td>2</td>\n",
       "      <td>Single</td>\n",
       "      <td>9</td>\n",
       "      <td>1</td>\n",
       "      <td>11.0</td>\n",
       "      <td>1.0</td>\n",
       "      <td>1.0</td>\n",
       "      <td>5.0</td>\n",
       "      <td>159.93</td>\n",
       "    </tr>\n",
       "    <tr>\n",
       "      <th>1</th>\n",
       "      <td>50002</td>\n",
       "      <td>1</td>\n",
       "      <td>NaN</td>\n",
       "      <td>Phone</td>\n",
       "      <td>1</td>\n",
       "      <td>8.0</td>\n",
       "      <td>UPI</td>\n",
       "      <td>Male</td>\n",
       "      <td>3.0</td>\n",
       "      <td>4</td>\n",
       "      <td>Mobile</td>\n",
       "      <td>3</td>\n",
       "      <td>Single</td>\n",
       "      <td>7</td>\n",
       "      <td>1</td>\n",
       "      <td>15.0</td>\n",
       "      <td>0.0</td>\n",
       "      <td>1.0</td>\n",
       "      <td>0.0</td>\n",
       "      <td>120.90</td>\n",
       "    </tr>\n",
       "    <tr>\n",
       "      <th>2</th>\n",
       "      <td>50003</td>\n",
       "      <td>1</td>\n",
       "      <td>NaN</td>\n",
       "      <td>Phone</td>\n",
       "      <td>1</td>\n",
       "      <td>30.0</td>\n",
       "      <td>Debit Card</td>\n",
       "      <td>Male</td>\n",
       "      <td>2.0</td>\n",
       "      <td>4</td>\n",
       "      <td>Mobile</td>\n",
       "      <td>3</td>\n",
       "      <td>Single</td>\n",
       "      <td>6</td>\n",
       "      <td>1</td>\n",
       "      <td>14.0</td>\n",
       "      <td>0.0</td>\n",
       "      <td>1.0</td>\n",
       "      <td>3.0</td>\n",
       "      <td>120.28</td>\n",
       "    </tr>\n",
       "    <tr>\n",
       "      <th>3</th>\n",
       "      <td>50004</td>\n",
       "      <td>1</td>\n",
       "      <td>0.0</td>\n",
       "      <td>Phone</td>\n",
       "      <td>3</td>\n",
       "      <td>15.0</td>\n",
       "      <td>Debit Card</td>\n",
       "      <td>Male</td>\n",
       "      <td>2.0</td>\n",
       "      <td>4</td>\n",
       "      <td>Laptop &amp; Accessory</td>\n",
       "      <td>5</td>\n",
       "      <td>Single</td>\n",
       "      <td>8</td>\n",
       "      <td>0</td>\n",
       "      <td>23.0</td>\n",
       "      <td>0.0</td>\n",
       "      <td>1.0</td>\n",
       "      <td>3.0</td>\n",
       "      <td>134.07</td>\n",
       "    </tr>\n",
       "    <tr>\n",
       "      <th>4</th>\n",
       "      <td>50005</td>\n",
       "      <td>1</td>\n",
       "      <td>0.0</td>\n",
       "      <td>Phone</td>\n",
       "      <td>1</td>\n",
       "      <td>12.0</td>\n",
       "      <td>Credit Card</td>\n",
       "      <td>Male</td>\n",
       "      <td>NaN</td>\n",
       "      <td>3</td>\n",
       "      <td>Mobile</td>\n",
       "      <td>5</td>\n",
       "      <td>Single</td>\n",
       "      <td>3</td>\n",
       "      <td>0</td>\n",
       "      <td>11.0</td>\n",
       "      <td>1.0</td>\n",
       "      <td>1.0</td>\n",
       "      <td>3.0</td>\n",
       "      <td>129.60</td>\n",
       "    </tr>\n",
       "  </tbody>\n",
       "</table>\n",
       "</div>"
      ],
      "text/plain": [
       "   CustomerID  Churn  Tenure PreferredLoginDevice  CityTier  WarehouseToHome  \\\n",
       "0       50001      1     4.0         Mobile Phone         3              6.0   \n",
       "1       50002      1     NaN                Phone         1              8.0   \n",
       "2       50003      1     NaN                Phone         1             30.0   \n",
       "3       50004      1     0.0                Phone         3             15.0   \n",
       "4       50005      1     0.0                Phone         1             12.0   \n",
       "\n",
       "  PreferredPaymentMode  Gender  HourSpendOnApp  NumberOfDeviceRegistered  \\\n",
       "0           Debit Card  Female             3.0                         3   \n",
       "1                  UPI    Male             3.0                         4   \n",
       "2           Debit Card    Male             2.0                         4   \n",
       "3           Debit Card    Male             2.0                         4   \n",
       "4          Credit Card    Male             NaN                         3   \n",
       "\n",
       "     PreferedOrderCat  SatisfactionScore MaritalStatus  NumberOfAddress  \\\n",
       "0  Laptop & Accessory                  2        Single                9   \n",
       "1              Mobile                  3        Single                7   \n",
       "2              Mobile                  3        Single                6   \n",
       "3  Laptop & Accessory                  5        Single                8   \n",
       "4              Mobile                  5        Single                3   \n",
       "\n",
       "   Complain  OrderAmountHikeFromlastYear  CouponUsed  OrderCount  \\\n",
       "0         1                         11.0         1.0         1.0   \n",
       "1         1                         15.0         0.0         1.0   \n",
       "2         1                         14.0         0.0         1.0   \n",
       "3         0                         23.0         0.0         1.0   \n",
       "4         0                         11.0         1.0         1.0   \n",
       "\n",
       "   DaySinceLastOrder  CashbackAmount  \n",
       "0                5.0          159.93  \n",
       "1                0.0          120.90  \n",
       "2                3.0          120.28  \n",
       "3                3.0          134.07  \n",
       "4                3.0          129.60  "
      ]
     },
     "execution_count": 18,
     "metadata": {},
     "output_type": "execute_result"
    }
   ],
   "source": [
    "data.head()"
   ]
  },
  {
   "cell_type": "markdown",
   "metadata": {},
   "source": [
    "## Bagaimana Pengaruh jumlah order dengan Customer Churn"
   ]
  },
  {
   "cell_type": "code",
   "execution_count": 19,
   "metadata": {},
   "outputs": [
    {
     "data": {
      "image/png": "[encoded data removed]",
      "text/plain": [
       "<Figure size 1440x360 with 2 Axes>"
      ]
     },
     "metadata": {
      "needs_background": "light"
     },
     "output_type": "display_data"
    }
   ],
   "source": [
    "plt.figure(figsize=(20,5))\n",
    "plt.subplot(121)\n",
    "odc =data.groupby(['Churn'])['OrderCount'].mean().reset_index(name='mean')\n",
    "sns.barplot(x='Churn', y='mean',data=odc)\n",
    "plt.ylabel(\"Mean Order Count\")\n",
    "\n",
    "plt.subplot(122)\n",
    "odcl =data.groupby(['OrderCount', 'Churn'])['OrderCount'].count().reset_index(name='Counts')\n",
    "sns.lineplot(x='OrderCount', y='Counts', hue=\"Churn\",data=odcl, style=\"Churn\",markers=True)\n",
    "plt.ylabel(\"Frequency\")\n",
    "\n",
    "plt.show()"
   ]
  },
  {
   "cell_type": "markdown",
   "metadata": {},
   "source": [
    "- Rata-rata order count dari customer churn dan tidak churn adalah realtif sama\n",
    "- Customer churn juga ditandai dengan sedikitnya order count"
   ]
  },
  {
   "cell_type": "markdown",
   "metadata": {},
   "source": [
    "## Apakah complain dari customer mendukung terjadinya churn?"
   ]
  },
  {
   "cell_type": "code",
   "execution_count": 20,
   "metadata": {},
   "outputs": [
    {
     "data": {
      "image/png": "[encoded data removed]",
      "text/plain": [
       "<Figure size 720x288 with 1 Axes>"
      ]
     },
     "metadata": {
      "needs_background": "light"
     },
     "output_type": "display_data"
    }
   ],
   "source": [
    "ccrn =data.groupby(['Complain', 'Churn'])['Gender'].count().reset_index(name='Counts')\n",
    "plt.figure(figsize=(10,4))\n",
    "sns.barplot(x='Complain', y='Counts', hue=\"Churn\",data=ccrn)\n",
    "plt.ylabel(\"Frequency\")\n",
    "plt.show()"
   ]
  },
  {
   "cell_type": "markdown",
   "metadata": {},
   "source": [
    "- Terdapat lebih banyak customer yang tidak melakukan complain.\n",
    "- rasio customer yang churn lebih besar pada customer yang complain."
   ]
  },
  {
   "cell_type": "markdown",
   "metadata": {},
   "source": []
  },
  {
   "cell_type": "markdown",
   "metadata": {},
   "source": [
    "## Apakah tenure dari customer mempengaruhi kemungkinan untuk churn?"
   ]
  },
  {
   "cell_type": "code",
   "execution_count": 21,
   "metadata": {},
   "outputs": [
    {
     "data": {
      "image/png": "[encoded data removed]",
      "text/plain": [
       "<Figure size 1440x360 with 2 Axes>"
      ]
     },
     "metadata": {
      "needs_background": "light"
     },
     "output_type": "display_data"
    }
   ],
   "source": [
    "plt.figure(figsize=(20,5))\n",
    "plt.subplot(121)\n",
    "odc =data.groupby(['Churn'])['Tenure'].mean().reset_index(name='mean')\n",
    "sns.barplot(x='Churn', y='mean',data=odc)\n",
    "plt.ylabel(\"Mean Tenure\")\n",
    "\n",
    "plt.subplot(122)\n",
    "odcl =data.groupby(['Tenure', 'Churn'])['OrderCount'].count().reset_index(name='Counts')\n",
    "sns.lineplot(x='Tenure', y='Counts', hue=\"Churn\",data=odcl, style=\"Churn\",markers=True)\n",
    "plt.ylabel(\"Frequency\")\n",
    "\n",
    "plt.show()"
   ]
  },
  {
   "cell_type": "markdown",
   "metadata": {},
   "source": [
    "- Tenure sangat mempengaruhi customer untuk churn\n",
    "- Tenure rendah memungkinkan customer untuk churn"
   ]
  },
  {
   "cell_type": "markdown",
   "metadata": {},
   "source": [
    "## Melihat Korelasi data churn dengan fitur numerikal"
   ]
  },
  {
   "cell_type": "code",
   "execution_count": 22,
   "metadata": {},
   "outputs": [
    {
     "data": {
      "text/plain": [
       "<AxesSubplot:title={'center':'Pearson Coefficient Correlation antar Data Numerikal'}>"
      ]
     },
     "execution_count": 22,
     "metadata": {},
     "output_type": "execute_result"
    },
    {
     "data": {
      "image/png": "[encoded data removed]",
      "text/plain": [
       "<Figure size 1440x720 with 2 Axes>"
      ]
     },
     "metadata": {
      "needs_background": "light"
     },
     "output_type": "display_data"
    }
   ],
   "source": [
    "correlation = data.corr()\n",
    "plt.figure(figsize=(20,10))\n",
    "plt.title(\"Pearson Coefficient Correlation antar Data Numerikal\")\n",
    "sns.heatmap(correlation, annot=True)"
   ]
  },
  {
   "cell_type": "markdown",
   "metadata": {},
   "source": [
    "**Yang memiliki korelasi tinggi diatas (|0.1|) dengan target (Churn) adalah fitur :**\n",
    "\n",
    "- Cashback Amount\n",
    "- Day since last order\n",
    "- Complain\n",
    "- Satisfaction Score\n",
    "- Tenure"
   ]
  },
  {
   "cell_type": "markdown",
   "metadata": {},
   "source": [
    "---\n",
    "# 5. Data Preprocessing"
   ]
  },
  {
   "cell_type": "markdown",
   "metadata": {},
   "source": [
    "## 5.1 Mengambil data untuk model inference"
   ]
  },
  {
   "cell_type": "markdown",
   "metadata": {},
   "source": [
    "Mengambil sample acak inference"
   ]
  },
  {
   "cell_type": "code",
   "execution_count": 23,
   "metadata": {},
   "outputs": [
    {
     "data": {
      "text/html": [
       "<div>\n",
       "<style scoped>\n",
       "    .dataframe tbody tr th:only-of-type {\n",
       "        vertical-align: middle;\n",
       "    }\n",
       "\n",
       "    .dataframe tbody tr th {\n",
       "        vertical-align: top;\n",
       "    }\n",
       "\n",
       "    .dataframe thead th {\n",
       "        text-align: right;\n",
       "    }\n",
       "</style>\n",
       "<table border=\"1\" class=\"dataframe\">\n",
       "  <thead>\n",
       "    <tr style=\"text-align: right;\">\n",
       "      <th></th>\n",
       "      <th>CustomerID</th>\n",
       "      <th>Churn</th>\n",
       "      <th>Tenure</th>\n",
       "      <th>PreferredLoginDevice</th>\n",
       "      <th>CityTier</th>\n",
       "      <th>WarehouseToHome</th>\n",
       "      <th>PreferredPaymentMode</th>\n",
       "      <th>Gender</th>\n",
       "      <th>HourSpendOnApp</th>\n",
       "      <th>NumberOfDeviceRegistered</th>\n",
       "      <th>PreferedOrderCat</th>\n",
       "      <th>SatisfactionScore</th>\n",
       "      <th>MaritalStatus</th>\n",
       "      <th>NumberOfAddress</th>\n",
       "      <th>Complain</th>\n",
       "      <th>OrderAmountHikeFromlastYear</th>\n",
       "      <th>CouponUsed</th>\n",
       "      <th>OrderCount</th>\n",
       "      <th>DaySinceLastOrder</th>\n",
       "      <th>CashbackAmount</th>\n",
       "    </tr>\n",
       "  </thead>\n",
       "  <tbody>\n",
       "    <tr>\n",
       "      <th>3351</th>\n",
       "      <td>53352</td>\n",
       "      <td>0</td>\n",
       "      <td>17.0</td>\n",
       "      <td>Mobile Phone</td>\n",
       "      <td>1</td>\n",
       "      <td>15.0</td>\n",
       "      <td>Debit Card</td>\n",
       "      <td>Female</td>\n",
       "      <td>3.0</td>\n",
       "      <td>4</td>\n",
       "      <td>Laptop &amp; Accessory</td>\n",
       "      <td>4</td>\n",
       "      <td>Married</td>\n",
       "      <td>6</td>\n",
       "      <td>0</td>\n",
       "      <td>22.0</td>\n",
       "      <td>2.0</td>\n",
       "      <td>2.0</td>\n",
       "      <td>1.0</td>\n",
       "      <td>172.65</td>\n",
       "    </tr>\n",
       "    <tr>\n",
       "      <th>2617</th>\n",
       "      <td>52618</td>\n",
       "      <td>0</td>\n",
       "      <td>11.0</td>\n",
       "      <td>Phone</td>\n",
       "      <td>1</td>\n",
       "      <td>12.0</td>\n",
       "      <td>UPI</td>\n",
       "      <td>Female</td>\n",
       "      <td>2.0</td>\n",
       "      <td>4</td>\n",
       "      <td>Mobile Phone</td>\n",
       "      <td>3</td>\n",
       "      <td>Married</td>\n",
       "      <td>2</td>\n",
       "      <td>0</td>\n",
       "      <td>11.0</td>\n",
       "      <td>1.0</td>\n",
       "      <td>1.0</td>\n",
       "      <td>4.0</td>\n",
       "      <td>137.02</td>\n",
       "    </tr>\n",
       "    <tr>\n",
       "      <th>2365</th>\n",
       "      <td>52366</td>\n",
       "      <td>0</td>\n",
       "      <td>20.0</td>\n",
       "      <td>Phone</td>\n",
       "      <td>1</td>\n",
       "      <td>7.0</td>\n",
       "      <td>COD</td>\n",
       "      <td>Male</td>\n",
       "      <td>3.0</td>\n",
       "      <td>3</td>\n",
       "      <td>Mobile</td>\n",
       "      <td>1</td>\n",
       "      <td>Married</td>\n",
       "      <td>8</td>\n",
       "      <td>0</td>\n",
       "      <td>12.0</td>\n",
       "      <td>1.0</td>\n",
       "      <td>1.0</td>\n",
       "      <td>2.0</td>\n",
       "      <td>134.20</td>\n",
       "    </tr>\n",
       "    <tr>\n",
       "      <th>3437</th>\n",
       "      <td>53438</td>\n",
       "      <td>0</td>\n",
       "      <td>12.0</td>\n",
       "      <td>Mobile Phone</td>\n",
       "      <td>3</td>\n",
       "      <td>10.0</td>\n",
       "      <td>Debit Card</td>\n",
       "      <td>Male</td>\n",
       "      <td>3.0</td>\n",
       "      <td>4</td>\n",
       "      <td>Laptop &amp; Accessory</td>\n",
       "      <td>2</td>\n",
       "      <td>Single</td>\n",
       "      <td>10</td>\n",
       "      <td>1</td>\n",
       "      <td>13.0</td>\n",
       "      <td>2.0</td>\n",
       "      <td>2.0</td>\n",
       "      <td>1.0</td>\n",
       "      <td>193.61</td>\n",
       "    </tr>\n",
       "    <tr>\n",
       "      <th>2338</th>\n",
       "      <td>52339</td>\n",
       "      <td>0</td>\n",
       "      <td>0.0</td>\n",
       "      <td>Mobile Phone</td>\n",
       "      <td>3</td>\n",
       "      <td>24.0</td>\n",
       "      <td>Debit Card</td>\n",
       "      <td>Male</td>\n",
       "      <td>3.0</td>\n",
       "      <td>1</td>\n",
       "      <td>Laptop &amp; Accessory</td>\n",
       "      <td>3</td>\n",
       "      <td>Married</td>\n",
       "      <td>3</td>\n",
       "      <td>0</td>\n",
       "      <td>11.0</td>\n",
       "      <td>1.0</td>\n",
       "      <td>1.0</td>\n",
       "      <td>2.0</td>\n",
       "      <td>162.32</td>\n",
       "    </tr>\n",
       "    <tr>\n",
       "      <th>1183</th>\n",
       "      <td>51184</td>\n",
       "      <td>0</td>\n",
       "      <td>11.0</td>\n",
       "      <td>Mobile Phone</td>\n",
       "      <td>3</td>\n",
       "      <td>8.0</td>\n",
       "      <td>E wallet</td>\n",
       "      <td>Female</td>\n",
       "      <td>3.0</td>\n",
       "      <td>5</td>\n",
       "      <td>Laptop &amp; Accessory</td>\n",
       "      <td>1</td>\n",
       "      <td>Married</td>\n",
       "      <td>3</td>\n",
       "      <td>1</td>\n",
       "      <td>20.0</td>\n",
       "      <td>0.0</td>\n",
       "      <td>1.0</td>\n",
       "      <td>3.0</td>\n",
       "      <td>154.05</td>\n",
       "    </tr>\n",
       "    <tr>\n",
       "      <th>3410</th>\n",
       "      <td>53411</td>\n",
       "      <td>1</td>\n",
       "      <td>1.0</td>\n",
       "      <td>Phone</td>\n",
       "      <td>1</td>\n",
       "      <td>29.0</td>\n",
       "      <td>Debit Card</td>\n",
       "      <td>Female</td>\n",
       "      <td>3.0</td>\n",
       "      <td>4</td>\n",
       "      <td>Mobile Phone</td>\n",
       "      <td>3</td>\n",
       "      <td>Divorced</td>\n",
       "      <td>6</td>\n",
       "      <td>1</td>\n",
       "      <td>12.0</td>\n",
       "      <td>1.0</td>\n",
       "      <td>2.0</td>\n",
       "      <td>2.0</td>\n",
       "      <td>146.32</td>\n",
       "    </tr>\n",
       "    <tr>\n",
       "      <th>2383</th>\n",
       "      <td>52384</td>\n",
       "      <td>0</td>\n",
       "      <td>21.0</td>\n",
       "      <td>Mobile Phone</td>\n",
       "      <td>3</td>\n",
       "      <td>13.0</td>\n",
       "      <td>E wallet</td>\n",
       "      <td>Male</td>\n",
       "      <td>3.0</td>\n",
       "      <td>3</td>\n",
       "      <td>Laptop &amp; Accessory</td>\n",
       "      <td>5</td>\n",
       "      <td>Married</td>\n",
       "      <td>5</td>\n",
       "      <td>0</td>\n",
       "      <td>11.0</td>\n",
       "      <td>0.0</td>\n",
       "      <td>2.0</td>\n",
       "      <td>2.0</td>\n",
       "      <td>154.86</td>\n",
       "    </tr>\n",
       "    <tr>\n",
       "      <th>1165</th>\n",
       "      <td>51166</td>\n",
       "      <td>1</td>\n",
       "      <td>0.0</td>\n",
       "      <td>Computer</td>\n",
       "      <td>1</td>\n",
       "      <td>15.0</td>\n",
       "      <td>Debit Card</td>\n",
       "      <td>Male</td>\n",
       "      <td>3.0</td>\n",
       "      <td>3</td>\n",
       "      <td>Laptop &amp; Accessory</td>\n",
       "      <td>5</td>\n",
       "      <td>Married</td>\n",
       "      <td>5</td>\n",
       "      <td>0</td>\n",
       "      <td>17.0</td>\n",
       "      <td>0.0</td>\n",
       "      <td>1.0</td>\n",
       "      <td>7.0</td>\n",
       "      <td>153.46</td>\n",
       "    </tr>\n",
       "    <tr>\n",
       "      <th>5451</th>\n",
       "      <td>55452</td>\n",
       "      <td>1</td>\n",
       "      <td>1.0</td>\n",
       "      <td>Mobile Phone</td>\n",
       "      <td>1</td>\n",
       "      <td>17.0</td>\n",
       "      <td>Credit Card</td>\n",
       "      <td>Male</td>\n",
       "      <td>3.0</td>\n",
       "      <td>4</td>\n",
       "      <td>Laptop &amp; Accessory</td>\n",
       "      <td>5</td>\n",
       "      <td>Single</td>\n",
       "      <td>3</td>\n",
       "      <td>0</td>\n",
       "      <td>16.0</td>\n",
       "      <td>1.0</td>\n",
       "      <td>2.0</td>\n",
       "      <td>9.0</td>\n",
       "      <td>167.13</td>\n",
       "    </tr>\n",
       "  </tbody>\n",
       "</table>\n",
       "</div>"
      ],
      "text/plain": [
       "      CustomerID  Churn  Tenure PreferredLoginDevice  CityTier  \\\n",
       "3351       53352      0    17.0         Mobile Phone         1   \n",
       "2617       52618      0    11.0                Phone         1   \n",
       "2365       52366      0    20.0                Phone         1   \n",
       "3437       53438      0    12.0         Mobile Phone         3   \n",
       "2338       52339      0     0.0         Mobile Phone         3   \n",
       "1183       51184      0    11.0         Mobile Phone         3   \n",
       "3410       53411      1     1.0                Phone         1   \n",
       "2383       52384      0    21.0         Mobile Phone         3   \n",
       "1165       51166      1     0.0             Computer         1   \n",
       "5451       55452      1     1.0         Mobile Phone         1   \n",
       "\n",
       "      WarehouseToHome PreferredPaymentMode  Gender  HourSpendOnApp  \\\n",
       "3351             15.0           Debit Card  Female             3.0   \n",
       "2617             12.0                  UPI  Female             2.0   \n",
       "2365              7.0                  COD    Male             3.0   \n",
       "3437             10.0           Debit Card    Male             3.0   \n",
       "2338             24.0           Debit Card    Male             3.0   \n",
       "1183              8.0             E wallet  Female             3.0   \n",
       "3410             29.0           Debit Card  Female             3.0   \n",
       "2383             13.0             E wallet    Male             3.0   \n",
       "1165             15.0           Debit Card    Male             3.0   \n",
       "5451             17.0          Credit Card    Male             3.0   \n",
       "\n",
       "      NumberOfDeviceRegistered    PreferedOrderCat  SatisfactionScore  \\\n",
       "3351                         4  Laptop & Accessory                  4   \n",
       "2617                         4        Mobile Phone                  3   \n",
       "2365                         3              Mobile                  1   \n",
       "3437                         4  Laptop & Accessory                  2   \n",
       "2338                         1  Laptop & Accessory                  3   \n",
       "1183                         5  Laptop & Accessory                  1   \n",
       "3410                         4        Mobile Phone                  3   \n",
       "2383                         3  Laptop & Accessory                  5   \n",
       "1165                         3  Laptop & Accessory                  5   \n",
       "5451                         4  Laptop & Accessory                  5   \n",
       "\n",
       "     MaritalStatus  NumberOfAddress  Complain  OrderAmountHikeFromlastYear  \\\n",
       "3351       Married                6         0                         22.0   \n",
       "2617       Married                2         0                         11.0   \n",
       "2365       Married                8         0                         12.0   \n",
       "3437        Single               10         1                         13.0   \n",
       "2338       Married                3         0                         11.0   \n",
       "1183       Married                3         1                         20.0   \n",
       "3410      Divorced                6         1                         12.0   \n",
       "2383       Married                5         0                         11.0   \n",
       "1165       Married                5         0                         17.0   \n",
       "5451        Single                3         0                         16.0   \n",
       "\n",
       "      CouponUsed  OrderCount  DaySinceLastOrder  CashbackAmount  \n",
       "3351         2.0         2.0                1.0          172.65  \n",
       "2617         1.0         1.0                4.0          137.02  \n",
       "2365         1.0         1.0                2.0          134.20  \n",
       "3437         2.0         2.0                1.0          193.61  \n",
       "2338         1.0         1.0                2.0          162.32  \n",
       "1183         0.0         1.0                3.0          154.05  \n",
       "3410         1.0         2.0                2.0          146.32  \n",
       "2383         0.0         2.0                2.0          154.86  \n",
       "1165         0.0         1.0                7.0          153.46  \n",
       "5451         1.0         2.0                9.0          167.13  "
      ]
     },
     "execution_count": 23,
     "metadata": {},
     "output_type": "execute_result"
    }
   ],
   "source": [
    "data_inf = data.sample(10, random_state=20)\n",
    "data_inf"
   ]
  },
  {
   "cell_type": "markdown",
   "metadata": {},
   "source": [
    "Inference set Removal"
   ]
  },
  {
   "cell_type": "code",
   "execution_count": 24,
   "metadata": {},
   "outputs": [
    {
     "data": {
      "text/html": [
       "<div>\n",
       "<style scoped>\n",
       "    .dataframe tbody tr th:only-of-type {\n",
       "        vertical-align: middle;\n",
       "    }\n",
       "\n",
       "    .dataframe tbody tr th {\n",
       "        vertical-align: top;\n",
       "    }\n",
       "\n",
       "    .dataframe thead th {\n",
       "        text-align: right;\n",
       "    }\n",
       "</style>\n",
       "<table border=\"1\" class=\"dataframe\">\n",
       "  <thead>\n",
       "    <tr style=\"text-align: right;\">\n",
       "      <th></th>\n",
       "      <th>CustomerID</th>\n",
       "      <th>Churn</th>\n",
       "      <th>Tenure</th>\n",
       "      <th>PreferredLoginDevice</th>\n",
       "      <th>CityTier</th>\n",
       "      <th>WarehouseToHome</th>\n",
       "      <th>PreferredPaymentMode</th>\n",
       "      <th>Gender</th>\n",
       "      <th>HourSpendOnApp</th>\n",
       "      <th>NumberOfDeviceRegistered</th>\n",
       "      <th>PreferedOrderCat</th>\n",
       "      <th>SatisfactionScore</th>\n",
       "      <th>MaritalStatus</th>\n",
       "      <th>NumberOfAddress</th>\n",
       "      <th>Complain</th>\n",
       "      <th>OrderAmountHikeFromlastYear</th>\n",
       "      <th>CouponUsed</th>\n",
       "      <th>OrderCount</th>\n",
       "      <th>DaySinceLastOrder</th>\n",
       "      <th>CashbackAmount</th>\n",
       "    </tr>\n",
       "  </thead>\n",
       "  <tbody>\n",
       "    <tr>\n",
       "      <th>0</th>\n",
       "      <td>50001</td>\n",
       "      <td>1</td>\n",
       "      <td>4.0</td>\n",
       "      <td>Mobile Phone</td>\n",
       "      <td>3</td>\n",
       "      <td>6.0</td>\n",
       "      <td>Debit Card</td>\n",
       "      <td>Female</td>\n",
       "      <td>3.0</td>\n",
       "      <td>3</td>\n",
       "      <td>Laptop &amp; Accessory</td>\n",
       "      <td>2</td>\n",
       "      <td>Single</td>\n",
       "      <td>9</td>\n",
       "      <td>1</td>\n",
       "      <td>11.0</td>\n",
       "      <td>1.0</td>\n",
       "      <td>1.0</td>\n",
       "      <td>5.0</td>\n",
       "      <td>159.93</td>\n",
       "    </tr>\n",
       "    <tr>\n",
       "      <th>1</th>\n",
       "      <td>50002</td>\n",
       "      <td>1</td>\n",
       "      <td>NaN</td>\n",
       "      <td>Phone</td>\n",
       "      <td>1</td>\n",
       "      <td>8.0</td>\n",
       "      <td>UPI</td>\n",
       "      <td>Male</td>\n",
       "      <td>3.0</td>\n",
       "      <td>4</td>\n",
       "      <td>Mobile</td>\n",
       "      <td>3</td>\n",
       "      <td>Single</td>\n",
       "      <td>7</td>\n",
       "      <td>1</td>\n",
       "      <td>15.0</td>\n",
       "      <td>0.0</td>\n",
       "      <td>1.0</td>\n",
       "      <td>0.0</td>\n",
       "      <td>120.90</td>\n",
       "    </tr>\n",
       "    <tr>\n",
       "      <th>2</th>\n",
       "      <td>50003</td>\n",
       "      <td>1</td>\n",
       "      <td>NaN</td>\n",
       "      <td>Phone</td>\n",
       "      <td>1</td>\n",
       "      <td>30.0</td>\n",
       "      <td>Debit Card</td>\n",
       "      <td>Male</td>\n",
       "      <td>2.0</td>\n",
       "      <td>4</td>\n",
       "      <td>Mobile</td>\n",
       "      <td>3</td>\n",
       "      <td>Single</td>\n",
       "      <td>6</td>\n",
       "      <td>1</td>\n",
       "      <td>14.0</td>\n",
       "      <td>0.0</td>\n",
       "      <td>1.0</td>\n",
       "      <td>3.0</td>\n",
       "      <td>120.28</td>\n",
       "    </tr>\n",
       "    <tr>\n",
       "      <th>3</th>\n",
       "      <td>50004</td>\n",
       "      <td>1</td>\n",
       "      <td>0.0</td>\n",
       "      <td>Phone</td>\n",
       "      <td>3</td>\n",
       "      <td>15.0</td>\n",
       "      <td>Debit Card</td>\n",
       "      <td>Male</td>\n",
       "      <td>2.0</td>\n",
       "      <td>4</td>\n",
       "      <td>Laptop &amp; Accessory</td>\n",
       "      <td>5</td>\n",
       "      <td>Single</td>\n",
       "      <td>8</td>\n",
       "      <td>0</td>\n",
       "      <td>23.0</td>\n",
       "      <td>0.0</td>\n",
       "      <td>1.0</td>\n",
       "      <td>3.0</td>\n",
       "      <td>134.07</td>\n",
       "    </tr>\n",
       "    <tr>\n",
       "      <th>4</th>\n",
       "      <td>50005</td>\n",
       "      <td>1</td>\n",
       "      <td>0.0</td>\n",
       "      <td>Phone</td>\n",
       "      <td>1</td>\n",
       "      <td>12.0</td>\n",
       "      <td>Credit Card</td>\n",
       "      <td>Male</td>\n",
       "      <td>NaN</td>\n",
       "      <td>3</td>\n",
       "      <td>Mobile</td>\n",
       "      <td>5</td>\n",
       "      <td>Single</td>\n",
       "      <td>3</td>\n",
       "      <td>0</td>\n",
       "      <td>11.0</td>\n",
       "      <td>1.0</td>\n",
       "      <td>1.0</td>\n",
       "      <td>3.0</td>\n",
       "      <td>129.60</td>\n",
       "    </tr>\n",
       "  </tbody>\n",
       "</table>\n",
       "</div>"
      ],
      "text/plain": [
       "   CustomerID  Churn  Tenure PreferredLoginDevice  CityTier  WarehouseToHome  \\\n",
       "0       50001      1     4.0         Mobile Phone         3              6.0   \n",
       "1       50002      1     NaN                Phone         1              8.0   \n",
       "2       50003      1     NaN                Phone         1             30.0   \n",
       "3       50004      1     0.0                Phone         3             15.0   \n",
       "4       50005      1     0.0                Phone         1             12.0   \n",
       "\n",
       "  PreferredPaymentMode  Gender  HourSpendOnApp  NumberOfDeviceRegistered  \\\n",
       "0           Debit Card  Female             3.0                         3   \n",
       "1                  UPI    Male             3.0                         4   \n",
       "2           Debit Card    Male             2.0                         4   \n",
       "3           Debit Card    Male             2.0                         4   \n",
       "4          Credit Card    Male             NaN                         3   \n",
       "\n",
       "     PreferedOrderCat  SatisfactionScore MaritalStatus  NumberOfAddress  \\\n",
       "0  Laptop & Accessory                  2        Single                9   \n",
       "1              Mobile                  3        Single                7   \n",
       "2              Mobile                  3        Single                6   \n",
       "3  Laptop & Accessory                  5        Single                8   \n",
       "4              Mobile                  5        Single                3   \n",
       "\n",
       "   Complain  OrderAmountHikeFromlastYear  CouponUsed  OrderCount  \\\n",
       "0         1                         11.0         1.0         1.0   \n",
       "1         1                         15.0         0.0         1.0   \n",
       "2         1                         14.0         0.0         1.0   \n",
       "3         0                         23.0         0.0         1.0   \n",
       "4         0                         11.0         1.0         1.0   \n",
       "\n",
       "   DaySinceLastOrder  CashbackAmount  \n",
       "0                5.0          159.93  \n",
       "1                0.0          120.90  \n",
       "2                3.0          120.28  \n",
       "3                3.0          134.07  \n",
       "4                3.0          129.60  "
      ]
     },
     "execution_count": 24,
     "metadata": {},
     "output_type": "execute_result"
    }
   ],
   "source": [
    "# Remove Inference Set\n",
    "data_for_train_test = data.drop(data_inf.index)\n",
    "data_for_train_test.head()"
   ]
  },
  {
   "cell_type": "markdown",
   "metadata": {},
   "source": [
    "Reset index dari Inference set"
   ]
  },
  {
   "cell_type": "code",
   "execution_count": 25,
   "metadata": {},
   "outputs": [],
   "source": [
    "data_for_train_test.reset_index(drop=True, inplace=True)\n",
    "data_inf.reset_index(drop=True, inplace=True)"
   ]
  },
  {
   "cell_type": "markdown",
   "metadata": {},
   "source": [
    "## 5.2 Splitting Data"
   ]
  },
  {
   "cell_type": "markdown",
   "metadata": {},
   "source": [
    "Tahap awal yang dilakukan adalah melakukan splitting data"
   ]
  },
  {
   "cell_type": "code",
   "execution_count": 26,
   "metadata": {},
   "outputs": [
    {
     "data": {
      "text/plain": [
       "Index(['CustomerID', 'Churn', 'Tenure', 'PreferredLoginDevice', 'CityTier',\n",
       "       'WarehouseToHome', 'PreferredPaymentMode', 'Gender', 'HourSpendOnApp',\n",
       "       'NumberOfDeviceRegistered', 'PreferedOrderCat', 'SatisfactionScore',\n",
       "       'MaritalStatus', 'NumberOfAddress', 'Complain',\n",
       "       'OrderAmountHikeFromlastYear', 'CouponUsed', 'OrderCount',\n",
       "       'DaySinceLastOrder', 'CashbackAmount'],\n",
       "      dtype='object')"
      ]
     },
     "execution_count": 26,
     "metadata": {},
     "output_type": "execute_result"
    }
   ],
   "source": [
    "data.keys()"
   ]
  },
  {
   "cell_type": "markdown",
   "metadata": {},
   "source": [
    "pada tahapan ini, untuk prediktor atau fitur, kolom CustomerID tidak akan digunakan karena data ini unique untuk setiap customer."
   ]
  },
  {
   "cell_type": "code",
   "execution_count": 27,
   "metadata": {},
   "outputs": [
    {
     "data": {
      "text/html": [
       "<div>\n",
       "<style scoped>\n",
       "    .dataframe tbody tr th:only-of-type {\n",
       "        vertical-align: middle;\n",
       "    }\n",
       "\n",
       "    .dataframe tbody tr th {\n",
       "        vertical-align: top;\n",
       "    }\n",
       "\n",
       "    .dataframe thead th {\n",
       "        text-align: right;\n",
       "    }\n",
       "</style>\n",
       "<table border=\"1\" class=\"dataframe\">\n",
       "  <thead>\n",
       "    <tr style=\"text-align: right;\">\n",
       "      <th></th>\n",
       "      <th>Churn</th>\n",
       "    </tr>\n",
       "  </thead>\n",
       "  <tbody>\n",
       "    <tr>\n",
       "      <th>0</th>\n",
       "      <td>1</td>\n",
       "    </tr>\n",
       "    <tr>\n",
       "      <th>1</th>\n",
       "      <td>1</td>\n",
       "    </tr>\n",
       "    <tr>\n",
       "      <th>2</th>\n",
       "      <td>1</td>\n",
       "    </tr>\n",
       "    <tr>\n",
       "      <th>3</th>\n",
       "      <td>1</td>\n",
       "    </tr>\n",
       "    <tr>\n",
       "      <th>4</th>\n",
       "      <td>1</td>\n",
       "    </tr>\n",
       "    <tr>\n",
       "      <th>...</th>\n",
       "      <td>...</td>\n",
       "    </tr>\n",
       "    <tr>\n",
       "      <th>5615</th>\n",
       "      <td>0</td>\n",
       "    </tr>\n",
       "    <tr>\n",
       "      <th>5616</th>\n",
       "      <td>0</td>\n",
       "    </tr>\n",
       "    <tr>\n",
       "      <th>5617</th>\n",
       "      <td>0</td>\n",
       "    </tr>\n",
       "    <tr>\n",
       "      <th>5618</th>\n",
       "      <td>0</td>\n",
       "    </tr>\n",
       "    <tr>\n",
       "      <th>5619</th>\n",
       "      <td>0</td>\n",
       "    </tr>\n",
       "  </tbody>\n",
       "</table>\n",
       "<p>5620 rows × 1 columns</p>\n",
       "</div>"
      ],
      "text/plain": [
       "      Churn\n",
       "0         1\n",
       "1         1\n",
       "2         1\n",
       "3         1\n",
       "4         1\n",
       "...     ...\n",
       "5615      0\n",
       "5616      0\n",
       "5617      0\n",
       "5618      0\n",
       "5619      0\n",
       "\n",
       "[5620 rows x 1 columns]"
      ]
     },
     "execution_count": 27,
     "metadata": {},
     "output_type": "execute_result"
    }
   ],
   "source": [
    "X = data_for_train_test[['Tenure', 'PreferredLoginDevice', 'CityTier',\n",
    "       'WarehouseToHome', 'PreferredPaymentMode', 'Gender', 'HourSpendOnApp',\n",
    "       'NumberOfDeviceRegistered', 'PreferedOrderCat', 'SatisfactionScore',\n",
    "       'MaritalStatus', 'NumberOfAddress', 'Complain',\n",
    "       'OrderAmountHikeFromlastYear', 'CouponUsed', 'OrderCount',\n",
    "       'DaySinceLastOrder', 'CashbackAmount']]\n",
    "y = data_for_train_test[['Churn']]\n",
    "y"
   ]
  },
  {
   "cell_type": "markdown",
   "metadata": {},
   "source": [
    "- Split data untuk proses Train dan Test (Train = 80% dan Test = 20%)"
   ]
  },
  {
   "cell_type": "code",
   "execution_count": 28,
   "metadata": {},
   "outputs": [
    {
     "name": "stdout",
     "output_type": "stream",
     "text": [
      "Train size : (4496, 18)\n",
      "Test size : (1124, 18)\n"
     ]
    }
   ],
   "source": [
    "X_train, X_test, y_train, y_test = train_test_split(X, y, test_size=0.2, random_state=25)\n",
    "print(\"Train size :\", X_train.shape)\n",
    "print(\"Test size :\", X_test.shape)"
   ]
  },
  {
   "cell_type": "markdown",
   "metadata": {},
   "source": [
    "Berikut adalah sebaran presentase dataset terhadap keseluruhan data :\n",
    "\n",
    "- **X_train   = 80%**\n",
    "- **X_test    = 20%**"
   ]
  },
  {
   "cell_type": "markdown",
   "metadata": {},
   "source": [
    "## 5.3 Handling outliers"
   ]
  },
  {
   "cell_type": "code",
   "execution_count": 29,
   "metadata": {},
   "outputs": [
    {
     "data": {
      "text/plain": [
       "Index(['Tenure', 'PreferredLoginDevice', 'CityTier', 'WarehouseToHome',\n",
       "       'PreferredPaymentMode', 'Gender', 'HourSpendOnApp',\n",
       "       'NumberOfDeviceRegistered', 'PreferedOrderCat', 'SatisfactionScore',\n",
       "       'MaritalStatus', 'NumberOfAddress', 'Complain',\n",
       "       'OrderAmountHikeFromlastYear', 'CouponUsed', 'OrderCount',\n",
       "       'DaySinceLastOrder', 'CashbackAmount'],\n",
       "      dtype='object')"
      ]
     },
     "execution_count": 29,
     "metadata": {},
     "output_type": "execute_result"
    }
   ],
   "source": [
    "X_train.keys(\n",
    "    \n",
    ")"
   ]
  },
  {
   "cell_type": "markdown",
   "metadata": {},
   "source": [
    "- **Berdasarkan jenis dari data, handling outliers akan dilakukan pada data yang memiliki jenis numerikal (continuous) saja, sehingga pada X_train hanya dilakukan handling outliers untuk kolom 'Tenure', 'WarehouseToHome','HourSpendOnApp','NumberOfDeviceRegistered','NumberOfAddress' 'OrderAmountHikeFromlastYear', 'CouponUsed', 'OrderCount','DaySinceLastOrder', 'CashbackAmount'**"
   ]
  },
  {
   "cell_type": "markdown",
   "metadata": {},
   "source": [
    "langkah pertama adalah  melakukan cek skewness"
   ]
  },
  {
   "cell_type": "code",
   "execution_count": 30,
   "metadata": {},
   "outputs": [
    {
     "name": "stdout",
     "output_type": "stream",
     "text": [
      "Skewness of Tenure = 0.707254706100755\n",
      "============================================================\n",
      "Skewness of WarehouseToHome = 1.7809789658528754\n",
      "============================================================\n",
      "Skewness of HourSpendOnApp = -0.019064026890760408\n",
      "============================================================\n",
      "Skewness of NumberOfDeviceRegistered = -0.4005792470963677\n",
      "============================================================\n",
      "Skewness of NumberOfAddress = 1.05749373155457\n",
      "============================================================\n",
      "Skewness of OrderAmountHikeFromlastYear = 0.7906490250677288\n",
      "============================================================\n",
      "Skewness of CouponUsed = 2.5274071964506355\n",
      "============================================================\n",
      "Skewness of OrderCount = 2.160465393035999\n",
      "============================================================\n",
      "Skewness of DaySinceLastOrder = 1.2656173798201091\n",
      "============================================================\n",
      "Skewness of CashbackAmount = 1.1312110805545803\n",
      "============================================================\n"
     ]
    }
   ],
   "source": [
    "num_skewness = ['Tenure', 'WarehouseToHome','HourSpendOnApp','NumberOfDeviceRegistered',\n",
    "                'NumberOfAddress','OrderAmountHikeFromlastYear', 'CouponUsed', 'OrderCount',\n",
    "                'DaySinceLastOrder', 'CashbackAmount']\n",
    "normdis = []\n",
    "skewdis = []\n",
    "for iz in num_skewness :\n",
    "    skewness = X_train[iz].skew()\n",
    "    print('Skewness of', iz, \"=\" ,skewness)\n",
    "    print(30*\"==\")\n",
    "    if skewness<0.5 and skewness>-0.5 :\n",
    "        normdis.append(iz)\n",
    "    else:\n",
    "        skewdis.append(iz)"
   ]
  },
  {
   "cell_type": "code",
   "execution_count": 31,
   "metadata": {},
   "outputs": [
    {
     "name": "stdout",
     "output_type": "stream",
     "text": [
      "normal distribution : ['HourSpendOnApp', 'NumberOfDeviceRegistered']\n",
      "skew distribution : ['Tenure', 'WarehouseToHome', 'NumberOfAddress', 'OrderAmountHikeFromlastYear', 'CouponUsed', 'OrderCount', 'DaySinceLastOrder', 'CashbackAmount']\n"
     ]
    }
   ],
   "source": [
    "print(\"normal distribution :\",normdis)\n",
    "print(\"skew distribution :\", skewdis)"
   ]
  },
  {
   "cell_type": "markdown",
   "metadata": {},
   "source": [
    "Berdasarkan hasil cek skewness, kolom 'HourSpendOnApp' dan 'NumberOfDeviceRegistered' memiliki distribusi data yang normal. Sedangkan kolom numerik lainnya memiliki jenis skew."
   ]
  },
  {
   "cell_type": "markdown",
   "metadata": {},
   "source": [
    "kemudian akan dilakukan cek presentase data outliers untuk memutuskan ditrimming atau tidak?"
   ]
  },
  {
   "cell_type": "markdown",
   "metadata": {},
   "source": [
    "Pertama kita cek data yang skew terlebih dahulu"
   ]
  },
  {
   "cell_type": "code",
   "execution_count": 32,
   "metadata": {},
   "outputs": [
    {
     "name": "stdout",
     "output_type": "stream",
     "text": [
      "Tenure memiliki outliers sebesar = 2 data dengan presentase 0.023353573096683792 %\n",
      "Upperboundary = 37.0\n",
      "Lowerboundary = -19.0\n",
      "==+==+==+==+==+==+==+==+==+==+==+==+==+==+==+==+==+==+==+==+==+==+==+==+==+==+==+==+==+==+\n",
      "WarehouseToHome memiliki outliers sebesar = 2 data dengan presentase 0.02326122354035822 %\n",
      "Upperboundary = 36.5\n",
      "Lowerboundary = -7.5\n",
      "==+==+==+==+==+==+==+==+==+==+==+==+==+==+==+==+==+==+==+==+==+==+==+==+==+==+==+==+==+==+\n",
      "NumberOfAddress memiliki outliers sebesar = 2 data dengan presentase 0.02224694104560623 %\n",
      "Upperboundary = 12.0\n",
      "Lowerboundary = -4.0\n",
      "==+==+==+==+==+==+==+==+==+==+==+==+==+==+==+==+==+==+==+==+==+==+==+==+==+==+==+==+==+==+\n",
      "OrderAmountHikeFromlastYear memiliki outliers sebesar = 27 data dengan presentase 0.31523642732049034 %\n",
      "Upperboundary = 25.5\n",
      "Lowerboundary = 5.5\n",
      "==+==+==+==+==+==+==+==+==+==+==+==+==+==+==+==+==+==+==+==+==+==+==+==+==+==+==+==+==+==+\n",
      "CouponUsed memiliki outliers sebesar = 509 data dengan presentase 6.303405572755418 %\n",
      "Upperboundary = 3.5\n",
      "Lowerboundary = -0.5\n",
      "==+==+==+==+==+==+==+==+==+==+==+==+==+==+==+==+==+==+==+==+==+==+==+==+==+==+==+==+==+==+\n",
      "OrderCount memiliki outliers sebesar = 677 data dengan presentase 8.57722032180413 %\n",
      "Upperboundary = 6.0\n",
      "Lowerboundary = -2.0\n",
      "==+==+==+==+==+==+==+==+==+==+==+==+==+==+==+==+==+==+==+==+==+==+==+==+==+==+==+==+==+==+\n",
      "DaySinceLastOrder memiliki outliers sebesar = 49 data dengan presentase 0.579950289975145 %\n",
      "Upperboundary = 14.5\n",
      "Lowerboundary = -5.5\n",
      "==+==+==+==+==+==+==+==+==+==+==+==+==+==+==+==+==+==+==+==+==+==+==+==+==+==+==+==+==+==+\n",
      "CashbackAmount memiliki outliers sebesar = 339 data dengan presentase 3.9177163989367854 %\n",
      "Upperboundary = 272.00374999999997\n",
      "Lowerboundary = 70.33375000000002\n",
      "==+==+==+==+==+==+==+==+==+==+==+==+==+==+==+==+==+==+==+==+==+==+==+==+==+==+==+==+==+==+\n"
     ]
    }
   ],
   "source": [
    "threshold = 1.5\n",
    "for i in skewdis :\n",
    "        IQR = X_train[i].quantile(0.75) - X_train[i].quantile(0.25)\n",
    "        upper = X_train[i].quantile(0.75) + (threshold*IQR)\n",
    "        lower = X_train[i].quantile(0.25) - (threshold*IQR)\n",
    "        \n",
    "        inner = X_train[(X_train[i] < upper) & (X_train[i] > lower)][i].count()\n",
    "        outer = ((X_train[i].count() - inner) / (X_train[i].count() + inner))*100\n",
    "        jumlah_out = (X_train[i].count() - inner)\n",
    "        print(i, \"memiliki outliers sebesar =\", jumlah_out, \"data dengan presentase\", outer,\"%\")\n",
    "        print(\"Upperboundary =\", upper)\n",
    "        print(\"Lowerboundary =\", lower)\n",
    "        print(30*\"==+\") \n",
    "        "
   ]
  },
  {
   "cell_type": "markdown",
   "metadata": {},
   "source": [
    "Berikutnya kita cek presentase outliers di data dengan distribusi normal"
   ]
  },
  {
   "cell_type": "code",
   "execution_count": 33,
   "metadata": {},
   "outputs": [
    {
     "name": "stdout",
     "output_type": "stream",
     "text": [
      "HourSpendOnApp memiliki outliers sebesar = 0 data dengan presentase 0.0 %\n",
      "Upperboundary = 11.704186046511628\n",
      "Lowerboundary = -5.852093023255813\n",
      "==+==+==+==+==+==+==+==+==+==+==+==+==+==+==+==+==+==+==+==+==+==+==+==+==+==+==+==+==+==+\n",
      "NumberOfDeviceRegistered memiliki outliers sebesar = 0 data dengan presentase 0.0 %\n",
      "Upperboundary = 14.732206405693951\n",
      "Lowerboundary = -7.3661032028469755\n",
      "==+==+==+==+==+==+==+==+==+==+==+==+==+==+==+==+==+==+==+==+==+==+==+==+==+==+==+==+==+==+\n"
     ]
    }
   ],
   "source": [
    "for i in normdis :\n",
    "        upper_out = X_train[i].mean() + (3*X_train[i].mean())\n",
    "        lower_out = X_train[i].mean() - (3*X_train[i].mean())\n",
    "        \n",
    "        inner = X_train[(X_train[i] < upper_out) & (X_train[i] > lower_out)][i].count()\n",
    "        outer = ((X_train[i].count() - inner) / (X_train[i].count() + inner))*100\n",
    "        jumlah_out = (X_train[i].count() - inner)\n",
    "        print(i, \"memiliki outliers sebesar =\", jumlah_out, \"data dengan presentase\", outer,\"%\")\n",
    "        print(\"Upperboundary =\", upper_out)\n",
    "        print(\"Lowerboundary =\", lower_out)\n",
    "        print(30*\"==+\") \n",
    "        "
   ]
  },
  {
   "cell_type": "markdown",
   "metadata": {},
   "source": [
    "Ternyata pada kolom 'HourSpendOnApp' dan 'NumberOfDeviceRegistered', tidak terdapat outliers sehingga tidak perlu dilakukan capping pada kedua kolom ini."
   ]
  },
  {
   "cell_type": "markdown",
   "metadata": {},
   "source": [
    "**Statement Handling Outliers**\n",
    "- Walaupun masing-masing presentase outliers dengan keseluruhan data masih dibawah 10%, tetapi jika diakumulasikan akan cukup banyak. sehingga diputuskan untuk tidak melakukan trimming, tetapi akan dilakukan capping agar jumlah data tetap terjaga."
   ]
  },
  {
   "cell_type": "code",
   "execution_count": 34,
   "metadata": {},
   "outputs": [
    {
     "data": {
      "text/plain": [
       "['Tenure',\n",
       " 'WarehouseToHome',\n",
       " 'NumberOfAddress',\n",
       " 'OrderAmountHikeFromlastYear',\n",
       " 'CouponUsed',\n",
       " 'OrderCount',\n",
       " 'DaySinceLastOrder',\n",
       " 'CashbackAmount']"
      ]
     },
     "execution_count": 34,
     "metadata": {},
     "output_type": "execute_result"
    }
   ],
   "source": [
    "skewdis"
   ]
  },
  {
   "cell_type": "code",
   "execution_count": 35,
   "metadata": {},
   "outputs": [],
   "source": [
    "winsorizer = Winsorizer(capping_method='iqr', # choose iqr for IQR rule boundaries or gaussian for mean and std\n",
    "                       tail='both', # cap left, right or both tails \n",
    "                       fold=1.5,\n",
    "                       missing_values=\"ignore\",\n",
    "                       variables=['Tenure','WarehouseToHome','NumberOfAddress','OrderAmountHikeFromlastYear',\n",
    "                                  'CouponUsed','OrderCount','DaySinceLastOrder','CashbackAmount'])\n",
    "\n",
    "winsorizer.fit(X_train)\n",
    "\n",
    "X_capped = winsorizer.transform(X_train)"
   ]
  },
  {
   "cell_type": "code",
   "execution_count": 36,
   "metadata": {},
   "outputs": [
    {
     "name": "stdout",
     "output_type": "stream",
     "text": [
      "y_train : (4496, 1)\n",
      "X_train : (4496, 18)\n"
     ]
    }
   ],
   "source": [
    "print(\"y_train :\",y_train.shape)\n",
    "print(\"X_train :\",X_capped.shape)\n"
   ]
  },
  {
   "cell_type": "markdown",
   "metadata": {},
   "source": [
    "## 5.4 Handling Missing Value"
   ]
  },
  {
   "cell_type": "code",
   "execution_count": 37,
   "metadata": {},
   "outputs": [
    {
     "data": {
      "text/plain": [
       "Tenure                         213\n",
       "PreferredLoginDevice             0\n",
       "CityTier                         0\n",
       "WarehouseToHome                196\n",
       "PreferredPaymentMode             0\n",
       "Gender                           0\n",
       "HourSpendOnApp                 196\n",
       "NumberOfDeviceRegistered         0\n",
       "PreferedOrderCat                 0\n",
       "SatisfactionScore                0\n",
       "MaritalStatus                    0\n",
       "NumberOfAddress                  0\n",
       "Complain                         0\n",
       "OrderAmountHikeFromlastYear    200\n",
       "CouponUsed                     204\n",
       "OrderCount                     211\n",
       "DaySinceLastOrder              247\n",
       "CashbackAmount                   0\n",
       "dtype: int64"
      ]
     },
     "execution_count": 37,
     "metadata": {},
     "output_type": "execute_result"
    }
   ],
   "source": [
    "X_capped.isnull().sum()"
   ]
  },
  {
   "cell_type": "code",
   "execution_count": 38,
   "metadata": {},
   "outputs": [
    {
     "data": {
      "text/plain": [
       "Tenure                         51\n",
       "PreferredLoginDevice            0\n",
       "CityTier                        0\n",
       "WarehouseToHome                55\n",
       "PreferredPaymentMode            0\n",
       "Gender                          0\n",
       "HourSpendOnApp                 59\n",
       "NumberOfDeviceRegistered        0\n",
       "PreferedOrderCat                0\n",
       "SatisfactionScore               0\n",
       "MaritalStatus                   0\n",
       "NumberOfAddress                 0\n",
       "Complain                        0\n",
       "OrderAmountHikeFromlastYear    65\n",
       "CouponUsed                     52\n",
       "OrderCount                     47\n",
       "DaySinceLastOrder              60\n",
       "CashbackAmount                  0\n",
       "dtype: int64"
      ]
     },
     "execution_count": 38,
     "metadata": {},
     "output_type": "execute_result"
    }
   ],
   "source": [
    "X_test.isnull().sum()"
   ]
  },
  {
   "cell_type": "markdown",
   "metadata": {},
   "source": [
    "**Karena terdapat missing value pada beberapa kolom pada data yang digunakan (train dan test), maka akan dilakukan handling missing value sesuai dengan jenis distribusi datanya, karena sluruh data yang terdapat missing value memiliki distribusi yang skew, maka akan digunakan dilakukan imputasi dengan nilai median.** "
   ]
  },
  {
   "cell_type": "code",
   "execution_count": 39,
   "metadata": {},
   "outputs": [
    {
     "name": "stdout",
     "output_type": "stream",
     "text": [
      "Numerical Columns : ['Tenure', 'CityTier', 'WarehouseToHome', 'HourSpendOnApp', 'NumberOfDeviceRegistered', 'SatisfactionScore', 'NumberOfAddress', 'Complain', 'OrderAmountHikeFromlastYear', 'CouponUsed', 'OrderCount', 'DaySinceLastOrder', 'CashbackAmount']\n",
      "Non Numerical Columns : ['PreferredLoginDevice', 'PreferredPaymentMode', 'Gender', 'PreferedOrderCat', 'MaritalStatus']\n"
     ]
    }
   ],
   "source": [
    "num_cols = X_capped.select_dtypes(include=np.number).columns.tolist()\n",
    "non_num_cols = X_capped.select_dtypes(include=('object')).columns.tolist()\n",
    "\n",
    "print(\"Numerical Columns :\", num_cols)\n",
    "print(\"Non Numerical Columns :\", non_num_cols)"
   ]
  },
  {
   "cell_type": "markdown",
   "metadata": {},
   "source": [
    "Dibawah ini akan dilakukan imputasi dengan menggunakan simple imputer, imputasi untuk data numerikal akan menggunakan median lalu untuk data non numerikal akan menggunakan most frequent value."
   ]
  },
  {
   "cell_type": "code",
   "execution_count": 40,
   "metadata": {},
   "outputs": [],
   "source": [
    "impute_median = SimpleImputer(strategy='median')\n",
    "impute_most_freq = SimpleImputer(strategy='most_frequent')\n",
    "X_train_numclean = impute_median.fit_transform(X_capped[num_cols])\n",
    "X_test_numclean = impute_median.transform(X_test[num_cols])\n",
    "X_train_non_numclean = impute_most_freq.fit_transform(X_capped[non_num_cols])\n",
    "X_test_non_numclean = impute_most_freq.transform(X_test[non_num_cols])\n"
   ]
  },
  {
   "cell_type": "markdown",
   "metadata": {},
   "source": [
    "Script diatas digunakan untuk melakukan imputasi"
   ]
  },
  {
   "cell_type": "code",
   "execution_count": 41,
   "metadata": {},
   "outputs": [],
   "source": [
    "X_train = np.concatenate([X_train_numclean ,X_train_non_numclean],axis=1)\n",
    "X_test = np.concatenate([X_test_numclean, X_test_non_numclean],axis=1)"
   ]
  },
  {
   "cell_type": "code",
   "execution_count": 42,
   "metadata": {},
   "outputs": [],
   "source": [
    "colfor_missvall = num_cols+non_num_cols"
   ]
  },
  {
   "cell_type": "code",
   "execution_count": 43,
   "metadata": {},
   "outputs": [],
   "source": [
    "X_train = pd.DataFrame(X_train,columns=colfor_missvall)\n",
    "X_test = pd.DataFrame(X_test,columns=colfor_missvall)"
   ]
  },
  {
   "cell_type": "code",
   "execution_count": 44,
   "metadata": {},
   "outputs": [
    {
     "name": "stdout",
     "output_type": "stream",
     "text": [
      "missing value in X_train : 0\n",
      "missing value in X_test : 0\n"
     ]
    }
   ],
   "source": [
    "print(\"missing value in X_train :\",X_train.isnull().sum().sum())\n",
    "print(\"missing value in X_test :\",X_test.isnull().sum().sum())"
   ]
  },
  {
   "cell_type": "markdown",
   "metadata": {},
   "source": [
    "Missing Value yang terdapat pada X_train dan X_test telah hilang."
   ]
  },
  {
   "cell_type": "markdown",
   "metadata": {},
   "source": [
    "## 5.6 Handle Imbalance"
   ]
  },
  {
   "cell_type": "code",
   "execution_count": 45,
   "metadata": {},
   "outputs": [
    {
     "data": {
      "text/html": [
       "<div>\n",
       "<style scoped>\n",
       "    .dataframe tbody tr th:only-of-type {\n",
       "        vertical-align: middle;\n",
       "    }\n",
       "\n",
       "    .dataframe tbody tr th {\n",
       "        vertical-align: top;\n",
       "    }\n",
       "\n",
       "    .dataframe thead th {\n",
       "        text-align: right;\n",
       "    }\n",
       "</style>\n",
       "<table border=\"1\" class=\"dataframe\">\n",
       "  <thead>\n",
       "    <tr style=\"text-align: right;\">\n",
       "      <th></th>\n",
       "      <th>Tenure</th>\n",
       "      <th>CityTier</th>\n",
       "      <th>WarehouseToHome</th>\n",
       "      <th>HourSpendOnApp</th>\n",
       "      <th>NumberOfDeviceRegistered</th>\n",
       "      <th>SatisfactionScore</th>\n",
       "      <th>NumberOfAddress</th>\n",
       "      <th>Complain</th>\n",
       "      <th>OrderAmountHikeFromlastYear</th>\n",
       "      <th>CouponUsed</th>\n",
       "      <th>OrderCount</th>\n",
       "      <th>DaySinceLastOrder</th>\n",
       "      <th>CashbackAmount</th>\n",
       "      <th>PreferredLoginDevice</th>\n",
       "      <th>PreferredPaymentMode</th>\n",
       "      <th>Gender</th>\n",
       "      <th>PreferedOrderCat</th>\n",
       "      <th>MaritalStatus</th>\n",
       "    </tr>\n",
       "  </thead>\n",
       "  <tbody>\n",
       "    <tr>\n",
       "      <th>0</th>\n",
       "      <td>10.0</td>\n",
       "      <td>2.0</td>\n",
       "      <td>20.0</td>\n",
       "      <td>3.0</td>\n",
       "      <td>4.0</td>\n",
       "      <td>4.0</td>\n",
       "      <td>5.0</td>\n",
       "      <td>0.0</td>\n",
       "      <td>14.0</td>\n",
       "      <td>2.0</td>\n",
       "      <td>2.0</td>\n",
       "      <td>5.0</td>\n",
       "      <td>146.43</td>\n",
       "      <td>Phone</td>\n",
       "      <td>UPI</td>\n",
       "      <td>Male</td>\n",
       "      <td>Mobile Phone</td>\n",
       "      <td>Divorced</td>\n",
       "    </tr>\n",
       "    <tr>\n",
       "      <th>1</th>\n",
       "      <td>18.0</td>\n",
       "      <td>1.0</td>\n",
       "      <td>13.0</td>\n",
       "      <td>3.0</td>\n",
       "      <td>2.0</td>\n",
       "      <td>3.0</td>\n",
       "      <td>5.0</td>\n",
       "      <td>0.0</td>\n",
       "      <td>17.0</td>\n",
       "      <td>0.0</td>\n",
       "      <td>1.0</td>\n",
       "      <td>2.0</td>\n",
       "      <td>164.34</td>\n",
       "      <td>Computer</td>\n",
       "      <td>Debit Card</td>\n",
       "      <td>Male</td>\n",
       "      <td>Laptop &amp; Accessory</td>\n",
       "      <td>Divorced</td>\n",
       "    </tr>\n",
       "    <tr>\n",
       "      <th>2</th>\n",
       "      <td>21.0</td>\n",
       "      <td>1.0</td>\n",
       "      <td>14.0</td>\n",
       "      <td>3.0</td>\n",
       "      <td>3.0</td>\n",
       "      <td>5.0</td>\n",
       "      <td>9.0</td>\n",
       "      <td>0.0</td>\n",
       "      <td>12.0</td>\n",
       "      <td>3.5</td>\n",
       "      <td>6.0</td>\n",
       "      <td>6.0</td>\n",
       "      <td>123.67</td>\n",
       "      <td>Phone</td>\n",
       "      <td>UPI</td>\n",
       "      <td>Female</td>\n",
       "      <td>Mobile</td>\n",
       "      <td>Married</td>\n",
       "    </tr>\n",
       "    <tr>\n",
       "      <th>3</th>\n",
       "      <td>18.0</td>\n",
       "      <td>1.0</td>\n",
       "      <td>6.0</td>\n",
       "      <td>3.0</td>\n",
       "      <td>2.0</td>\n",
       "      <td>2.0</td>\n",
       "      <td>1.0</td>\n",
       "      <td>0.0</td>\n",
       "      <td>15.0</td>\n",
       "      <td>1.0</td>\n",
       "      <td>1.0</td>\n",
       "      <td>7.0</td>\n",
       "      <td>272.00375</td>\n",
       "      <td>Mobile Phone</td>\n",
       "      <td>UPI</td>\n",
       "      <td>Male</td>\n",
       "      <td>Others</td>\n",
       "      <td>Divorced</td>\n",
       "    </tr>\n",
       "    <tr>\n",
       "      <th>4</th>\n",
       "      <td>1.0</td>\n",
       "      <td>3.0</td>\n",
       "      <td>19.0</td>\n",
       "      <td>3.0</td>\n",
       "      <td>2.0</td>\n",
       "      <td>4.0</td>\n",
       "      <td>3.0</td>\n",
       "      <td>0.0</td>\n",
       "      <td>16.0</td>\n",
       "      <td>1.0</td>\n",
       "      <td>2.0</td>\n",
       "      <td>1.0</td>\n",
       "      <td>152.16</td>\n",
       "      <td>Mobile Phone</td>\n",
       "      <td>Debit Card</td>\n",
       "      <td>Female</td>\n",
       "      <td>Mobile Phone</td>\n",
       "      <td>Single</td>\n",
       "    </tr>\n",
       "  </tbody>\n",
       "</table>\n",
       "</div>"
      ],
      "text/plain": [
       "  Tenure CityTier WarehouseToHome HourSpendOnApp NumberOfDeviceRegistered  \\\n",
       "0   10.0      2.0            20.0            3.0                      4.0   \n",
       "1   18.0      1.0            13.0            3.0                      2.0   \n",
       "2   21.0      1.0            14.0            3.0                      3.0   \n",
       "3   18.0      1.0             6.0            3.0                      2.0   \n",
       "4    1.0      3.0            19.0            3.0                      2.0   \n",
       "\n",
       "  SatisfactionScore NumberOfAddress Complain OrderAmountHikeFromlastYear  \\\n",
       "0               4.0             5.0      0.0                        14.0   \n",
       "1               3.0             5.0      0.0                        17.0   \n",
       "2               5.0             9.0      0.0                        12.0   \n",
       "3               2.0             1.0      0.0                        15.0   \n",
       "4               4.0             3.0      0.0                        16.0   \n",
       "\n",
       "  CouponUsed OrderCount DaySinceLastOrder CashbackAmount PreferredLoginDevice  \\\n",
       "0        2.0        2.0               5.0         146.43                Phone   \n",
       "1        0.0        1.0               2.0         164.34             Computer   \n",
       "2        3.5        6.0               6.0         123.67                Phone   \n",
       "3        1.0        1.0               7.0      272.00375         Mobile Phone   \n",
       "4        1.0        2.0               1.0         152.16         Mobile Phone   \n",
       "\n",
       "  PreferredPaymentMode  Gender    PreferedOrderCat MaritalStatus  \n",
       "0                  UPI    Male        Mobile Phone      Divorced  \n",
       "1           Debit Card    Male  Laptop & Accessory      Divorced  \n",
       "2                  UPI  Female              Mobile       Married  \n",
       "3                  UPI    Male              Others      Divorced  \n",
       "4           Debit Card  Female        Mobile Phone        Single  "
      ]
     },
     "execution_count": 45,
     "metadata": {},
     "output_type": "execute_result"
    }
   ],
   "source": [
    "X_train.head()"
   ]
  },
  {
   "cell_type": "code",
   "execution_count": 46,
   "metadata": {},
   "outputs": [
    {
     "data": {
      "text/plain": [
       "Index(['Tenure', 'CityTier', 'WarehouseToHome', 'HourSpendOnApp',\n",
       "       'NumberOfDeviceRegistered', 'SatisfactionScore', 'NumberOfAddress',\n",
       "       'Complain', 'OrderAmountHikeFromlastYear', 'CouponUsed', 'OrderCount',\n",
       "       'DaySinceLastOrder', 'CashbackAmount', 'PreferredLoginDevice',\n",
       "       'PreferredPaymentMode', 'Gender', 'PreferedOrderCat', 'MaritalStatus'],\n",
       "      dtype='object')"
      ]
     },
     "execution_count": 46,
     "metadata": {},
     "output_type": "execute_result"
    }
   ],
   "source": [
    "X_train.columns"
   ]
  },
  {
   "cell_type": "markdown",
   "metadata": {},
   "source": [
    "Berdasarkan tabel diatas, yang akan dimasukan kedalam categorical_features pada tahapan smotenc adalah **'CityTier', 'SatisfactionScore', 'Complain', 'PreferredLoginDevice','PreferredPaymentMode', 'Gender', 'PreferedOrderCat', 'MaritalStatus'.**"
   ]
  },
  {
   "cell_type": "code",
   "execution_count": 47,
   "metadata": {},
   "outputs": [
    {
     "data": {
      "text/plain": [
       "Churn\n",
       "0        3753\n",
       "1        3753\n",
       "dtype: int64"
      ]
     },
     "execution_count": 47,
     "metadata": {},
     "output_type": "execute_result"
    }
   ],
   "source": [
    "smotenc = SMOTENC(categorical_features=[1,5,7,13,14,15,16,17], random_state = 42)\n",
    "X_train_balanced, y_train_balanced = smotenc.fit_resample(X_train, y_train)\n",
    "y_train_balanced.value_counts()"
   ]
  },
  {
   "cell_type": "markdown",
   "metadata": {},
   "source": [
    "Dari hasil y_train_balanced dapat terlihat bahwa target telah balance antara customer churn dan no churn"
   ]
  },
  {
   "cell_type": "markdown",
   "metadata": {},
   "source": [
    "Kemudian akan dicek kembali hasil smotenc untuk data kategorikal"
   ]
  },
  {
   "cell_type": "code",
   "execution_count": 48,
   "metadata": {},
   "outputs": [
    {
     "data": {
      "text/plain": [
       "1.0    4584\n",
       "3.0    2680\n",
       "2.0     242\n",
       "Name: CityTier, dtype: int64"
      ]
     },
     "execution_count": 48,
     "metadata": {},
     "output_type": "execute_result"
    }
   ],
   "source": [
    "X_train_balanced[\"CityTier\"].value_counts()"
   ]
  },
  {
   "cell_type": "markdown",
   "metadata": {},
   "source": [
    "unique values pada city tier tetap berkisar dari 1-3"
   ]
  },
  {
   "cell_type": "code",
   "execution_count": 49,
   "metadata": {},
   "outputs": [
    {
     "data": {
      "text/plain": [
       "3.0    2355\n",
       "5.0    1939\n",
       "4.0    1429\n",
       "1.0    1229\n",
       "2.0     554\n",
       "Name: SatisfactionScore, dtype: int64"
      ]
     },
     "execution_count": 49,
     "metadata": {},
     "output_type": "execute_result"
    }
   ],
   "source": [
    "X_train_balanced[\"SatisfactionScore\"].value_counts()"
   ]
  },
  {
   "cell_type": "markdown",
   "metadata": {},
   "source": [
    "unique values pada satisfaction score tetap berkisar dari 1-5"
   ]
  },
  {
   "cell_type": "code",
   "execution_count": 50,
   "metadata": {},
   "outputs": [
    {
     "data": {
      "text/plain": [
       "Married     3455\n",
       "Single      3250\n",
       "Divorced     801\n",
       "Name: MaritalStatus, dtype: int64"
      ]
     },
     "execution_count": 50,
     "metadata": {},
     "output_type": "execute_result"
    }
   ],
   "source": [
    "X_train_balanced[\"MaritalStatus\"].value_counts()"
   ]
  },
  {
   "cell_type": "markdown",
   "metadata": {},
   "source": [
    "unique values pada marital status tetap terbentuk 3 yaitu married, single dan divorced"
   ]
  },
  {
   "cell_type": "markdown",
   "metadata": {},
   "source": [
    "Kemudian variabel yang telah dilakukan balancing dikembalikan dalam X_train dan y_train."
   ]
  },
  {
   "cell_type": "code",
   "execution_count": 51,
   "metadata": {},
   "outputs": [],
   "source": [
    "X_train = X_train_balanced\n",
    "y_train = y_train_balanced"
   ]
  },
  {
   "cell_type": "markdown",
   "metadata": {},
   "source": [
    "## 5.7 Feature Selection"
   ]
  },
  {
   "cell_type": "code",
   "execution_count": 52,
   "metadata": {},
   "outputs": [
    {
     "data": {
      "text/html": [
       "<div>\n",
       "<style scoped>\n",
       "    .dataframe tbody tr th:only-of-type {\n",
       "        vertical-align: middle;\n",
       "    }\n",
       "\n",
       "    .dataframe tbody tr th {\n",
       "        vertical-align: top;\n",
       "    }\n",
       "\n",
       "    .dataframe thead th {\n",
       "        text-align: right;\n",
       "    }\n",
       "</style>\n",
       "<table border=\"1\" class=\"dataframe\">\n",
       "  <thead>\n",
       "    <tr style=\"text-align: right;\">\n",
       "      <th></th>\n",
       "      <th>Tenure</th>\n",
       "      <th>CityTier</th>\n",
       "      <th>WarehouseToHome</th>\n",
       "      <th>HourSpendOnApp</th>\n",
       "      <th>NumberOfDeviceRegistered</th>\n",
       "      <th>SatisfactionScore</th>\n",
       "      <th>NumberOfAddress</th>\n",
       "      <th>Complain</th>\n",
       "      <th>OrderAmountHikeFromlastYear</th>\n",
       "      <th>CouponUsed</th>\n",
       "      <th>OrderCount</th>\n",
       "      <th>DaySinceLastOrder</th>\n",
       "      <th>CashbackAmount</th>\n",
       "      <th>PreferredLoginDevice</th>\n",
       "      <th>PreferredPaymentMode</th>\n",
       "      <th>Gender</th>\n",
       "      <th>PreferedOrderCat</th>\n",
       "      <th>MaritalStatus</th>\n",
       "    </tr>\n",
       "  </thead>\n",
       "  <tbody>\n",
       "    <tr>\n",
       "      <th>0</th>\n",
       "      <td>10.0</td>\n",
       "      <td>2.0</td>\n",
       "      <td>20.0</td>\n",
       "      <td>3.0</td>\n",
       "      <td>4.0</td>\n",
       "      <td>4.0</td>\n",
       "      <td>5.0</td>\n",
       "      <td>0.0</td>\n",
       "      <td>14.0</td>\n",
       "      <td>2.0</td>\n",
       "      <td>2.0</td>\n",
       "      <td>5.0</td>\n",
       "      <td>146.43</td>\n",
       "      <td>Phone</td>\n",
       "      <td>UPI</td>\n",
       "      <td>Male</td>\n",
       "      <td>Mobile Phone</td>\n",
       "      <td>Divorced</td>\n",
       "    </tr>\n",
       "    <tr>\n",
       "      <th>1</th>\n",
       "      <td>18.0</td>\n",
       "      <td>1.0</td>\n",
       "      <td>13.0</td>\n",
       "      <td>3.0</td>\n",
       "      <td>2.0</td>\n",
       "      <td>3.0</td>\n",
       "      <td>5.0</td>\n",
       "      <td>0.0</td>\n",
       "      <td>17.0</td>\n",
       "      <td>0.0</td>\n",
       "      <td>1.0</td>\n",
       "      <td>2.0</td>\n",
       "      <td>164.34</td>\n",
       "      <td>Computer</td>\n",
       "      <td>Debit Card</td>\n",
       "      <td>Male</td>\n",
       "      <td>Laptop &amp; Accessory</td>\n",
       "      <td>Divorced</td>\n",
       "    </tr>\n",
       "    <tr>\n",
       "      <th>2</th>\n",
       "      <td>21.0</td>\n",
       "      <td>1.0</td>\n",
       "      <td>14.0</td>\n",
       "      <td>3.0</td>\n",
       "      <td>3.0</td>\n",
       "      <td>5.0</td>\n",
       "      <td>9.0</td>\n",
       "      <td>0.0</td>\n",
       "      <td>12.0</td>\n",
       "      <td>3.5</td>\n",
       "      <td>6.0</td>\n",
       "      <td>6.0</td>\n",
       "      <td>123.67</td>\n",
       "      <td>Phone</td>\n",
       "      <td>UPI</td>\n",
       "      <td>Female</td>\n",
       "      <td>Mobile</td>\n",
       "      <td>Married</td>\n",
       "    </tr>\n",
       "    <tr>\n",
       "      <th>3</th>\n",
       "      <td>18.0</td>\n",
       "      <td>1.0</td>\n",
       "      <td>6.0</td>\n",
       "      <td>3.0</td>\n",
       "      <td>2.0</td>\n",
       "      <td>2.0</td>\n",
       "      <td>1.0</td>\n",
       "      <td>0.0</td>\n",
       "      <td>15.0</td>\n",
       "      <td>1.0</td>\n",
       "      <td>1.0</td>\n",
       "      <td>7.0</td>\n",
       "      <td>272.00375</td>\n",
       "      <td>Mobile Phone</td>\n",
       "      <td>UPI</td>\n",
       "      <td>Male</td>\n",
       "      <td>Others</td>\n",
       "      <td>Divorced</td>\n",
       "    </tr>\n",
       "    <tr>\n",
       "      <th>4</th>\n",
       "      <td>1.0</td>\n",
       "      <td>3.0</td>\n",
       "      <td>19.0</td>\n",
       "      <td>3.0</td>\n",
       "      <td>2.0</td>\n",
       "      <td>4.0</td>\n",
       "      <td>3.0</td>\n",
       "      <td>0.0</td>\n",
       "      <td>16.0</td>\n",
       "      <td>1.0</td>\n",
       "      <td>2.0</td>\n",
       "      <td>1.0</td>\n",
       "      <td>152.16</td>\n",
       "      <td>Mobile Phone</td>\n",
       "      <td>Debit Card</td>\n",
       "      <td>Female</td>\n",
       "      <td>Mobile Phone</td>\n",
       "      <td>Single</td>\n",
       "    </tr>\n",
       "  </tbody>\n",
       "</table>\n",
       "</div>"
      ],
      "text/plain": [
       "  Tenure CityTier WarehouseToHome HourSpendOnApp NumberOfDeviceRegistered  \\\n",
       "0   10.0      2.0            20.0            3.0                      4.0   \n",
       "1   18.0      1.0            13.0            3.0                      2.0   \n",
       "2   21.0      1.0            14.0            3.0                      3.0   \n",
       "3   18.0      1.0             6.0            3.0                      2.0   \n",
       "4    1.0      3.0            19.0            3.0                      2.0   \n",
       "\n",
       "  SatisfactionScore NumberOfAddress Complain OrderAmountHikeFromlastYear  \\\n",
       "0               4.0             5.0      0.0                        14.0   \n",
       "1               3.0             5.0      0.0                        17.0   \n",
       "2               5.0             9.0      0.0                        12.0   \n",
       "3               2.0             1.0      0.0                        15.0   \n",
       "4               4.0             3.0      0.0                        16.0   \n",
       "\n",
       "  CouponUsed OrderCount DaySinceLastOrder CashbackAmount PreferredLoginDevice  \\\n",
       "0        2.0        2.0               5.0         146.43                Phone   \n",
       "1        0.0        1.0               2.0         164.34             Computer   \n",
       "2        3.5        6.0               6.0         123.67                Phone   \n",
       "3        1.0        1.0               7.0      272.00375         Mobile Phone   \n",
       "4        1.0        2.0               1.0         152.16         Mobile Phone   \n",
       "\n",
       "  PreferredPaymentMode  Gender    PreferedOrderCat MaritalStatus  \n",
       "0                  UPI    Male        Mobile Phone      Divorced  \n",
       "1           Debit Card    Male  Laptop & Accessory      Divorced  \n",
       "2                  UPI  Female              Mobile       Married  \n",
       "3                  UPI    Male              Others      Divorced  \n",
       "4           Debit Card  Female        Mobile Phone        Single  "
      ]
     },
     "execution_count": 52,
     "metadata": {},
     "output_type": "execute_result"
    }
   ],
   "source": [
    "X_train.head(5)"
   ]
  },
  {
   "cell_type": "markdown",
   "metadata": {},
   "source": [
    "Berdasarkan analisa data yang telah dilakukan pada tahap EDA, kesemua fitur kecuali customer ID memiliki korelasi dengan target, sehingga untuk tahapan selanjutnya akan digunakan semua fitur kecuali kolom target dan customer id pada X_train"
   ]
  },
  {
   "cell_type": "markdown",
   "metadata": {},
   "source": [
    "## 5.8 Split Numerical and Categorical "
   ]
  },
  {
   "cell_type": "code",
   "execution_count": 53,
   "metadata": {},
   "outputs": [
    {
     "data": {
      "text/html": [
       "<div>\n",
       "<style scoped>\n",
       "    .dataframe tbody tr th:only-of-type {\n",
       "        vertical-align: middle;\n",
       "    }\n",
       "\n",
       "    .dataframe tbody tr th {\n",
       "        vertical-align: top;\n",
       "    }\n",
       "\n",
       "    .dataframe thead th {\n",
       "        text-align: right;\n",
       "    }\n",
       "</style>\n",
       "<table border=\"1\" class=\"dataframe\">\n",
       "  <thead>\n",
       "    <tr style=\"text-align: right;\">\n",
       "      <th></th>\n",
       "      <th>Tenure</th>\n",
       "      <th>CityTier</th>\n",
       "      <th>WarehouseToHome</th>\n",
       "      <th>HourSpendOnApp</th>\n",
       "      <th>NumberOfDeviceRegistered</th>\n",
       "      <th>SatisfactionScore</th>\n",
       "      <th>NumberOfAddress</th>\n",
       "      <th>Complain</th>\n",
       "      <th>OrderAmountHikeFromlastYear</th>\n",
       "      <th>CouponUsed</th>\n",
       "      <th>OrderCount</th>\n",
       "      <th>DaySinceLastOrder</th>\n",
       "      <th>CashbackAmount</th>\n",
       "      <th>PreferredLoginDevice</th>\n",
       "      <th>PreferredPaymentMode</th>\n",
       "      <th>Gender</th>\n",
       "      <th>PreferedOrderCat</th>\n",
       "      <th>MaritalStatus</th>\n",
       "    </tr>\n",
       "  </thead>\n",
       "  <tbody>\n",
       "    <tr>\n",
       "      <th>0</th>\n",
       "      <td>10.0</td>\n",
       "      <td>2.0</td>\n",
       "      <td>20.0</td>\n",
       "      <td>3.0</td>\n",
       "      <td>4.0</td>\n",
       "      <td>4.0</td>\n",
       "      <td>5.0</td>\n",
       "      <td>0.0</td>\n",
       "      <td>14.0</td>\n",
       "      <td>2.0</td>\n",
       "      <td>2.0</td>\n",
       "      <td>5.0</td>\n",
       "      <td>146.43</td>\n",
       "      <td>Phone</td>\n",
       "      <td>UPI</td>\n",
       "      <td>Male</td>\n",
       "      <td>Mobile Phone</td>\n",
       "      <td>Divorced</td>\n",
       "    </tr>\n",
       "    <tr>\n",
       "      <th>1</th>\n",
       "      <td>18.0</td>\n",
       "      <td>1.0</td>\n",
       "      <td>13.0</td>\n",
       "      <td>3.0</td>\n",
       "      <td>2.0</td>\n",
       "      <td>3.0</td>\n",
       "      <td>5.0</td>\n",
       "      <td>0.0</td>\n",
       "      <td>17.0</td>\n",
       "      <td>0.0</td>\n",
       "      <td>1.0</td>\n",
       "      <td>2.0</td>\n",
       "      <td>164.34</td>\n",
       "      <td>Computer</td>\n",
       "      <td>Debit Card</td>\n",
       "      <td>Male</td>\n",
       "      <td>Laptop &amp; Accessory</td>\n",
       "      <td>Divorced</td>\n",
       "    </tr>\n",
       "    <tr>\n",
       "      <th>2</th>\n",
       "      <td>21.0</td>\n",
       "      <td>1.0</td>\n",
       "      <td>14.0</td>\n",
       "      <td>3.0</td>\n",
       "      <td>3.0</td>\n",
       "      <td>5.0</td>\n",
       "      <td>9.0</td>\n",
       "      <td>0.0</td>\n",
       "      <td>12.0</td>\n",
       "      <td>3.5</td>\n",
       "      <td>6.0</td>\n",
       "      <td>6.0</td>\n",
       "      <td>123.67</td>\n",
       "      <td>Phone</td>\n",
       "      <td>UPI</td>\n",
       "      <td>Female</td>\n",
       "      <td>Mobile</td>\n",
       "      <td>Married</td>\n",
       "    </tr>\n",
       "    <tr>\n",
       "      <th>3</th>\n",
       "      <td>18.0</td>\n",
       "      <td>1.0</td>\n",
       "      <td>6.0</td>\n",
       "      <td>3.0</td>\n",
       "      <td>2.0</td>\n",
       "      <td>2.0</td>\n",
       "      <td>1.0</td>\n",
       "      <td>0.0</td>\n",
       "      <td>15.0</td>\n",
       "      <td>1.0</td>\n",
       "      <td>1.0</td>\n",
       "      <td>7.0</td>\n",
       "      <td>272.00375</td>\n",
       "      <td>Mobile Phone</td>\n",
       "      <td>UPI</td>\n",
       "      <td>Male</td>\n",
       "      <td>Others</td>\n",
       "      <td>Divorced</td>\n",
       "    </tr>\n",
       "    <tr>\n",
       "      <th>4</th>\n",
       "      <td>1.0</td>\n",
       "      <td>3.0</td>\n",
       "      <td>19.0</td>\n",
       "      <td>3.0</td>\n",
       "      <td>2.0</td>\n",
       "      <td>4.0</td>\n",
       "      <td>3.0</td>\n",
       "      <td>0.0</td>\n",
       "      <td>16.0</td>\n",
       "      <td>1.0</td>\n",
       "      <td>2.0</td>\n",
       "      <td>1.0</td>\n",
       "      <td>152.16</td>\n",
       "      <td>Mobile Phone</td>\n",
       "      <td>Debit Card</td>\n",
       "      <td>Female</td>\n",
       "      <td>Mobile Phone</td>\n",
       "      <td>Single</td>\n",
       "    </tr>\n",
       "  </tbody>\n",
       "</table>\n",
       "</div>"
      ],
      "text/plain": [
       "  Tenure CityTier WarehouseToHome HourSpendOnApp NumberOfDeviceRegistered  \\\n",
       "0   10.0      2.0            20.0            3.0                      4.0   \n",
       "1   18.0      1.0            13.0            3.0                      2.0   \n",
       "2   21.0      1.0            14.0            3.0                      3.0   \n",
       "3   18.0      1.0             6.0            3.0                      2.0   \n",
       "4    1.0      3.0            19.0            3.0                      2.0   \n",
       "\n",
       "  SatisfactionScore NumberOfAddress Complain OrderAmountHikeFromlastYear  \\\n",
       "0               4.0             5.0      0.0                        14.0   \n",
       "1               3.0             5.0      0.0                        17.0   \n",
       "2               5.0             9.0      0.0                        12.0   \n",
       "3               2.0             1.0      0.0                        15.0   \n",
       "4               4.0             3.0      0.0                        16.0   \n",
       "\n",
       "  CouponUsed OrderCount DaySinceLastOrder CashbackAmount PreferredLoginDevice  \\\n",
       "0        2.0        2.0               5.0         146.43                Phone   \n",
       "1        0.0        1.0               2.0         164.34             Computer   \n",
       "2        3.5        6.0               6.0         123.67                Phone   \n",
       "3        1.0        1.0               7.0      272.00375         Mobile Phone   \n",
       "4        1.0        2.0               1.0         152.16         Mobile Phone   \n",
       "\n",
       "  PreferredPaymentMode  Gender    PreferedOrderCat MaritalStatus  \n",
       "0                  UPI    Male        Mobile Phone      Divorced  \n",
       "1           Debit Card    Male  Laptop & Accessory      Divorced  \n",
       "2                  UPI  Female              Mobile       Married  \n",
       "3                  UPI    Male              Others      Divorced  \n",
       "4           Debit Card  Female        Mobile Phone        Single  "
      ]
     },
     "execution_count": 53,
     "metadata": {},
     "output_type": "execute_result"
    }
   ],
   "source": [
    "X_train.head()"
   ]
  },
  {
   "cell_type": "markdown",
   "metadata": {},
   "source": [
    "Untuk mempermudah tahapan feature scaling dan encoding, dilakukan pemisahan antara data categorical dan numerikal terlebih dahulu,, dengan script dibawah ini."
   ]
  },
  {
   "cell_type": "code",
   "execution_count": 54,
   "metadata": {},
   "outputs": [],
   "source": [
    "numerical_cols = ['Tenure','WarehouseToHome','HourSpendOnApp','NumberOfDeviceRegistered','NumberOfAddress', \n",
    "                  'OrderAmountHikeFromlastYear', \"CouponUsed\", \"OrderCount\", \"DaySinceLastOrder\",\"CashbackAmount\"]\n",
    "nominal_cols = [\"PreferredLoginDevice\",\t\"PreferredPaymentMode\",\t\"Gender\", \"PreferedOrderCat\", \"MaritalStatus\"]\n",
    "no_encode_cols = [\"Complain\", \"CityTier\", \"SatisfactionScore\", ]"
   ]
  },
  {
   "cell_type": "markdown",
   "metadata": {},
   "source": [
    "- Kolom ordinal seperti pada kolom CityTier dan SatisfactionScore tidak dilakukan ordinal encoding karena sudah dalam bentuk numerik.\n",
    "- kolom/fitur nominal Complain tidak dimasukan kedalam onehotencoder karena sudah dalam bentuk binary."
   ]
  },
  {
   "cell_type": "markdown",
   "metadata": {},
   "source": [
    "Kemudian kolom diurutkan untuk menghindari terjaidnya error pada pipeline karena perbedaan kolom."
   ]
  },
  {
   "cell_type": "code",
   "execution_count": 55,
   "metadata": {},
   "outputs": [],
   "source": [
    "final = numerical_cols + nominal_cols + no_encode_cols "
   ]
  },
  {
   "cell_type": "code",
   "execution_count": 56,
   "metadata": {},
   "outputs": [],
   "source": [
    "X_train = X_train[final]\n",
    "X_test = X_test[final]"
   ]
  },
  {
   "cell_type": "markdown",
   "metadata": {},
   "source": [
    "## 5.9 Feature Scaling and Encoding"
   ]
  },
  {
   "cell_type": "markdown",
   "metadata": {},
   "source": [
    "Dilakukan definisi menggunakan column transformer untuk memasukan scaling dan encoding pada pipeline sklearn"
   ]
  },
  {
   "cell_type": "code",
   "execution_count": 57,
   "metadata": {},
   "outputs": [],
   "source": [
    "# Make the Feature Engineering Pipeline\n",
    "# pipeline_fe_fs = ColumnTransformer([('minmaxScaler', MinMaxScaler(), num_cols)])  \n",
    "pipeline_fe_fs = ColumnTransformer([\n",
    "    ('minmaxScaler', MinMaxScaler(), numerical_cols),\n",
    "    ('OHE', OneHotEncoder(), nominal_cols)\n",
    "])  "
   ]
  },
  {
   "cell_type": "markdown",
   "metadata": {},
   "source": [
    "---\n",
    "# 6. Model Definition"
   ]
  },
  {
   "cell_type": "markdown",
   "metadata": {},
   "source": [
    "Pada tugas ini, kita akan menggunakan beberapa algoritma machine learning yaitu :\n",
    "1. Logistic Regression\n",
    "2. SVM\n",
    "3. Decision Tree\n",
    "4. Random Forest\n",
    "5. KNN\n",
    "6. Naive Bayes\n",
    "7. XGboost\n",
    "8. Adaboost"
   ]
  },
  {
   "cell_type": "markdown",
   "metadata": {},
   "source": [
    "dibawah ini akan dilakukan pendefinisian model dengan :\n",
    "- initial model (model dengan parameter default)\n",
    "- model pipeline (Pipeline untuk seriap model dengan langsung melakukan tahapan preprocessing hingga fit model)\n",
    "- Hyperparameter (pendefinisian hyperparameter untuk setiap model jika berlanjut ke hyperparameter tuning/gridsearch)"
   ]
  },
  {
   "cell_type": "code",
   "execution_count": 58,
   "metadata": {},
   "outputs": [],
   "source": [
    "randomstate = 17"
   ]
  },
  {
   "cell_type": "markdown",
   "metadata": {},
   "source": [
    "**Logistic Regression**"
   ]
  },
  {
   "cell_type": "code",
   "execution_count": 59,
   "metadata": {},
   "outputs": [],
   "source": [
    "# Initial Model\n",
    "logreg = LogisticRegression(random_state=randomstate)\n",
    "\n",
    "# Model Pipeline\n",
    "pipe_logreg = Pipeline([\n",
    "    ('preprocessing', pipeline_fe_fs),\n",
    "    ('logreg', logreg)\n",
    "])\n",
    "\n",
    "# Hyperparameter\n",
    "params_logreg = {\n",
    "    'logreg__solvers': ['newton-cg', 'lbfgs', 'liblinear'],\n",
    "    'logreg__min_penalty': ['l1','l2'],\n",
    "    'logreg__C': list(np.linspace(1.0,100.0,100))\n",
    "}"
   ]
  },
  {
   "cell_type": "markdown",
   "metadata": {},
   "source": [
    "**SVM**"
   ]
  },
  {
   "cell_type": "code",
   "execution_count": 60,
   "metadata": {},
   "outputs": [],
   "source": [
    "# Initial Model\n",
    "svc= SVC(random_state=randomstate)\n",
    "\n",
    "# Model Pipeline\n",
    "pipe_svc = Pipeline([\n",
    "    ('preprocessing', pipeline_fe_fs),\n",
    "    ('svc', svc)\n",
    "])\n",
    "\n",
    "# Hyperparameter\n",
    "params_svc = {\n",
    "    'svc__C': list(np.linspace(1,100.0,100)),\n",
    "    'svc__gamma': [1, 0.1, 0.01, 0.001],\n",
    "    'svc__kernel': ['rbf']\n",
    "}"
   ]
  },
  {
   "cell_type": "markdown",
   "metadata": {},
   "source": [
    "**Decision Tree**"
   ]
  },
  {
   "cell_type": "code",
   "execution_count": 61,
   "metadata": {},
   "outputs": [],
   "source": [
    "# Initial Model\n",
    "dt= DecisionTreeClassifier(random_state=randomstate)\n",
    "\n",
    "# Model Pipeline\n",
    "pipe_dt = Pipeline([\n",
    "    ('preprocessing', pipeline_fe_fs),\n",
    "    ('dt', dt)\n",
    "])\n",
    "\n",
    "# Hyperparameter\n",
    "params_dt = {\n",
    "    'dt__max_depth': ['None',2, 3, 5, 10, 20],\n",
    "    'dt__min_samples_leaf': [10,50,100,150,200,250,300],\n",
    "    'dt__criterion': [\"gini\", \"entropy\"]\n",
    "}"
   ]
  },
  {
   "cell_type": "markdown",
   "metadata": {},
   "source": [
    "**Random Forest**"
   ]
  },
  {
   "cell_type": "code",
   "execution_count": 62,
   "metadata": {},
   "outputs": [],
   "source": [
    "# Initial Model\n",
    "rf= RandomForestClassifier(random_state=randomstate)\n",
    "\n",
    "# Model Pipeline\n",
    "pipe_rf = Pipeline([\n",
    "    ('preprocessing', pipeline_fe_fs),\n",
    "    ('rf', rf)\n",
    "])\n",
    "\n",
    "# Hyperparameter\n",
    "params_rf = {\n",
    "    'rf__n_estimators': [1,10,100,1000],\n",
    "    'rf__max_depth': ['None',1,10,100],\n",
    "    'rf__criterion': [\"gini\", \"entropy\"]\n",
    "}"
   ]
  },
  {
   "cell_type": "markdown",
   "metadata": {},
   "source": [
    "**KNN**"
   ]
  },
  {
   "cell_type": "code",
   "execution_count": 63,
   "metadata": {},
   "outputs": [],
   "source": [
    "# Initial Model\n",
    "knn= KNeighborsClassifier()\n",
    "\n",
    "# Model Pipeline\n",
    "pipe_knn = Pipeline([\n",
    "    ('preprocessing', pipeline_fe_fs),\n",
    "    ('knn', knn)\n",
    "])\n",
    "\n",
    "# Hyperparameter\n",
    "params_knn = {\n",
    "    'knn__n_neighbors': list(np.arange(1,101,1)),\n",
    "    'knn__weights': ['uniform','distance'],\n",
    "    'knn__algorithm': [\"auto\"]\n",
    "}"
   ]
  },
  {
   "cell_type": "markdown",
   "metadata": {},
   "source": [
    "**Naive Bayes**"
   ]
  },
  {
   "cell_type": "code",
   "execution_count": 64,
   "metadata": {},
   "outputs": [],
   "source": [
    "# Initial Model\n",
    "nb= GaussianNB()\n",
    "\n",
    "# Model Pipeline\n",
    "pipe_nb = Pipeline([\n",
    "    ('preprocessing', pipeline_fe_fs),\n",
    "    ('nb', nb)\n",
    "])\n",
    "\n",
    "# Hyperparameter\n",
    "params_nb = {\n",
    "    'nb__var_smoothing': list(np.logspace(0,-9, num=100)),\n",
    "}\n"
   ]
  },
  {
   "cell_type": "markdown",
   "metadata": {},
   "source": [
    "**XGboost**"
   ]
  },
  {
   "cell_type": "code",
   "execution_count": 65,
   "metadata": {},
   "outputs": [],
   "source": [
    "# Initial Model\n",
    "xg = GradientBoostingClassifier(random_state=randomstate)\n",
    "\n",
    "# Model Pipeline\n",
    "pipe_xg = Pipeline([\n",
    "    ('preprocessing', pipeline_fe_fs),\n",
    "    ('xg', xg)\n",
    "])\n",
    "\n",
    "# Hyperparameter\n",
    "params_xg = {\n",
    "    'xg__learning_rate': [0.1,1.0],\n",
    "    'xg__n_estimators': [1,10,100,1000],\n",
    "    'xg__criterion': [\"friedman_mse\", \"mse\", \"squared_error\"]\n",
    "}"
   ]
  },
  {
   "cell_type": "markdown",
   "metadata": {},
   "source": [
    "**Adaboost**"
   ]
  },
  {
   "cell_type": "code",
   "execution_count": 66,
   "metadata": {},
   "outputs": [],
   "source": [
    "# Initial Model\n",
    "ad = AdaBoostClassifier(random_state=randomstate)\n",
    "\n",
    "# Model Pipeline\n",
    "pipe_ad = Pipeline([\n",
    "    ('preprocessing', pipeline_fe_fs),\n",
    "    ('ad', ad)\n",
    "])\n",
    "\n",
    "# Hyperparameter\n",
    "params_ad = {\n",
    "    'ad__learning_rate': [0.1,0.2,0.3,0.4,0.5,0.6,0.7,0.8,0.9,1.0],\n",
    "    'ad__n_estimators': [1,10,100,1000],\n",
    "    'ad__algorithm': [\"SAMME\", \"SAMME.R\"]}"
   ]
  },
  {
   "cell_type": "markdown",
   "metadata": {},
   "source": [
    "---\n",
    "# 7. Model Training"
   ]
  },
  {
   "cell_type": "markdown",
   "metadata": {},
   "source": [
    "**Pada tahapan ini, dilakukan model training menggunakan model default dengan memanfaatkan pipeline yang telah disiapkan pada model definition**"
   ]
  },
  {
   "cell_type": "markdown",
   "metadata": {},
   "source": [
    "**Logistic Regression**"
   ]
  },
  {
   "cell_type": "code",
   "execution_count": 67,
   "metadata": {},
   "outputs": [],
   "source": [
    "model_logreg = pipe_logreg.fit(X_train,y_train)"
   ]
  },
  {
   "cell_type": "markdown",
   "metadata": {},
   "source": [
    "**SVC**"
   ]
  },
  {
   "cell_type": "code",
   "execution_count": 68,
   "metadata": {},
   "outputs": [],
   "source": [
    "model_svc = pipe_svc.fit(X_train,y_train)"
   ]
  },
  {
   "cell_type": "markdown",
   "metadata": {},
   "source": [
    "**Decision Tree**"
   ]
  },
  {
   "cell_type": "code",
   "execution_count": 69,
   "metadata": {},
   "outputs": [],
   "source": [
    "model_dt = pipe_dt.fit(X_train,y_train)"
   ]
  },
  {
   "cell_type": "markdown",
   "metadata": {},
   "source": [
    "**Random Forest**"
   ]
  },
  {
   "cell_type": "code",
   "execution_count": 70,
   "metadata": {},
   "outputs": [],
   "source": [
    "model_rf = pipe_rf.fit(X_train,y_train)"
   ]
  },
  {
   "cell_type": "markdown",
   "metadata": {},
   "source": [
    "**KNN**"
   ]
  },
  {
   "cell_type": "code",
   "execution_count": 71,
   "metadata": {},
   "outputs": [],
   "source": [
    "model_knn = pipe_knn.fit(X_train,y_train)"
   ]
  },
  {
   "cell_type": "markdown",
   "metadata": {},
   "source": [
    "**Naive Bayes**"
   ]
  },
  {
   "cell_type": "code",
   "execution_count": 72,
   "metadata": {},
   "outputs": [],
   "source": [
    "model_nb = pipe_nb.fit(X_train,y_train)"
   ]
  },
  {
   "cell_type": "markdown",
   "metadata": {},
   "source": [
    "**XGboost**"
   ]
  },
  {
   "cell_type": "code",
   "execution_count": 73,
   "metadata": {},
   "outputs": [],
   "source": [
    "model_xg = pipe_xg.fit(X_train,y_train)"
   ]
  },
  {
   "cell_type": "markdown",
   "metadata": {},
   "source": [
    "**Adaboost**"
   ]
  },
  {
   "cell_type": "code",
   "execution_count": 74,
   "metadata": {},
   "outputs": [],
   "source": [
    "model_ad = pipe_ad.fit(X_train,y_train)"
   ]
  },
  {
   "cell_type": "code",
   "execution_count": 75,
   "metadata": {},
   "outputs": [],
   "source": [
    "model = [model_logreg,model_svc, model_dt, model_rf, model_knn, model_nb, model_xg, model_ad]"
   ]
  },
  {
   "cell_type": "markdown",
   "metadata": {},
   "source": [
    "---\n",
    "# 8. Model Evaluation"
   ]
  },
  {
   "cell_type": "markdown",
   "metadata": {},
   "source": [
    "**Setelah dilakukan training model, langkah selanjutnya adalah melakukan evaluasi terhadap defaukt model yang telah dilakukan sebelumnya.**"
   ]
  },
  {
   "cell_type": "markdown",
   "metadata": {},
   "source": [
    "Langkah awal adalah melakukan pemilihan 2 model terbaik dengan menggunakan cross validation, seperti dibawah ini."
   ]
  },
  {
   "cell_type": "code",
   "execution_count": 76,
   "metadata": {},
   "outputs": [],
   "source": [
    "name = [\"logistic_regression\", \"SVC\", \"Decision_Tree\", \"Random_Forest\", \"KNN\", \"Naive Bayes (Gaussian)\", \"XGBoost\", \"Adaboost\"]"
   ]
  },
  {
   "cell_type": "code",
   "execution_count": 77,
   "metadata": {},
   "outputs": [],
   "source": [
    "mean_score = []\n",
    "std_dev = []\n",
    "for i in model :\n",
    "    # print(i)\n",
    "    cvscore = cross_val_score(i,X_train, y_train, cv=5, scoring='f1')\n",
    "    mean_score.append(np.nanmean(cvscore))\n",
    "    std_dev.append(np.nanstd(cvscore))"
   ]
  },
  {
   "cell_type": "code",
   "execution_count": 78,
   "metadata": {},
   "outputs": [],
   "source": [
    "hasil_cross_validation = pd.DataFrame({'Algorithm' : name, 'mean_score' : mean_score, 'std_dev' : std_dev})\n",
    "hasil_cross_validation = hasil_cross_validation.sort_values(by = 'mean_score', ascending = False)"
   ]
  },
  {
   "cell_type": "code",
   "execution_count": 79,
   "metadata": {},
   "outputs": [
    {
     "data": {
      "text/html": [
       "<div>\n",
       "<style scoped>\n",
       "    .dataframe tbody tr th:only-of-type {\n",
       "        vertical-align: middle;\n",
       "    }\n",
       "\n",
       "    .dataframe tbody tr th {\n",
       "        vertical-align: top;\n",
       "    }\n",
       "\n",
       "    .dataframe thead th {\n",
       "        text-align: right;\n",
       "    }\n",
       "</style>\n",
       "<table border=\"1\" class=\"dataframe\">\n",
       "  <thead>\n",
       "    <tr style=\"text-align: right;\">\n",
       "      <th></th>\n",
       "      <th>Algorithm</th>\n",
       "      <th>mean_score</th>\n",
       "      <th>std_dev</th>\n",
       "    </tr>\n",
       "  </thead>\n",
       "  <tbody>\n",
       "    <tr>\n",
       "      <th>3</th>\n",
       "      <td>Random_Forest</td>\n",
       "      <td>0.940646</td>\n",
       "      <td>0.064662</td>\n",
       "    </tr>\n",
       "    <tr>\n",
       "      <th>2</th>\n",
       "      <td>Decision_Tree</td>\n",
       "      <td>0.909828</td>\n",
       "      <td>0.055207</td>\n",
       "    </tr>\n",
       "    <tr>\n",
       "      <th>6</th>\n",
       "      <td>XGBoost</td>\n",
       "      <td>0.889272</td>\n",
       "      <td>0.105474</td>\n",
       "    </tr>\n",
       "    <tr>\n",
       "      <th>7</th>\n",
       "      <td>Adaboost</td>\n",
       "      <td>0.868397</td>\n",
       "      <td>0.086798</td>\n",
       "    </tr>\n",
       "    <tr>\n",
       "      <th>1</th>\n",
       "      <td>SVC</td>\n",
       "      <td>0.852066</td>\n",
       "      <td>0.044719</td>\n",
       "    </tr>\n",
       "    <tr>\n",
       "      <th>4</th>\n",
       "      <td>KNN</td>\n",
       "      <td>0.844263</td>\n",
       "      <td>0.060745</td>\n",
       "    </tr>\n",
       "    <tr>\n",
       "      <th>0</th>\n",
       "      <td>logistic_regression</td>\n",
       "      <td>0.806360</td>\n",
       "      <td>0.026425</td>\n",
       "    </tr>\n",
       "    <tr>\n",
       "      <th>5</th>\n",
       "      <td>Naive Bayes (Gaussian)</td>\n",
       "      <td>0.738437</td>\n",
       "      <td>0.031149</td>\n",
       "    </tr>\n",
       "  </tbody>\n",
       "</table>\n",
       "</div>"
      ],
      "text/plain": [
       "                Algorithm  mean_score   std_dev\n",
       "3           Random_Forest    0.940646  0.064662\n",
       "2           Decision_Tree    0.909828  0.055207\n",
       "6                 XGBoost    0.889272  0.105474\n",
       "7                Adaboost    0.868397  0.086798\n",
       "1                     SVC    0.852066  0.044719\n",
       "4                     KNN    0.844263  0.060745\n",
       "0     logistic_regression    0.806360  0.026425\n",
       "5  Naive Bayes (Gaussian)    0.738437  0.031149"
      ]
     },
     "execution_count": 79,
     "metadata": {},
     "output_type": "execute_result"
    }
   ],
   "source": [
    "hasil_cross_validation"
   ]
  },
  {
   "cell_type": "markdown",
   "metadata": {},
   "source": [
    "Didapatkan 3 model terbaik adalah pada saat menggunakan algoritma **Random Forest**, **Decision Tree**, **XGBoost** karena memiliki nilai mean score paling tinggi."
   ]
  },
  {
   "cell_type": "markdown",
   "metadata": {},
   "source": [
    "**Analisa Hasil Model Default RF**"
   ]
  },
  {
   "cell_type": "code",
   "execution_count": 80,
   "metadata": {},
   "outputs": [
    {
     "name": "stdout",
     "output_type": "stream",
     "text": [
      ">>> Dataset Train :\n",
      "              precision    recall  f1-score   support\n",
      "\n",
      "           0       1.00      1.00      1.00      3753\n",
      "           1       1.00      1.00      1.00      3753\n",
      "\n",
      "    accuracy                           1.00      7506\n",
      "   macro avg       1.00      1.00      1.00      7506\n",
      "weighted avg       1.00      1.00      1.00      7506\n",
      "\n",
      "roc-auc-score :\n",
      "1.0\n",
      ">>> Dataset Test :\n",
      "              precision    recall  f1-score   support\n",
      "\n",
      "           0       0.96      0.98      0.97       922\n",
      "           1       0.88      0.80      0.84       202\n",
      "\n",
      "    accuracy                           0.94      1124\n",
      "   macro avg       0.92      0.89      0.90      1124\n",
      "weighted avg       0.94      0.94      0.94      1124\n",
      "\n",
      "roc-auc-score :\n",
      "0.888517213977363\n"
     ]
    }
   ],
   "source": [
    "y_pred_train1 = model_rf.predict(X_train)\n",
    "y_pred_test1 = model_rf.predict(X_test)\n",
    "\n",
    "print(\">>> Dataset Train :\")\n",
    "print(classification_report(y_train,y_pred_train1))\n",
    "print(\"roc-auc-score :\")\n",
    "print(roc_auc_score(y_train,y_pred_train1))\n",
    "print(\">>> Dataset Test :\")\n",
    "print(classification_report(y_test,y_pred_test1))\n",
    "print(\"roc-auc-score :\")\n",
    "print(roc_auc_score(y_test,y_pred_test1))"
   ]
  },
  {
   "cell_type": "markdown",
   "metadata": {},
   "source": [
    "**Analisa Model Default RF**\n",
    "- Dari hasil classsification report diatas, dapat dikatakan bahwa model RF default masih terjadi overfit.\n",
    "- pada dataset test, model ini memiliki f-1 score yang rendah lebih rendah pada 1, yang artinya memiliki tingkat precision yang cukup baik untuk memprediksi kategori 1 (Customer Churn), namun tidak lebih baik daripada untuk memprediksi kategori 0 (No Churn Customer)."
   ]
  },
  {
   "cell_type": "code",
   "execution_count": 81,
   "metadata": {},
   "outputs": [
    {
     "data": {
      "image/png": "[encoded data removed]",
      "text/plain": [
       "<Figure size 1008x288 with 4 Axes>"
      ]
     },
     "metadata": {
      "needs_background": "light"
     },
     "output_type": "display_data"
    }
   ],
   "source": [
    "plt.figure(figsize=(14,4))\n",
    "plt.subplot(121)\n",
    "plt.title(\"Confusion matrix untuk hasil prediksi default RF pada dataset train\")\n",
    "cm1 = confusion_matrix(y_train, y_pred_train1, labels=model_rf.classes_)\n",
    "sns.heatmap(cm1, annot=True, fmt='g', cmap='viridis')\n",
    "plt.subplot(122)\n",
    "plt.title(\"Confusion matrix untuk hasil prediksi default RF pada dataset test\")\n",
    "cm2 = confusion_matrix(y_test, y_pred_test1, labels=model_rf.classes_)\n",
    "sns.heatmap(cm2, annot=True, fmt='g', cmap='viridis')\n",
    "plt.show()"
   ]
  },
  {
   "cell_type": "markdown",
   "metadata": {},
   "source": [
    "- Confusion matrix pada dataset training menunjukan hasil yang sempurna, yang dimana hal ini cukup menjadi pertanyaan (?)\n",
    "- Pada dataset test confusion matrix, menujukan hasil yangtidak terlalu buruk, dari 202 True \"1\" terjadi kesalahan dalam memprediksi sebanyak 40 titik."
   ]
  },
  {
   "cell_type": "markdown",
   "metadata": {},
   "source": [
    "**Analisa Hasil Model Default Decision Tree**"
   ]
  },
  {
   "cell_type": "code",
   "execution_count": 82,
   "metadata": {},
   "outputs": [
    {
     "name": "stdout",
     "output_type": "stream",
     "text": [
      ">>> Dataset Train :\n",
      "              precision    recall  f1-score   support\n",
      "\n",
      "           0       1.00      1.00      1.00      3753\n",
      "           1       1.00      1.00      1.00      3753\n",
      "\n",
      "    accuracy                           1.00      7506\n",
      "   macro avg       1.00      1.00      1.00      7506\n",
      "weighted avg       1.00      1.00      1.00      7506\n",
      "\n",
      "roc-auc-score :\n",
      "1.0\n",
      ">>> Dataset Test :\n",
      "              precision    recall  f1-score   support\n",
      "\n",
      "           0       0.96      0.95      0.96       922\n",
      "           1       0.77      0.84      0.81       202\n",
      "\n",
      "    accuracy                           0.93      1124\n",
      "   macro avg       0.87      0.89      0.88      1124\n",
      "weighted avg       0.93      0.93      0.93      1124\n",
      "\n",
      "roc-auc-score :\n",
      "0.8936771117458816\n"
     ]
    }
   ],
   "source": [
    "y_pred_train2 = model_dt.predict(X_train)\n",
    "y_pred_test2 = model_dt.predict(X_test)\n",
    "\n",
    "print(\">>> Dataset Train :\")\n",
    "print(classification_report(y_train,y_pred_train2))\n",
    "print(\"roc-auc-score :\")\n",
    "print(roc_auc_score(y_train,y_pred_train2))\n",
    "print(\">>> Dataset Test :\")\n",
    "print(classification_report(y_test,y_pred_test2))\n",
    "print(\"roc-auc-score :\")\n",
    "print(roc_auc_score(y_test,y_pred_test2))"
   ]
  },
  {
   "cell_type": "markdown",
   "metadata": {},
   "source": [
    "**Analisa Model Default Decision Tree**\n",
    "- Dari hasil classsification report diatas, dapat dikatakan bahwa model Decision tree masih terjadi overfitting.\n",
    "- Pada model ini nilai akurasi pada dataset test yang dihasilkan lebih rendah daripada algoritma Random forest default."
   ]
  },
  {
   "cell_type": "code",
   "execution_count": 83,
   "metadata": {},
   "outputs": [
    {
     "data": {
      "image/png": "[encoded data removed]",
      "text/plain": [
       "<Figure size 1008x288 with 4 Axes>"
      ]
     },
     "metadata": {
      "needs_background": "light"
     },
     "output_type": "display_data"
    }
   ],
   "source": [
    "plt.figure(figsize=(14,4))\n",
    "plt.subplot(121)\n",
    "plt.title(\"Confusion matrix untuk hasil prediksi default DTree pada dataset train\")\n",
    "cm3 = confusion_matrix(y_train, y_pred_train2, labels=model_knn.classes_)\n",
    "sns.heatmap(cm3, annot=True, fmt='g', cmap='viridis')\n",
    "plt.subplot(122)\n",
    "plt.title(\"Confusion matrix untuk hasil prediksi default DTree pada dataset test\")\n",
    "cm4 = confusion_matrix(y_test, y_pred_test2, labels=model_knn.classes_)\n",
    "sns.heatmap(cm4, annot=True, fmt='g', cmap='viridis')\n",
    "plt.show()"
   ]
  },
  {
   "cell_type": "markdown",
   "metadata": {},
   "source": [
    "- Berdasarkan hasil confusi0n matrix pada dataset test, dapat terlihat bahwa True 1 dapat terprediksi lebih banyak daripada hasil model random forest. namun sebagai konsekuensinya nilai false \"0\" semakin meningkat."
   ]
  },
  {
   "cell_type": "markdown",
   "metadata": {},
   "source": [
    "**Analisa Hasil Model Default XGboost**"
   ]
  },
  {
   "cell_type": "code",
   "execution_count": 84,
   "metadata": {},
   "outputs": [
    {
     "name": "stdout",
     "output_type": "stream",
     "text": [
      ">>> Dataset Train :\n",
      "              precision    recall  f1-score   support\n",
      "\n",
      "           0       0.92      0.93      0.93      3753\n",
      "           1       0.93      0.92      0.93      3753\n",
      "\n",
      "    accuracy                           0.93      7506\n",
      "   macro avg       0.93      0.93      0.93      7506\n",
      "weighted avg       0.93      0.93      0.93      7506\n",
      "\n",
      "roc-auc-score :\n",
      "0.9263256061817212\n",
      ">>> Dataset Test :\n",
      "              precision    recall  f1-score   support\n",
      "\n",
      "           0       0.92      0.92      0.92       922\n",
      "           1       0.65      0.64      0.65       202\n",
      "\n",
      "    accuracy                           0.87      1124\n",
      "   macro avg       0.78      0.78      0.78      1124\n",
      "weighted avg       0.87      0.87      0.87      1124\n",
      "\n",
      "roc-auc-score :\n",
      "0.7832789244217264\n"
     ]
    }
   ],
   "source": [
    "y_pred_train3 = model_xg.predict(X_train)\n",
    "y_pred_test3 = model_xg.predict(X_test)\n",
    "\n",
    "print(\">>> Dataset Train :\")\n",
    "print(classification_report(y_train,y_pred_train3))\n",
    "print(\"roc-auc-score :\")\n",
    "print(roc_auc_score(y_train,y_pred_train3))\n",
    "print(\">>> Dataset Test :\")\n",
    "print(classification_report(y_test,y_pred_test3))\n",
    "print(\"roc-auc-score :\")\n",
    "print(roc_auc_score(y_test,y_pred_test3))"
   ]
  },
  {
   "cell_type": "markdown",
   "metadata": {},
   "source": [
    "**Analisa Model Default XGBoost**\n",
    "- Dari hasil classsification report diatas, dapat dikatakan bahwa model XGBoost sudah mendekati goodfit dengan score training yang tidak terlalu sempurna seperti pada kedua model sebelumnya.\n",
    "- Namun sebagai konsekuensinya, nilai roc-auc-score dari kedua dataset yang dicoba memiliki score yang lebih kecil.\n",
    "- Pada model ini f-1 score pada \"1\" mengalami penurunan dari kedua model sebelumnnya yang artinya prediksi jika target seharusnya churn akan mungkin terjadi kesalahan."
   ]
  },
  {
   "cell_type": "code",
   "execution_count": 85,
   "metadata": {},
   "outputs": [
    {
     "data": {
      "image/png": "[encoded data removed]",
      "text/plain": [
       "<Figure size 1008x288 with 4 Axes>"
      ]
     },
     "metadata": {
      "needs_background": "light"
     },
     "output_type": "display_data"
    }
   ],
   "source": [
    "plt.figure(figsize=(14,4))\n",
    "plt.subplot(121)\n",
    "plt.title(\"Confusion matrix untuk hasil prediksi default Xg pada dataset train\")\n",
    "cm5 = confusion_matrix(y_train, y_pred_train3, labels=model_knn.classes_)\n",
    "sns.heatmap(cm5, annot=True, fmt='g', cmap='viridis')\n",
    "plt.subplot(122)\n",
    "plt.title(\"Confusion matrix untuk hasil prediksi default Xg pada dataset test\")\n",
    "cm6 = confusion_matrix(y_test, y_pred_test3, labels=model_knn.classes_)\n",
    "sns.heatmap(cm6, annot=True, fmt='g', cmap='viridis')\n",
    "plt.show()"
   ]
  },
  {
   "cell_type": "markdown",
   "metadata": {},
   "source": [
    "- Terlihat bahwa kesalahan prediksi pada kedua confusion matrix menghasilkan jumlah yang relatif seimbang, sehingga hasil ini bisa dikatakan cukup baik."
   ]
  },
  {
   "cell_type": "markdown",
   "metadata": {},
   "source": [
    "---\n",
    "**Berikut ini akan dilakukan hyperparameter tuning dengan menggunakan Grid Search CV pada algoritma yang memiliki hasil score terbaik yaitu Random Forest, Decision Tree, dan XGBoost**"
   ]
  },
  {
   "cell_type": "markdown",
   "metadata": {},
   "source": [
    "**Random Forest**"
   ]
  },
  {
   "cell_type": "code",
   "execution_count": 86,
   "metadata": {},
   "outputs": [],
   "source": [
    "gscv1 = GridSearchCV(pipe_rf, params_rf, cv=5, scoring='f1')\n",
    "\n",
    "best_model_gscv1 = gscv1.fit(X_train, y_train)\n",
    "\n",
    "best_rf_pipe = gscv1.best_estimator_"
   ]
  },
  {
   "cell_type": "code",
   "execution_count": 87,
   "metadata": {},
   "outputs": [
    {
     "name": "stdout",
     "output_type": "stream",
     "text": [
      "{'rf__criterion': 'entropy', 'rf__max_depth': 100, 'rf__n_estimators': 100}\n"
     ]
    }
   ],
   "source": [
    "print(gscv1.best_params_)"
   ]
  },
  {
   "cell_type": "code",
   "execution_count": 88,
   "metadata": {},
   "outputs": [
    {
     "name": "stdout",
     "output_type": "stream",
     "text": [
      ">>> Dataset Train :\n",
      "              precision    recall  f1-score   support\n",
      "\n",
      "           0       1.00      1.00      1.00      3753\n",
      "           1       1.00      1.00      1.00      3753\n",
      "\n",
      "    accuracy                           1.00      7506\n",
      "   macro avg       1.00      1.00      1.00      7506\n",
      "weighted avg       1.00      1.00      1.00      7506\n",
      "\n",
      "roc-auc-score :\n",
      "1.0\n",
      ">>> Dataset Test :\n",
      "              precision    recall  f1-score   support\n",
      "\n",
      "           0       0.96      0.98      0.97       922\n",
      "           1       0.89      0.79      0.84       202\n",
      "\n",
      "    accuracy                           0.95      1124\n",
      "   macro avg       0.92      0.89      0.90      1124\n",
      "weighted avg       0.94      0.95      0.94      1124\n",
      "\n",
      "roc-auc-score :\n",
      "0.8857359163248212\n"
     ]
    }
   ],
   "source": [
    "y_pred_train1_best = best_rf_pipe.predict(X_train)\n",
    "y_pred_test1_best = best_rf_pipe.predict(X_test)\n",
    "\n",
    "print(\">>> Dataset Train :\")\n",
    "print(classification_report(y_train,y_pred_train1_best))\n",
    "print(\"roc-auc-score :\")\n",
    "print(roc_auc_score(y_train,y_pred_train1_best))\n",
    "print(\">>> Dataset Test :\")\n",
    "print(classification_report(y_test,y_pred_test1_best))\n",
    "print(\"roc-auc-score :\")\n",
    "print(roc_auc_score(y_test,y_pred_test1_best))"
   ]
  },
  {
   "cell_type": "code",
   "execution_count": 89,
   "metadata": {},
   "outputs": [
    {
     "data": {
      "image/png": "[encoded data removed]",
      "text/plain": [
       "<Figure size 1008x288 with 4 Axes>"
      ]
     },
     "metadata": {
      "needs_background": "light"
     },
     "output_type": "display_data"
    }
   ],
   "source": [
    "plt.figure(figsize=(14,4))\n",
    "plt.subplot(121)\n",
    "plt.title(\"Confusion matrix untuk hasil prediksi best RF pada dataset train\")\n",
    "cm5 = confusion_matrix(y_train, y_pred_train1_best, labels=best_rf_pipe.classes_)\n",
    "sns.heatmap(cm5, annot=True, fmt='g')\n",
    "plt.subplot(122)\n",
    "plt.title(\"Confusion matrix untuk hasil prediksi best RF pada dataset test\")\n",
    "cm6 = confusion_matrix(y_test, y_pred_test1_best, labels=best_rf_pipe.classes_)\n",
    "sns.heatmap(cm6, annot=True, fmt='g')\n",
    "plt.show()"
   ]
  },
  {
   "cell_type": "markdown",
   "metadata": {},
   "source": [
    "**Analisa Model Best Params RF**\n",
    "- Dari hasil classsification report diatas, dapat dikatakan bahwa model Gaussian NB default tidak masih sedikit overfit\n",
    "- Akurasi menjadi lebih baik dari sebelum dilakukan tuning. Tetapi sebagai konsekuensi dari berkurangnya kesalahan prediksi dari true 0 maka kesalahan prediksi pada false 1 yang meningkat."
   ]
  },
  {
   "cell_type": "markdown",
   "metadata": {},
   "source": [
    "**Decision Tree**"
   ]
  },
  {
   "cell_type": "code",
   "execution_count": 90,
   "metadata": {},
   "outputs": [],
   "source": [
    "gscv2 = GridSearchCV(pipe_dt, params_dt, cv=5, scoring='f1')\n",
    "\n",
    "best_model_gscv2 = gscv2.fit(X_train, y_train)\n",
    "\n",
    "best_dt_pipe = gscv2.best_estimator_"
   ]
  },
  {
   "cell_type": "code",
   "execution_count": 91,
   "metadata": {},
   "outputs": [
    {
     "name": "stdout",
     "output_type": "stream",
     "text": [
      "{'dt__criterion': 'gini', 'dt__max_depth': 20, 'dt__min_samples_leaf': 10}\n"
     ]
    }
   ],
   "source": [
    "print(gscv2.best_params_)"
   ]
  },
  {
   "cell_type": "code",
   "execution_count": 92,
   "metadata": {},
   "outputs": [
    {
     "name": "stdout",
     "output_type": "stream",
     "text": [
      ">>> Dataset Train :\n",
      "              precision    recall  f1-score   support\n",
      "\n",
      "           0       0.92      0.93      0.93      3753\n",
      "           1       0.93      0.92      0.93      3753\n",
      "\n",
      "    accuracy                           0.93      7506\n",
      "   macro avg       0.93      0.93      0.93      7506\n",
      "weighted avg       0.93      0.93      0.93      7506\n",
      "\n",
      "roc-auc-score :\n",
      "0.9283240074606981\n",
      ">>> Dataset Test :\n",
      "              precision    recall  f1-score   support\n",
      "\n",
      "           0       0.93      0.88      0.91       922\n",
      "           1       0.57      0.69      0.62       202\n",
      "\n",
      "    accuracy                           0.85      1124\n",
      "   macro avg       0.75      0.79      0.76      1124\n",
      "weighted avg       0.86      0.85      0.85      1124\n",
      "\n",
      "roc-auc-score :\n",
      "0.7860333755718305\n"
     ]
    }
   ],
   "source": [
    "y_pred_train2_best = best_dt_pipe.predict(X_train)\n",
    "y_pred_test2_best = best_dt_pipe.predict(X_test)\n",
    "\n",
    "print(\">>> Dataset Train :\")\n",
    "print(classification_report(y_train,y_pred_train2_best))\n",
    "print(\"roc-auc-score :\")\n",
    "print(roc_auc_score(y_train,y_pred_train2_best))\n",
    "print(\">>> Dataset Test :\")\n",
    "print(classification_report(y_test,y_pred_test2_best))\n",
    "print(\"roc-auc-score :\")\n",
    "print(roc_auc_score(y_test,y_pred_test2_best))"
   ]
  },
  {
   "cell_type": "code",
   "execution_count": 93,
   "metadata": {},
   "outputs": [
    {
     "data": {
      "image/png": "[encoded data removed]",
      "text/plain": [
       "<Figure size 1008x288 with 4 Axes>"
      ]
     },
     "metadata": {
      "needs_background": "light"
     },
     "output_type": "display_data"
    }
   ],
   "source": [
    "plt.figure(figsize=(14,4))\n",
    "plt.subplot(121)\n",
    "plt.title(\"Confusion matrix untuk hasil prediksi best DT pada dataset train\")\n",
    "cm7 = confusion_matrix(y_train, y_pred_train2_best, labels=best_dt_pipe.classes_)\n",
    "sns.heatmap(cm7, annot=True, fmt='g')\n",
    "plt.subplot(122)\n",
    "plt.title(\"Confusion matrix untuk hasil prediksi best DT pada dataset test\")\n",
    "cm8 = confusion_matrix(y_test, y_pred_test2_best, labels=best_dt_pipe.classes_)\n",
    "sns.heatmap(cm8, annot=True, fmt='g')\n",
    "plt.show()"
   ]
  },
  {
   "cell_type": "markdown",
   "metadata": {},
   "source": [
    "**Analisa Model Best Params DT**\n",
    "- Setelah dilakukan hyperparameter tuning, akurasi pada training menurun namun sudah tidak overfitting.\n",
    "- pada dataset test mengalami penurunan f1-score dan roc-auc-score dibandingkan sebelum tuning.\n",
    "- model ini memprediksi true 1 lebih buruk daripada sebelum dilakukan tuning."
   ]
  },
  {
   "cell_type": "code",
   "execution_count": null,
   "metadata": {},
   "outputs": [],
   "source": []
  },
  {
   "cell_type": "markdown",
   "metadata": {},
   "source": [
    "**XG Boost**"
   ]
  },
  {
   "cell_type": "code",
   "execution_count": 94,
   "metadata": {},
   "outputs": [],
   "source": [
    "gscv3 = GridSearchCV(pipe_xg, params_xg, cv=5, scoring='f1')\n",
    "\n",
    "best_model_gscv3 = gscv3.fit(X_train, y_train)\n",
    "\n",
    "best_xg_pipe = gscv3.best_estimator_"
   ]
  },
  {
   "cell_type": "code",
   "execution_count": 95,
   "metadata": {},
   "outputs": [
    {
     "name": "stdout",
     "output_type": "stream",
     "text": [
      "{'xg__criterion': 'friedman_mse', 'xg__learning_rate': 1.0, 'xg__n_estimators': 1000}\n"
     ]
    }
   ],
   "source": [
    "print(gscv3.best_params_)"
   ]
  },
  {
   "cell_type": "code",
   "execution_count": 96,
   "metadata": {},
   "outputs": [
    {
     "name": "stdout",
     "output_type": "stream",
     "text": [
      ">>> Dataset Train :\n",
      "              precision    recall  f1-score   support\n",
      "\n",
      "           0       1.00      1.00      1.00      3753\n",
      "           1       1.00      1.00      1.00      3753\n",
      "\n",
      "    accuracy                           1.00      7506\n",
      "   macro avg       1.00      1.00      1.00      7506\n",
      "weighted avg       1.00      1.00      1.00      7506\n",
      "\n",
      "roc-auc-score :\n",
      "1.0\n",
      ">>> Dataset Test :\n",
      "              precision    recall  f1-score   support\n",
      "\n",
      "           0       0.98      0.99      0.98       922\n",
      "           1       0.94      0.89      0.92       202\n",
      "\n",
      "    accuracy                           0.97      1124\n",
      "   macro avg       0.96      0.94      0.95      1124\n",
      "weighted avg       0.97      0.97      0.97      1124\n",
      "\n",
      "roc-auc-score :\n",
      "0.9395792616137969\n"
     ]
    }
   ],
   "source": [
    "y_pred_train3_best = best_xg_pipe.predict(X_train)\n",
    "y_pred_test3_best = best_xg_pipe.predict(X_test)\n",
    "\n",
    "print(\">>> Dataset Train :\")\n",
    "print(classification_report(y_train,y_pred_train3_best))\n",
    "print(\"roc-auc-score :\")\n",
    "print(roc_auc_score(y_train,y_pred_train3_best))\n",
    "print(\">>> Dataset Test :\")\n",
    "print(classification_report(y_test,y_pred_test3_best))\n",
    "print(\"roc-auc-score :\")\n",
    "print(roc_auc_score(y_test,y_pred_test3_best))"
   ]
  },
  {
   "cell_type": "code",
   "execution_count": 97,
   "metadata": {},
   "outputs": [
    {
     "data": {
      "image/png": "[encoded data removed]",
      "text/plain": [
       "<Figure size 1008x288 with 4 Axes>"
      ]
     },
     "metadata": {
      "needs_background": "light"
     },
     "output_type": "display_data"
    }
   ],
   "source": [
    "plt.figure(figsize=(14,4))\n",
    "plt.subplot(121)\n",
    "plt.title(\"Confusion matrix untuk hasil prediksi best XG pada dataset train\")\n",
    "cm7 = confusion_matrix(y_train, y_pred_train3_best, labels=best_xg_pipe.classes_)\n",
    "sns.heatmap(cm7, annot=True, fmt='g')\n",
    "plt.subplot(122)\n",
    "plt.title(\"Confusion matrix untuk hasil prediksi best XG pada dataset test\")\n",
    "cm8 = confusion_matrix(y_test, y_pred_test3_best, labels=best_xg_pipe.classes_)\n",
    "sns.heatmap(cm8, annot=True, fmt='g')\n",
    "plt.show()"
   ]
  },
  {
   "cell_type": "markdown",
   "metadata": {},
   "source": [
    "**Analisa Model Best Params XGBoost**\n",
    "- Dari hasil diatas, score pada keseluruhan metrics pada penggunaan algoritma XGBoost meningkat pesat dibandingkan sebelum hyperparameter tuning.\n",
    "- Model ini mmemberikan hasil miss prediksi pada true 1 dan true 0 pada dataset test yang sangat minimum, sehingga dapat dikatakan model ini adalah yang memiliki performa paling baik."
   ]
  },
  {
   "cell_type": "markdown",
   "metadata": {},
   "source": [
    "**PEMILIHAN BEST MODEL SECARA KESELURUHAN**"
   ]
  },
  {
   "cell_type": "markdown",
   "metadata": {},
   "source": [
    "1. **RF Default**\n",
    "    - roc-auc-score train = 1\n",
    "    - roc-auc-score test = 0.8885\n",
    "2. **RF after hyperparameter tuning**\n",
    "    - roc-auc-score train = 1\n",
    "    - roc-auc-score test = 0.8857\n",
    "3. **DT Default**\n",
    "    - roc-auc-score train = 1\n",
    "    - roc-auc-score test = 0.894\n",
    "4. **DT after hyperparameter tuning**\n",
    "    - roc-auc-score train = 0.928\n",
    "    - roc-auc-score test = 0.786\n",
    "5. **XGBoost Default**\n",
    "    - roc-auc-score train = 0.926\n",
    "    - roc-auc-score test = 0.783\n",
    "6. **XGBoost after hyperparameter tuning**\n",
    "    - roc-auc-score train = 1\n",
    "    - roc-auc-score test = 0.939"
   ]
  },
  {
   "cell_type": "markdown",
   "metadata": {},
   "source": [
    "**Sehingga dari score roc-auc diatas, dapat diambil kesimpulan bahwa model terbaik dengan score roc-auc-score pada dataset test tertinggi adalah XGBoost setelah dilakukan tuning hyperparameter dengan parameter {'xg__criterion': 'friedman_mse', 'xg__learning_rate': 1.0, 'xg__n_estimators': 1000}.**"
   ]
  },
  {
   "cell_type": "markdown",
   "metadata": {},
   "source": [
    "---\n",
    "# 9. Model Savings"
   ]
  },
  {
   "cell_type": "markdown",
   "metadata": {},
   "source": [
    "Setelah itu seluruh fitur prediktor dan model terbaik akan disave menggunakan library pickle."
   ]
  },
  {
   "cell_type": "code",
   "execution_count": 98,
   "metadata": {},
   "outputs": [],
   "source": [
    "# Model Savings\n",
    "\n",
    "with open('all_feature.txt','w') as file_1 :\n",
    "    file_1.write(str(final))\n",
    "    \n",
    "with open('best_default_model_rf.pkl', 'wb') as file_2 :\n",
    "    pickle.dump(model_rf,file_2)\n",
    "\n",
    "with open('best_hyperparams_tuning_rf.pkl', 'wb') as file_3 :\n",
    "    pickle.dump(best_rf_pipe,file_3)\n",
    "    \n",
    "with open('best_default_model_dt.pkl', 'wb') as file_4 :\n",
    "    pickle.dump(model_dt,file_4)\n",
    "\n",
    "with open('best_hyperparams_tuning_dt.pkl', 'wb') as file_5 :\n",
    "    pickle.dump(best_dt_pipe,file_5)\n",
    "    \n",
    "with open('best_default_model_xg.pkl', 'wb') as file_6 :\n",
    "    pickle.dump(model_xg,file_6)\n",
    "\n",
    "with open('best_hyperparams_tuning_xg.pkl', 'wb') as file_7 :\n",
    "    pickle.dump(best_xg_pipe,file_7)"
   ]
  },
  {
   "cell_type": "markdown",
   "metadata": {},
   "source": [
    "---\n",
    "# 10. Model Inference"
   ]
  },
  {
   "cell_type": "code",
   "execution_count": 99,
   "metadata": {},
   "outputs": [
    {
     "data": {
      "text/html": [
       "<div>\n",
       "<style scoped>\n",
       "    .dataframe tbody tr th:only-of-type {\n",
       "        vertical-align: middle;\n",
       "    }\n",
       "\n",
       "    .dataframe tbody tr th {\n",
       "        vertical-align: top;\n",
       "    }\n",
       "\n",
       "    .dataframe thead th {\n",
       "        text-align: right;\n",
       "    }\n",
       "</style>\n",
       "<table border=\"1\" class=\"dataframe\">\n",
       "  <thead>\n",
       "    <tr style=\"text-align: right;\">\n",
       "      <th></th>\n",
       "      <th>CustomerID</th>\n",
       "      <th>Churn</th>\n",
       "      <th>Tenure</th>\n",
       "      <th>PreferredLoginDevice</th>\n",
       "      <th>CityTier</th>\n",
       "      <th>WarehouseToHome</th>\n",
       "      <th>PreferredPaymentMode</th>\n",
       "      <th>Gender</th>\n",
       "      <th>HourSpendOnApp</th>\n",
       "      <th>NumberOfDeviceRegistered</th>\n",
       "      <th>PreferedOrderCat</th>\n",
       "      <th>SatisfactionScore</th>\n",
       "      <th>MaritalStatus</th>\n",
       "      <th>NumberOfAddress</th>\n",
       "      <th>Complain</th>\n",
       "      <th>OrderAmountHikeFromlastYear</th>\n",
       "      <th>CouponUsed</th>\n",
       "      <th>OrderCount</th>\n",
       "      <th>DaySinceLastOrder</th>\n",
       "      <th>CashbackAmount</th>\n",
       "    </tr>\n",
       "  </thead>\n",
       "  <tbody>\n",
       "    <tr>\n",
       "      <th>0</th>\n",
       "      <td>53352</td>\n",
       "      <td>0</td>\n",
       "      <td>17.0</td>\n",
       "      <td>Mobile Phone</td>\n",
       "      <td>1</td>\n",
       "      <td>15.0</td>\n",
       "      <td>Debit Card</td>\n",
       "      <td>Female</td>\n",
       "      <td>3.0</td>\n",
       "      <td>4</td>\n",
       "      <td>Laptop &amp; Accessory</td>\n",
       "      <td>4</td>\n",
       "      <td>Married</td>\n",
       "      <td>6</td>\n",
       "      <td>0</td>\n",
       "      <td>22.0</td>\n",
       "      <td>2.0</td>\n",
       "      <td>2.0</td>\n",
       "      <td>1.0</td>\n",
       "      <td>172.65</td>\n",
       "    </tr>\n",
       "    <tr>\n",
       "      <th>1</th>\n",
       "      <td>52618</td>\n",
       "      <td>0</td>\n",
       "      <td>11.0</td>\n",
       "      <td>Phone</td>\n",
       "      <td>1</td>\n",
       "      <td>12.0</td>\n",
       "      <td>UPI</td>\n",
       "      <td>Female</td>\n",
       "      <td>2.0</td>\n",
       "      <td>4</td>\n",
       "      <td>Mobile Phone</td>\n",
       "      <td>3</td>\n",
       "      <td>Married</td>\n",
       "      <td>2</td>\n",
       "      <td>0</td>\n",
       "      <td>11.0</td>\n",
       "      <td>1.0</td>\n",
       "      <td>1.0</td>\n",
       "      <td>4.0</td>\n",
       "      <td>137.02</td>\n",
       "    </tr>\n",
       "    <tr>\n",
       "      <th>2</th>\n",
       "      <td>52366</td>\n",
       "      <td>0</td>\n",
       "      <td>20.0</td>\n",
       "      <td>Phone</td>\n",
       "      <td>1</td>\n",
       "      <td>7.0</td>\n",
       "      <td>COD</td>\n",
       "      <td>Male</td>\n",
       "      <td>3.0</td>\n",
       "      <td>3</td>\n",
       "      <td>Mobile</td>\n",
       "      <td>1</td>\n",
       "      <td>Married</td>\n",
       "      <td>8</td>\n",
       "      <td>0</td>\n",
       "      <td>12.0</td>\n",
       "      <td>1.0</td>\n",
       "      <td>1.0</td>\n",
       "      <td>2.0</td>\n",
       "      <td>134.20</td>\n",
       "    </tr>\n",
       "    <tr>\n",
       "      <th>3</th>\n",
       "      <td>53438</td>\n",
       "      <td>0</td>\n",
       "      <td>12.0</td>\n",
       "      <td>Mobile Phone</td>\n",
       "      <td>3</td>\n",
       "      <td>10.0</td>\n",
       "      <td>Debit Card</td>\n",
       "      <td>Male</td>\n",
       "      <td>3.0</td>\n",
       "      <td>4</td>\n",
       "      <td>Laptop &amp; Accessory</td>\n",
       "      <td>2</td>\n",
       "      <td>Single</td>\n",
       "      <td>10</td>\n",
       "      <td>1</td>\n",
       "      <td>13.0</td>\n",
       "      <td>2.0</td>\n",
       "      <td>2.0</td>\n",
       "      <td>1.0</td>\n",
       "      <td>193.61</td>\n",
       "    </tr>\n",
       "    <tr>\n",
       "      <th>4</th>\n",
       "      <td>52339</td>\n",
       "      <td>0</td>\n",
       "      <td>0.0</td>\n",
       "      <td>Mobile Phone</td>\n",
       "      <td>3</td>\n",
       "      <td>24.0</td>\n",
       "      <td>Debit Card</td>\n",
       "      <td>Male</td>\n",
       "      <td>3.0</td>\n",
       "      <td>1</td>\n",
       "      <td>Laptop &amp; Accessory</td>\n",
       "      <td>3</td>\n",
       "      <td>Married</td>\n",
       "      <td>3</td>\n",
       "      <td>0</td>\n",
       "      <td>11.0</td>\n",
       "      <td>1.0</td>\n",
       "      <td>1.0</td>\n",
       "      <td>2.0</td>\n",
       "      <td>162.32</td>\n",
       "    </tr>\n",
       "    <tr>\n",
       "      <th>5</th>\n",
       "      <td>51184</td>\n",
       "      <td>0</td>\n",
       "      <td>11.0</td>\n",
       "      <td>Mobile Phone</td>\n",
       "      <td>3</td>\n",
       "      <td>8.0</td>\n",
       "      <td>E wallet</td>\n",
       "      <td>Female</td>\n",
       "      <td>3.0</td>\n",
       "      <td>5</td>\n",
       "      <td>Laptop &amp; Accessory</td>\n",
       "      <td>1</td>\n",
       "      <td>Married</td>\n",
       "      <td>3</td>\n",
       "      <td>1</td>\n",
       "      <td>20.0</td>\n",
       "      <td>0.0</td>\n",
       "      <td>1.0</td>\n",
       "      <td>3.0</td>\n",
       "      <td>154.05</td>\n",
       "    </tr>\n",
       "    <tr>\n",
       "      <th>6</th>\n",
       "      <td>53411</td>\n",
       "      <td>1</td>\n",
       "      <td>1.0</td>\n",
       "      <td>Phone</td>\n",
       "      <td>1</td>\n",
       "      <td>29.0</td>\n",
       "      <td>Debit Card</td>\n",
       "      <td>Female</td>\n",
       "      <td>3.0</td>\n",
       "      <td>4</td>\n",
       "      <td>Mobile Phone</td>\n",
       "      <td>3</td>\n",
       "      <td>Divorced</td>\n",
       "      <td>6</td>\n",
       "      <td>1</td>\n",
       "      <td>12.0</td>\n",
       "      <td>1.0</td>\n",
       "      <td>2.0</td>\n",
       "      <td>2.0</td>\n",
       "      <td>146.32</td>\n",
       "    </tr>\n",
       "    <tr>\n",
       "      <th>7</th>\n",
       "      <td>52384</td>\n",
       "      <td>0</td>\n",
       "      <td>21.0</td>\n",
       "      <td>Mobile Phone</td>\n",
       "      <td>3</td>\n",
       "      <td>13.0</td>\n",
       "      <td>E wallet</td>\n",
       "      <td>Male</td>\n",
       "      <td>3.0</td>\n",
       "      <td>3</td>\n",
       "      <td>Laptop &amp; Accessory</td>\n",
       "      <td>5</td>\n",
       "      <td>Married</td>\n",
       "      <td>5</td>\n",
       "      <td>0</td>\n",
       "      <td>11.0</td>\n",
       "      <td>0.0</td>\n",
       "      <td>2.0</td>\n",
       "      <td>2.0</td>\n",
       "      <td>154.86</td>\n",
       "    </tr>\n",
       "    <tr>\n",
       "      <th>8</th>\n",
       "      <td>51166</td>\n",
       "      <td>1</td>\n",
       "      <td>0.0</td>\n",
       "      <td>Computer</td>\n",
       "      <td>1</td>\n",
       "      <td>15.0</td>\n",
       "      <td>Debit Card</td>\n",
       "      <td>Male</td>\n",
       "      <td>3.0</td>\n",
       "      <td>3</td>\n",
       "      <td>Laptop &amp; Accessory</td>\n",
       "      <td>5</td>\n",
       "      <td>Married</td>\n",
       "      <td>5</td>\n",
       "      <td>0</td>\n",
       "      <td>17.0</td>\n",
       "      <td>0.0</td>\n",
       "      <td>1.0</td>\n",
       "      <td>7.0</td>\n",
       "      <td>153.46</td>\n",
       "    </tr>\n",
       "    <tr>\n",
       "      <th>9</th>\n",
       "      <td>55452</td>\n",
       "      <td>1</td>\n",
       "      <td>1.0</td>\n",
       "      <td>Mobile Phone</td>\n",
       "      <td>1</td>\n",
       "      <td>17.0</td>\n",
       "      <td>Credit Card</td>\n",
       "      <td>Male</td>\n",
       "      <td>3.0</td>\n",
       "      <td>4</td>\n",
       "      <td>Laptop &amp; Accessory</td>\n",
       "      <td>5</td>\n",
       "      <td>Single</td>\n",
       "      <td>3</td>\n",
       "      <td>0</td>\n",
       "      <td>16.0</td>\n",
       "      <td>1.0</td>\n",
       "      <td>2.0</td>\n",
       "      <td>9.0</td>\n",
       "      <td>167.13</td>\n",
       "    </tr>\n",
       "  </tbody>\n",
       "</table>\n",
       "</div>"
      ],
      "text/plain": [
       "   CustomerID  Churn  Tenure PreferredLoginDevice  CityTier  WarehouseToHome  \\\n",
       "0       53352      0    17.0         Mobile Phone         1             15.0   \n",
       "1       52618      0    11.0                Phone         1             12.0   \n",
       "2       52366      0    20.0                Phone         1              7.0   \n",
       "3       53438      0    12.0         Mobile Phone         3             10.0   \n",
       "4       52339      0     0.0         Mobile Phone         3             24.0   \n",
       "5       51184      0    11.0         Mobile Phone         3              8.0   \n",
       "6       53411      1     1.0                Phone         1             29.0   \n",
       "7       52384      0    21.0         Mobile Phone         3             13.0   \n",
       "8       51166      1     0.0             Computer         1             15.0   \n",
       "9       55452      1     1.0         Mobile Phone         1             17.0   \n",
       "\n",
       "  PreferredPaymentMode  Gender  HourSpendOnApp  NumberOfDeviceRegistered  \\\n",
       "0           Debit Card  Female             3.0                         4   \n",
       "1                  UPI  Female             2.0                         4   \n",
       "2                  COD    Male             3.0                         3   \n",
       "3           Debit Card    Male             3.0                         4   \n",
       "4           Debit Card    Male             3.0                         1   \n",
       "5             E wallet  Female             3.0                         5   \n",
       "6           Debit Card  Female             3.0                         4   \n",
       "7             E wallet    Male             3.0                         3   \n",
       "8           Debit Card    Male             3.0                         3   \n",
       "9          Credit Card    Male             3.0                         4   \n",
       "\n",
       "     PreferedOrderCat  SatisfactionScore MaritalStatus  NumberOfAddress  \\\n",
       "0  Laptop & Accessory                  4       Married                6   \n",
       "1        Mobile Phone                  3       Married                2   \n",
       "2              Mobile                  1       Married                8   \n",
       "3  Laptop & Accessory                  2        Single               10   \n",
       "4  Laptop & Accessory                  3       Married                3   \n",
       "5  Laptop & Accessory                  1       Married                3   \n",
       "6        Mobile Phone                  3      Divorced                6   \n",
       "7  Laptop & Accessory                  5       Married                5   \n",
       "8  Laptop & Accessory                  5       Married                5   \n",
       "9  Laptop & Accessory                  5        Single                3   \n",
       "\n",
       "   Complain  OrderAmountHikeFromlastYear  CouponUsed  OrderCount  \\\n",
       "0         0                         22.0         2.0         2.0   \n",
       "1         0                         11.0         1.0         1.0   \n",
       "2         0                         12.0         1.0         1.0   \n",
       "3         1                         13.0         2.0         2.0   \n",
       "4         0                         11.0         1.0         1.0   \n",
       "5         1                         20.0         0.0         1.0   \n",
       "6         1                         12.0         1.0         2.0   \n",
       "7         0                         11.0         0.0         2.0   \n",
       "8         0                         17.0         0.0         1.0   \n",
       "9         0                         16.0         1.0         2.0   \n",
       "\n",
       "   DaySinceLastOrder  CashbackAmount  \n",
       "0                1.0          172.65  \n",
       "1                4.0          137.02  \n",
       "2                2.0          134.20  \n",
       "3                1.0          193.61  \n",
       "4                2.0          162.32  \n",
       "5                3.0          154.05  \n",
       "6                2.0          146.32  \n",
       "7                2.0          154.86  \n",
       "8                7.0          153.46  \n",
       "9                9.0          167.13  "
      ]
     },
     "execution_count": 99,
     "metadata": {},
     "output_type": "execute_result"
    }
   ],
   "source": [
    "data_inf"
   ]
  },
  {
   "cell_type": "markdown",
   "metadata": {},
   "source": [
    "**Load Model**"
   ]
  },
  {
   "cell_type": "code",
   "execution_count": 100,
   "metadata": {},
   "outputs": [],
   "source": [
    "with open('all_feature.txt','r') as file_1:\n",
    "    all_feature_predictor = file_1.read()\n",
    "with open('best_default_model_xg.pkl','rb') as file_2:\n",
    "    model_def_xg = pickle.load(file_2)\n",
    "with open('best_hyperparams_tuning_xg.pkl','rb') as file_3:\n",
    "    model_hyp_tune_xg = pickle.load(file_3)"
   ]
  },
  {
   "cell_type": "markdown",
   "metadata": {},
   "source": [
    "**Pick The Predictor**"
   ]
  },
  {
   "cell_type": "code",
   "execution_count": 101,
   "metadata": {},
   "outputs": [],
   "source": [
    "all_feature_predictor = ast.literal_eval(all_feature_predictor)\n",
    "data_inf_final = data_inf[all_feature_predictor]"
   ]
  },
  {
   "cell_type": "markdown",
   "metadata": {},
   "source": [
    "**Execute the Model (Default Random Forest)**"
   ]
  },
  {
   "cell_type": "code",
   "execution_count": 102,
   "metadata": {},
   "outputs": [
    {
     "data": {
      "text/plain": [
       "array([0, 0, 0, 0, 0, 0, 1, 0, 1, 0], dtype=int64)"
      ]
     },
     "execution_count": 102,
     "metadata": {},
     "output_type": "execute_result"
    }
   ],
   "source": [
    "y_inf_pred1 = model_def_xg.predict(data_inf_final)\n",
    "y_inf_pred1"
   ]
  },
  {
   "cell_type": "markdown",
   "metadata": {},
   "source": [
    "**Execute the Model (Best Params Random Forest)**"
   ]
  },
  {
   "cell_type": "code",
   "execution_count": 103,
   "metadata": {},
   "outputs": [
    {
     "data": {
      "text/plain": [
       "array([0, 0, 0, 0, 0, 0, 1, 0, 1, 1], dtype=int64)"
      ]
     },
     "execution_count": 103,
     "metadata": {},
     "output_type": "execute_result"
    }
   ],
   "source": [
    "y_inf_pred2 = model_hyp_tune_xg.predict(data_inf_final)\n",
    "y_inf_pred2"
   ]
  },
  {
   "cell_type": "markdown",
   "metadata": {},
   "source": [
    "**Input to the dataframe to compare with inference data**"
   ]
  },
  {
   "cell_type": "code",
   "execution_count": 104,
   "metadata": {},
   "outputs": [
    {
     "data": {
      "text/html": [
       "<div>\n",
       "<style scoped>\n",
       "    .dataframe tbody tr th:only-of-type {\n",
       "        vertical-align: middle;\n",
       "    }\n",
       "\n",
       "    .dataframe tbody tr th {\n",
       "        vertical-align: top;\n",
       "    }\n",
       "\n",
       "    .dataframe thead th {\n",
       "        text-align: right;\n",
       "    }\n",
       "</style>\n",
       "<table border=\"1\" class=\"dataframe\">\n",
       "  <thead>\n",
       "    <tr style=\"text-align: right;\">\n",
       "      <th></th>\n",
       "      <th>CustomerID</th>\n",
       "      <th>Churn</th>\n",
       "      <th>Tenure</th>\n",
       "      <th>PreferredLoginDevice</th>\n",
       "      <th>CityTier</th>\n",
       "      <th>WarehouseToHome</th>\n",
       "      <th>PreferredPaymentMode</th>\n",
       "      <th>Gender</th>\n",
       "      <th>HourSpendOnApp</th>\n",
       "      <th>NumberOfDeviceRegistered</th>\n",
       "      <th>PreferedOrderCat</th>\n",
       "      <th>SatisfactionScore</th>\n",
       "      <th>MaritalStatus</th>\n",
       "      <th>NumberOfAddress</th>\n",
       "      <th>Complain</th>\n",
       "      <th>OrderAmountHikeFromlastYear</th>\n",
       "      <th>CouponUsed</th>\n",
       "      <th>OrderCount</th>\n",
       "      <th>DaySinceLastOrder</th>\n",
       "      <th>CashbackAmount</th>\n",
       "      <th>prediction_default_xg</th>\n",
       "      <th>prediction_best_xg</th>\n",
       "    </tr>\n",
       "  </thead>\n",
       "  <tbody>\n",
       "    <tr>\n",
       "      <th>0</th>\n",
       "      <td>53352</td>\n",
       "      <td>0</td>\n",
       "      <td>17.0</td>\n",
       "      <td>Mobile Phone</td>\n",
       "      <td>1</td>\n",
       "      <td>15.0</td>\n",
       "      <td>Debit Card</td>\n",
       "      <td>Female</td>\n",
       "      <td>3.0</td>\n",
       "      <td>4</td>\n",
       "      <td>Laptop &amp; Accessory</td>\n",
       "      <td>4</td>\n",
       "      <td>Married</td>\n",
       "      <td>6</td>\n",
       "      <td>0</td>\n",
       "      <td>22.0</td>\n",
       "      <td>2.0</td>\n",
       "      <td>2.0</td>\n",
       "      <td>1.0</td>\n",
       "      <td>172.65</td>\n",
       "      <td>0</td>\n",
       "      <td>0</td>\n",
       "    </tr>\n",
       "    <tr>\n",
       "      <th>1</th>\n",
       "      <td>52618</td>\n",
       "      <td>0</td>\n",
       "      <td>11.0</td>\n",
       "      <td>Phone</td>\n",
       "      <td>1</td>\n",
       "      <td>12.0</td>\n",
       "      <td>UPI</td>\n",
       "      <td>Female</td>\n",
       "      <td>2.0</td>\n",
       "      <td>4</td>\n",
       "      <td>Mobile Phone</td>\n",
       "      <td>3</td>\n",
       "      <td>Married</td>\n",
       "      <td>2</td>\n",
       "      <td>0</td>\n",
       "      <td>11.0</td>\n",
       "      <td>1.0</td>\n",
       "      <td>1.0</td>\n",
       "      <td>4.0</td>\n",
       "      <td>137.02</td>\n",
       "      <td>0</td>\n",
       "      <td>0</td>\n",
       "    </tr>\n",
       "    <tr>\n",
       "      <th>2</th>\n",
       "      <td>52366</td>\n",
       "      <td>0</td>\n",
       "      <td>20.0</td>\n",
       "      <td>Phone</td>\n",
       "      <td>1</td>\n",
       "      <td>7.0</td>\n",
       "      <td>COD</td>\n",
       "      <td>Male</td>\n",
       "      <td>3.0</td>\n",
       "      <td>3</td>\n",
       "      <td>Mobile</td>\n",
       "      <td>1</td>\n",
       "      <td>Married</td>\n",
       "      <td>8</td>\n",
       "      <td>0</td>\n",
       "      <td>12.0</td>\n",
       "      <td>1.0</td>\n",
       "      <td>1.0</td>\n",
       "      <td>2.0</td>\n",
       "      <td>134.20</td>\n",
       "      <td>0</td>\n",
       "      <td>0</td>\n",
       "    </tr>\n",
       "    <tr>\n",
       "      <th>3</th>\n",
       "      <td>53438</td>\n",
       "      <td>0</td>\n",
       "      <td>12.0</td>\n",
       "      <td>Mobile Phone</td>\n",
       "      <td>3</td>\n",
       "      <td>10.0</td>\n",
       "      <td>Debit Card</td>\n",
       "      <td>Male</td>\n",
       "      <td>3.0</td>\n",
       "      <td>4</td>\n",
       "      <td>Laptop &amp; Accessory</td>\n",
       "      <td>2</td>\n",
       "      <td>Single</td>\n",
       "      <td>10</td>\n",
       "      <td>1</td>\n",
       "      <td>13.0</td>\n",
       "      <td>2.0</td>\n",
       "      <td>2.0</td>\n",
       "      <td>1.0</td>\n",
       "      <td>193.61</td>\n",
       "      <td>0</td>\n",
       "      <td>0</td>\n",
       "    </tr>\n",
       "    <tr>\n",
       "      <th>4</th>\n",
       "      <td>52339</td>\n",
       "      <td>0</td>\n",
       "      <td>0.0</td>\n",
       "      <td>Mobile Phone</td>\n",
       "      <td>3</td>\n",
       "      <td>24.0</td>\n",
       "      <td>Debit Card</td>\n",
       "      <td>Male</td>\n",
       "      <td>3.0</td>\n",
       "      <td>1</td>\n",
       "      <td>Laptop &amp; Accessory</td>\n",
       "      <td>3</td>\n",
       "      <td>Married</td>\n",
       "      <td>3</td>\n",
       "      <td>0</td>\n",
       "      <td>11.0</td>\n",
       "      <td>1.0</td>\n",
       "      <td>1.0</td>\n",
       "      <td>2.0</td>\n",
       "      <td>162.32</td>\n",
       "      <td>0</td>\n",
       "      <td>0</td>\n",
       "    </tr>\n",
       "    <tr>\n",
       "      <th>5</th>\n",
       "      <td>51184</td>\n",
       "      <td>0</td>\n",
       "      <td>11.0</td>\n",
       "      <td>Mobile Phone</td>\n",
       "      <td>3</td>\n",
       "      <td>8.0</td>\n",
       "      <td>E wallet</td>\n",
       "      <td>Female</td>\n",
       "      <td>3.0</td>\n",
       "      <td>5</td>\n",
       "      <td>Laptop &amp; Accessory</td>\n",
       "      <td>1</td>\n",
       "      <td>Married</td>\n",
       "      <td>3</td>\n",
       "      <td>1</td>\n",
       "      <td>20.0</td>\n",
       "      <td>0.0</td>\n",
       "      <td>1.0</td>\n",
       "      <td>3.0</td>\n",
       "      <td>154.05</td>\n",
       "      <td>0</td>\n",
       "      <td>0</td>\n",
       "    </tr>\n",
       "    <tr>\n",
       "      <th>6</th>\n",
       "      <td>53411</td>\n",
       "      <td>1</td>\n",
       "      <td>1.0</td>\n",
       "      <td>Phone</td>\n",
       "      <td>1</td>\n",
       "      <td>29.0</td>\n",
       "      <td>Debit Card</td>\n",
       "      <td>Female</td>\n",
       "      <td>3.0</td>\n",
       "      <td>4</td>\n",
       "      <td>Mobile Phone</td>\n",
       "      <td>3</td>\n",
       "      <td>Divorced</td>\n",
       "      <td>6</td>\n",
       "      <td>1</td>\n",
       "      <td>12.0</td>\n",
       "      <td>1.0</td>\n",
       "      <td>2.0</td>\n",
       "      <td>2.0</td>\n",
       "      <td>146.32</td>\n",
       "      <td>1</td>\n",
       "      <td>1</td>\n",
       "    </tr>\n",
       "    <tr>\n",
       "      <th>7</th>\n",
       "      <td>52384</td>\n",
       "      <td>0</td>\n",
       "      <td>21.0</td>\n",
       "      <td>Mobile Phone</td>\n",
       "      <td>3</td>\n",
       "      <td>13.0</td>\n",
       "      <td>E wallet</td>\n",
       "      <td>Male</td>\n",
       "      <td>3.0</td>\n",
       "      <td>3</td>\n",
       "      <td>Laptop &amp; Accessory</td>\n",
       "      <td>5</td>\n",
       "      <td>Married</td>\n",
       "      <td>5</td>\n",
       "      <td>0</td>\n",
       "      <td>11.0</td>\n",
       "      <td>0.0</td>\n",
       "      <td>2.0</td>\n",
       "      <td>2.0</td>\n",
       "      <td>154.86</td>\n",
       "      <td>0</td>\n",
       "      <td>0</td>\n",
       "    </tr>\n",
       "    <tr>\n",
       "      <th>8</th>\n",
       "      <td>51166</td>\n",
       "      <td>1</td>\n",
       "      <td>0.0</td>\n",
       "      <td>Computer</td>\n",
       "      <td>1</td>\n",
       "      <td>15.0</td>\n",
       "      <td>Debit Card</td>\n",
       "      <td>Male</td>\n",
       "      <td>3.0</td>\n",
       "      <td>3</td>\n",
       "      <td>Laptop &amp; Accessory</td>\n",
       "      <td>5</td>\n",
       "      <td>Married</td>\n",
       "      <td>5</td>\n",
       "      <td>0</td>\n",
       "      <td>17.0</td>\n",
       "      <td>0.0</td>\n",
       "      <td>1.0</td>\n",
       "      <td>7.0</td>\n",
       "      <td>153.46</td>\n",
       "      <td>1</td>\n",
       "      <td>1</td>\n",
       "    </tr>\n",
       "    <tr>\n",
       "      <th>9</th>\n",
       "      <td>55452</td>\n",
       "      <td>1</td>\n",
       "      <td>1.0</td>\n",
       "      <td>Mobile Phone</td>\n",
       "      <td>1</td>\n",
       "      <td>17.0</td>\n",
       "      <td>Credit Card</td>\n",
       "      <td>Male</td>\n",
       "      <td>3.0</td>\n",
       "      <td>4</td>\n",
       "      <td>Laptop &amp; Accessory</td>\n",
       "      <td>5</td>\n",
       "      <td>Single</td>\n",
       "      <td>3</td>\n",
       "      <td>0</td>\n",
       "      <td>16.0</td>\n",
       "      <td>1.0</td>\n",
       "      <td>2.0</td>\n",
       "      <td>9.0</td>\n",
       "      <td>167.13</td>\n",
       "      <td>0</td>\n",
       "      <td>1</td>\n",
       "    </tr>\n",
       "  </tbody>\n",
       "</table>\n",
       "</div>"
      ],
      "text/plain": [
       "   CustomerID  Churn  Tenure PreferredLoginDevice  CityTier  WarehouseToHome  \\\n",
       "0       53352      0    17.0         Mobile Phone         1             15.0   \n",
       "1       52618      0    11.0                Phone         1             12.0   \n",
       "2       52366      0    20.0                Phone         1              7.0   \n",
       "3       53438      0    12.0         Mobile Phone         3             10.0   \n",
       "4       52339      0     0.0         Mobile Phone         3             24.0   \n",
       "5       51184      0    11.0         Mobile Phone         3              8.0   \n",
       "6       53411      1     1.0                Phone         1             29.0   \n",
       "7       52384      0    21.0         Mobile Phone         3             13.0   \n",
       "8       51166      1     0.0             Computer         1             15.0   \n",
       "9       55452      1     1.0         Mobile Phone         1             17.0   \n",
       "\n",
       "  PreferredPaymentMode  Gender  HourSpendOnApp  NumberOfDeviceRegistered  \\\n",
       "0           Debit Card  Female             3.0                         4   \n",
       "1                  UPI  Female             2.0                         4   \n",
       "2                  COD    Male             3.0                         3   \n",
       "3           Debit Card    Male             3.0                         4   \n",
       "4           Debit Card    Male             3.0                         1   \n",
       "5             E wallet  Female             3.0                         5   \n",
       "6           Debit Card  Female             3.0                         4   \n",
       "7             E wallet    Male             3.0                         3   \n",
       "8           Debit Card    Male             3.0                         3   \n",
       "9          Credit Card    Male             3.0                         4   \n",
       "\n",
       "     PreferedOrderCat  SatisfactionScore MaritalStatus  NumberOfAddress  \\\n",
       "0  Laptop & Accessory                  4       Married                6   \n",
       "1        Mobile Phone                  3       Married                2   \n",
       "2              Mobile                  1       Married                8   \n",
       "3  Laptop & Accessory                  2        Single               10   \n",
       "4  Laptop & Accessory                  3       Married                3   \n",
       "5  Laptop & Accessory                  1       Married                3   \n",
       "6        Mobile Phone                  3      Divorced                6   \n",
       "7  Laptop & Accessory                  5       Married                5   \n",
       "8  Laptop & Accessory                  5       Married                5   \n",
       "9  Laptop & Accessory                  5        Single                3   \n",
       "\n",
       "   Complain  OrderAmountHikeFromlastYear  CouponUsed  OrderCount  \\\n",
       "0         0                         22.0         2.0         2.0   \n",
       "1         0                         11.0         1.0         1.0   \n",
       "2         0                         12.0         1.0         1.0   \n",
       "3         1                         13.0         2.0         2.0   \n",
       "4         0                         11.0         1.0         1.0   \n",
       "5         1                         20.0         0.0         1.0   \n",
       "6         1                         12.0         1.0         2.0   \n",
       "7         0                         11.0         0.0         2.0   \n",
       "8         0                         17.0         0.0         1.0   \n",
       "9         0                         16.0         1.0         2.0   \n",
       "\n",
       "   DaySinceLastOrder  CashbackAmount  prediction_default_xg  \\\n",
       "0                1.0          172.65                      0   \n",
       "1                4.0          137.02                      0   \n",
       "2                2.0          134.20                      0   \n",
       "3                1.0          193.61                      0   \n",
       "4                2.0          162.32                      0   \n",
       "5                3.0          154.05                      0   \n",
       "6                2.0          146.32                      1   \n",
       "7                2.0          154.86                      0   \n",
       "8                7.0          153.46                      1   \n",
       "9                9.0          167.13                      0   \n",
       "\n",
       "   prediction_best_xg  \n",
       "0                   0  \n",
       "1                   0  \n",
       "2                   0  \n",
       "3                   0  \n",
       "4                   0  \n",
       "5                   0  \n",
       "6                   1  \n",
       "7                   0  \n",
       "8                   1  \n",
       "9                   1  "
      ]
     },
     "execution_count": 104,
     "metadata": {},
     "output_type": "execute_result"
    }
   ],
   "source": [
    "y_inf_pred1 = pd.DataFrame(y_inf_pred1, columns=['prediction_default_xg'])\n",
    "y_inf_pred2 = pd.DataFrame(y_inf_pred2, columns=['prediction_best_xg'])\n",
    "data_inf__pred_result=pd.concat([data_inf, y_inf_pred1, y_inf_pred2],axis=1)\n",
    "data_inf__pred_result"
   ]
  },
  {
   "cell_type": "markdown",
   "metadata": {},
   "source": [
    "- Model XGBoost dengan best parameter telah berhasil diaplikasikan pada data inference.\n",
    "- Berdasarkan tabel diatas, model XGBoost dengan best parameter dapat memprediksi target dengan sangat tepat."
   ]
  },
  {
   "cell_type": "markdown",
   "metadata": {},
   "source": [
    "---\n",
    "# 11. Pengambilan Kesimpulan"
   ]
  },
  {
   "cell_type": "markdown",
   "metadata": {},
   "source": [
    "## 1. Analisa EDA singkat"
   ]
  },
  {
   "cell_type": "code",
   "execution_count": 105,
   "metadata": {},
   "outputs": [
    {
     "name": "stdout",
     "output_type": "stream",
     "text": [
      "Churn: 16.838365896980463 %\n",
      "Retained: 83.16163410301954 %\n"
     ]
    },
    {
     "data": {
      "image/png": "[encoded data removed]",
      "text/plain": [
       "<Figure size 432x288 with 1 Axes>"
      ]
     },
     "metadata": {
      "needs_background": "light"
     },
     "output_type": "display_data"
    }
   ],
   "source": [
    "yes=data[data['Churn']==1][\"Churn\"].count()\n",
    "no=data[data['Churn']==0][\"Churn\"].count()\n",
    "print(\"Churn:\",yes/(yes+no)*100 , \"%\")\n",
    "print(\"Retained:\",no/(yes+no)*100 , \"%\")\n",
    "\n",
    "cplt =data.groupby(['Churn'])['Churn'].count().reset_index(name='Counts')\n",
    "sns.barplot(x='Churn', y='Counts',data=cplt)\n",
    "plt.ylabel(\"Frequency\")\n",
    "plt.show()"
   ]
  },
  {
   "cell_type": "markdown",
   "metadata": {},
   "source": [
    "- Customer pada perusahaan ecommerce ini memiliki customer churn yang lebih sedikit <20% dari keseluruhan data."
   ]
  },
  {
   "cell_type": "code",
   "execution_count": 106,
   "metadata": {},
   "outputs": [
    {
     "data": {
      "image/png": "[encoded data removed]",
      "text/plain": [
       "<Figure size 1440x360 with 2 Axes>"
      ]
     },
     "metadata": {
      "needs_background": "light"
     },
     "output_type": "display_data"
    }
   ],
   "source": [
    "plt.figure(figsize=(20,5))\n",
    "plt.subplot(121)\n",
    "odc =data.groupby(['Churn'])['Tenure'].mean().reset_index(name='mean')\n",
    "sns.barplot(x='Churn', y='mean',data=odc)\n",
    "plt.ylabel(\"Mean Tenure\")\n",
    "\n",
    "plt.subplot(122)\n",
    "odcl =data.groupby(['Tenure', 'Churn'])['OrderCount'].count().reset_index(name='Counts')\n",
    "sns.lineplot(x='Tenure', y='Counts', hue=\"Churn\",data=odcl, style=\"Churn\",markers=True)\n",
    "plt.ylabel(\"Frequency\")\n",
    "\n",
    "plt.show()"
   ]
  },
  {
   "cell_type": "markdown",
   "metadata": {},
   "source": [
    "- Customer yang memiliki masa tenure lebih rendah memiliki jumlah churn yang lebih banyak.\n",
    "- Mean Tenure dari customer churn jauh lebih rendah daripda yang tidak churn.\n",
    "- Tenure adalah feature yang paling mempengaruhi prediksi dari customer churn."
   ]
  },
  {
   "cell_type": "markdown",
   "metadata": {},
   "source": [
    "## 2. Feature Importance"
   ]
  },
  {
   "cell_type": "code",
   "execution_count": 107,
   "metadata": {},
   "outputs": [
    {
     "data": {
      "text/plain": [
       "array([0.24301659, 0.06492206, 0.04120595, 0.05095473, 0.06000771,\n",
       "       0.05362642, 0.04321049, 0.03505148, 0.08344589, 0.09753545,\n",
       "       0.00980963, 0.01041489, 0.00782551, 0.00635527, 0.01400035,\n",
       "       0.01137171, 0.00976815, 0.00472708, 0.01378062, 0.0124876 ,\n",
       "       0.00915998, 0.00372535, 0.02510009, 0.01016762, 0.01136331,\n",
       "       0.00383341, 0.00761494, 0.01253355, 0.04298418])"
      ]
     },
     "execution_count": 107,
     "metadata": {},
     "output_type": "execute_result"
    }
   ],
   "source": [
    "f_imp = pipe_rf.steps[1][1].feature_importances_\n",
    "f_imp\n"
   ]
  },
  {
   "cell_type": "markdown",
   "metadata": {},
   "source": [
    "1,10,2,5,4 = ('Tenure','CashbackAmount','WarehouseToHome', 'NumberOfAddress', 'NumberOfDeviceRegistered')"
   ]
  },
  {
   "cell_type": "code",
   "execution_count": 108,
   "metadata": {},
   "outputs": [
    {
     "data": {
      "text/html": [
       "<style>#sk-container-id-1 {color: black;background-color: white;}#sk-container-id-1 pre{padding: 0;}#sk-container-id-1 div.sk-toggleable {background-color: white;}#sk-container-id-1 label.sk-toggleable__label {cursor: pointer;display: block;width: 100%;margin-bottom: 0;padding: 0.3em;box-sizing: border-box;text-align: center;}#sk-container-id-1 label.sk-toggleable__label-arrow:before {content: \"▸\";float: left;margin-right: 0.25em;color: #696969;}#sk-container-id-1 label.sk-toggleable__label-arrow:hover:before {color: black;}#sk-container-id-1 div.sk-estimator:hover label.sk-toggleable__label-arrow:before {color: black;}#sk-container-id-1 div.sk-toggleable__content {max-height: 0;max-width: 0;overflow: hidden;text-align: left;background-color: #f0f8ff;}#sk-container-id-1 div.sk-toggleable__content pre {margin: 0.2em;color: black;border-radius: 0.25em;background-color: #f0f8ff;}#sk-container-id-1 input.sk-toggleable__control:checked~div.sk-toggleable__content {max-height: 200px;max-width: 100%;overflow: auto;}#sk-container-id-1 input.sk-toggleable__control:checked~label.sk-toggleable__label-arrow:before {content: \"▾\";}#sk-container-id-1 div.sk-estimator input.sk-toggleable__control:checked~label.sk-toggleable__label {background-color: #d4ebff;}#sk-container-id-1 div.sk-label input.sk-toggleable__control:checked~label.sk-toggleable__label {background-color: #d4ebff;}#sk-container-id-1 input.sk-hidden--visually {border: 0;clip: rect(1px 1px 1px 1px);clip: rect(1px, 1px, 1px, 1px);height: 1px;margin: -1px;overflow: hidden;padding: 0;position: absolute;width: 1px;}#sk-container-id-1 div.sk-estimator {font-family: monospace;background-color: #f0f8ff;border: 1px dotted black;border-radius: 0.25em;box-sizing: border-box;margin-bottom: 0.5em;}#sk-container-id-1 div.sk-estimator:hover {background-color: #d4ebff;}#sk-container-id-1 div.sk-parallel-item::after {content: \"\";width: 100%;border-bottom: 1px solid gray;flex-grow: 1;}#sk-container-id-1 div.sk-label:hover label.sk-toggleable__label {background-color: #d4ebff;}#sk-container-id-1 div.sk-serial::before {content: \"\";position: absolute;border-left: 1px solid gray;box-sizing: border-box;top: 0;bottom: 0;left: 50%;z-index: 0;}#sk-container-id-1 div.sk-serial {display: flex;flex-direction: column;align-items: center;background-color: white;padding-right: 0.2em;padding-left: 0.2em;position: relative;}#sk-container-id-1 div.sk-item {position: relative;z-index: 1;}#sk-container-id-1 div.sk-parallel {display: flex;align-items: stretch;justify-content: center;background-color: white;position: relative;}#sk-container-id-1 div.sk-item::before, #sk-container-id-1 div.sk-parallel-item::before {content: \"\";position: absolute;border-left: 1px solid gray;box-sizing: border-box;top: 0;bottom: 0;left: 50%;z-index: -1;}#sk-container-id-1 div.sk-parallel-item {display: flex;flex-direction: column;z-index: 1;position: relative;background-color: white;}#sk-container-id-1 div.sk-parallel-item:first-child::after {align-self: flex-end;width: 50%;}#sk-container-id-1 div.sk-parallel-item:last-child::after {align-self: flex-start;width: 50%;}#sk-container-id-1 div.sk-parallel-item:only-child::after {width: 0;}#sk-container-id-1 div.sk-dashed-wrapped {border: 1px dashed gray;margin: 0 0.4em 0.5em 0.4em;box-sizing: border-box;padding-bottom: 0.4em;background-color: white;}#sk-container-id-1 div.sk-label label {font-family: monospace;font-weight: bold;display: inline-block;line-height: 1.2em;}#sk-container-id-1 div.sk-label-container {text-align: center;}#sk-container-id-1 div.sk-container {/* jupyter's `normalize.less` sets `[hidden] { display: none; }` but bootstrap.min.css set `[hidden] { display: none !important; }` so we also need the `!important` here to be able to override the default hidden behavior on the sphinx rendered scikit-learn.org. See: https://github.com/scikit-learn/scikit-learn/issues/21755 */display: inline-block !important;position: relative;}#sk-container-id-1 div.sk-text-repr-fallback {display: none;}</style><div id=\"sk-container-id-1\" class=\"sk-top-container\"><div class=\"sk-text-repr-fallback\"><pre>ColumnTransformer(transformers=[(&#x27;minmaxScaler&#x27;, MinMaxScaler(),\n",
       "                                 [&#x27;Tenure&#x27;, &#x27;WarehouseToHome&#x27;, &#x27;HourSpendOnApp&#x27;,\n",
       "                                  &#x27;NumberOfDeviceRegistered&#x27;, &#x27;NumberOfAddress&#x27;,\n",
       "                                  &#x27;OrderAmountHikeFromlastYear&#x27;, &#x27;CouponUsed&#x27;,\n",
       "                                  &#x27;OrderCount&#x27;, &#x27;DaySinceLastOrder&#x27;,\n",
       "                                  &#x27;CashbackAmount&#x27;]),\n",
       "                                (&#x27;OHE&#x27;, OneHotEncoder(),\n",
       "                                 [&#x27;PreferredLoginDevice&#x27;,\n",
       "                                  &#x27;PreferredPaymentMode&#x27;, &#x27;Gender&#x27;,\n",
       "                                  &#x27;PreferedOrderCat&#x27;, &#x27;MaritalStatus&#x27;])])</pre><b>In a Jupyter environment, please rerun this cell to show the HTML representation or trust the notebook. <br />On GitHub, the HTML representation is unable to render, please try loading this page with nbviewer.org.</b></div><div class=\"sk-container\" hidden><div class=\"sk-item sk-dashed-wrapped\"><div class=\"sk-label-container\"><div class=\"sk-label sk-toggleable\"><input class=\"sk-toggleable__control sk-hidden--visually\" id=\"sk-estimator-id-1\" type=\"checkbox\" ><label for=\"sk-estimator-id-1\" class=\"sk-toggleable__label sk-toggleable__label-arrow\">ColumnTransformer</label><div class=\"sk-toggleable__content\"><pre>ColumnTransformer(transformers=[(&#x27;minmaxScaler&#x27;, MinMaxScaler(),\n",
       "                                 [&#x27;Tenure&#x27;, &#x27;WarehouseToHome&#x27;, &#x27;HourSpendOnApp&#x27;,\n",
       "                                  &#x27;NumberOfDeviceRegistered&#x27;, &#x27;NumberOfAddress&#x27;,\n",
       "                                  &#x27;OrderAmountHikeFromlastYear&#x27;, &#x27;CouponUsed&#x27;,\n",
       "                                  &#x27;OrderCount&#x27;, &#x27;DaySinceLastOrder&#x27;,\n",
       "                                  &#x27;CashbackAmount&#x27;]),\n",
       "                                (&#x27;OHE&#x27;, OneHotEncoder(),\n",
       "                                 [&#x27;PreferredLoginDevice&#x27;,\n",
       "                                  &#x27;PreferredPaymentMode&#x27;, &#x27;Gender&#x27;,\n",
       "                                  &#x27;PreferedOrderCat&#x27;, &#x27;MaritalStatus&#x27;])])</pre></div></div></div><div class=\"sk-parallel\"><div class=\"sk-parallel-item\"><div class=\"sk-item\"><div class=\"sk-label-container\"><div class=\"sk-label sk-toggleable\"><input class=\"sk-toggleable__control sk-hidden--visually\" id=\"sk-estimator-id-2\" type=\"checkbox\" ><label for=\"sk-estimator-id-2\" class=\"sk-toggleable__label sk-toggleable__label-arrow\">minmaxScaler</label><div class=\"sk-toggleable__content\"><pre>[&#x27;Tenure&#x27;, &#x27;WarehouseToHome&#x27;, &#x27;HourSpendOnApp&#x27;, &#x27;NumberOfDeviceRegistered&#x27;, &#x27;NumberOfAddress&#x27;, &#x27;OrderAmountHikeFromlastYear&#x27;, &#x27;CouponUsed&#x27;, &#x27;OrderCount&#x27;, &#x27;DaySinceLastOrder&#x27;, &#x27;CashbackAmount&#x27;]</pre></div></div></div><div class=\"sk-serial\"><div class=\"sk-item\"><div class=\"sk-estimator sk-toggleable\"><input class=\"sk-toggleable__control sk-hidden--visually\" id=\"sk-estimator-id-3\" type=\"checkbox\" ><label for=\"sk-estimator-id-3\" class=\"sk-toggleable__label sk-toggleable__label-arrow\">MinMaxScaler</label><div class=\"sk-toggleable__content\"><pre>MinMaxScaler()</pre></div></div></div></div></div></div><div class=\"sk-parallel-item\"><div class=\"sk-item\"><div class=\"sk-label-container\"><div class=\"sk-label sk-toggleable\"><input class=\"sk-toggleable__control sk-hidden--visually\" id=\"sk-estimator-id-4\" type=\"checkbox\" ><label for=\"sk-estimator-id-4\" class=\"sk-toggleable__label sk-toggleable__label-arrow\">OHE</label><div class=\"sk-toggleable__content\"><pre>[&#x27;PreferredLoginDevice&#x27;, &#x27;PreferredPaymentMode&#x27;, &#x27;Gender&#x27;, &#x27;PreferedOrderCat&#x27;, &#x27;MaritalStatus&#x27;]</pre></div></div></div><div class=\"sk-serial\"><div class=\"sk-item\"><div class=\"sk-estimator sk-toggleable\"><input class=\"sk-toggleable__control sk-hidden--visually\" id=\"sk-estimator-id-5\" type=\"checkbox\" ><label for=\"sk-estimator-id-5\" class=\"sk-toggleable__label sk-toggleable__label-arrow\">OneHotEncoder</label><div class=\"sk-toggleable__content\"><pre>OneHotEncoder()</pre></div></div></div></div></div></div></div></div></div></div>"
      ],
      "text/plain": [
       "ColumnTransformer(transformers=[('minmaxScaler', MinMaxScaler(),\n",
       "                                 ['Tenure', 'WarehouseToHome', 'HourSpendOnApp',\n",
       "                                  'NumberOfDeviceRegistered', 'NumberOfAddress',\n",
       "                                  'OrderAmountHikeFromlastYear', 'CouponUsed',\n",
       "                                  'OrderCount', 'DaySinceLastOrder',\n",
       "                                  'CashbackAmount']),\n",
       "                                ('OHE', OneHotEncoder(),\n",
       "                                 ['PreferredLoginDevice',\n",
       "                                  'PreferredPaymentMode', 'Gender',\n",
       "                                  'PreferedOrderCat', 'MaritalStatus'])])"
      ]
     },
     "execution_count": 108,
     "metadata": {},
     "output_type": "execute_result"
    }
   ],
   "source": [
    "pipe_rf.steps[0][1]"
   ]
  },
  {
   "cell_type": "markdown",
   "metadata": {},
   "source": [
    "Berdasarkan hasil feature importance pada hasil terbaik XGBoost, dapat ditentukan fitur yang memiliki pengaruh tinggi pada model antara lain :\n",
    "1. 'Tenure'\n",
    "2. 'CashbackAmount'\n",
    "3. 'WarehouseToHome' \n",
    "4. 'NumberOfAddress'\n",
    "5. 'NumberOfDeviceRegistered'"
   ]
  },
  {
   "cell_type": "markdown",
   "metadata": {},
   "source": [
    "sehingga beberapa fitur diatas adalah faktor yang harus dipertimbangkan dalam mengatur strategi marketing untuk menghindari Customer Churn."
   ]
  },
  {
   "cell_type": "markdown",
   "metadata": {},
   "source": [
    "## 3. Pemilihan model terbaik"
   ]
  },
  {
   "cell_type": "markdown",
   "metadata": {},
   "source": [
    "1. **RF Default**\n",
    "    - roc-auc-score train = 1\n",
    "    - roc-auc-score test = 0.8885\n",
    "2. **RF after hyperparameter tuning**\n",
    "    - roc-auc-score train = 1\n",
    "    - roc-auc-score test = 0.8857\n",
    "3. **DT Default**\n",
    "    - roc-auc-score train = 1\n",
    "    - roc-auc-score test = 0.894\n",
    "4. **DT after hyperparameter tuning**\n",
    "    - roc-auc-score train = 0.928\n",
    "    - roc-auc-score test = 0.786\n",
    "5. **XGBoost Default**\n",
    "    - roc-auc-score train = 0.926\n",
    "    - roc-auc-score test = 0.783\n",
    "6. **XGBoost after hyperparameter tuning**\n",
    "    - roc-auc-score train = 1\n",
    "    - roc-auc-score test = 0.939"
   ]
  },
  {
   "cell_type": "markdown",
   "metadata": {},
   "source": [
    "**Sehingga dari score roc-auc diatas, dapat diambil kesimpulan bahwa model terbaik dengan score roc-auc-score pada dataset test tertinggi adalah XGBoost setelah dilakukan tuning hyperparameter dengan parameter {'xg__criterion': 'friedman_mse', 'xg__learning_rate': 1.0, 'xg__n_estimators': 1000}, dan model ini siap dideploy untuk diaplikasikan**"
   ]
  }
 ],
 "metadata": {
  "interpreter": {
   "hash": "18520a88cdea9c1034b52c0a5752dbaffa347324be40a9f8e81bf7d6862bbd32"
  },
  "kernelspec": {
   "display_name": "Python 3.9.7 ('base')",
   "language": "python",
   "name": "python3"
  },
  "language_info": {
   "codemirror_mode": {
    "name": "ipython",
    "version": 3
   },
   "file_extension": ".py",
   "mimetype": "text/x-python",
   "name": "python",
   "nbconvert_exporter": "python",
   "pygments_lexer": "ipython3",
   "version": "3.9.7"
  },
  "orig_nbformat": 4
 },
 "nbformat": 4,
 "nbformat_minor": 2
}
